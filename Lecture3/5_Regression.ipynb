{
 "cells": [
  {
   "cell_type": "markdown",
   "id": "9411a226",
   "metadata": {},
   "source": [
    "## Regression example using the supercondactivty dataset\n",
    "\n",
    "The dataset can also be found here:\n",
    "\n",
    "https://archive.ics.uci.edu/dataset/464/superconductivty+data"
   ]
  },
  {
   "cell_type": "code",
   "execution_count": null,
   "id": "07b3d1d2",
   "metadata": {},
   "outputs": [],
   "source": [
    "import pandas as pd\n",
    "import numpy as np\n",
    "import matplotlib.pyplot as plt\n",
    "from sklearn.model_selection import train_test_split\n",
    "from sklearn.metrics import mean_squared_error"
   ]
  },
  {
   "cell_type": "code",
   "execution_count": null,
   "id": "aa14310d",
   "metadata": {},
   "outputs": [],
   "source": [
    "import pandas as pd\n",
    "df = pd.read_csv('train.csv')"
   ]
  },
  {
   "cell_type": "code",
   "execution_count": null,
   "id": "b67a9020",
   "metadata": {},
   "outputs": [],
   "source": [
    "df.head()"
   ]
  },
  {
   "cell_type": "code",
   "execution_count": null,
   "id": "56824f9b",
   "metadata": {},
   "outputs": [],
   "source": [
    "Y = df['critical_temp']\n",
    "X = df[[col for col in df.columns if col!=\"critical_temp\"]]"
   ]
  },
  {
   "cell_type": "code",
   "execution_count": null,
   "id": "5ec700d6",
   "metadata": {},
   "outputs": [],
   "source": [
    "X"
   ]
  },
  {
   "cell_type": "code",
   "execution_count": null,
   "id": "fb73f939",
   "metadata": {},
   "outputs": [],
   "source": [
    "Y"
   ]
  },
  {
   "cell_type": "code",
   "execution_count": null,
   "id": "cf5a7a82",
   "metadata": {},
   "outputs": [],
   "source": [
    "from sklearn.model_selection import train_test_split\n",
    "#test_size is the percentage of the test size to the complete dataset\n",
    "# random_state is the seed. A specific pseudorandom number to split the data set\n",
    "# in order to produce same splitting every time we run the script.\n",
    "X_train, X_test, Y_train, Y_test = train_test_split(X, Y, test_size = 0.25, random_state = 42)"
   ]
  },
  {
   "cell_type": "code",
   "execution_count": null,
   "id": "87c6511d",
   "metadata": {},
   "outputs": [],
   "source": [
    "from sklearn.neighbors import KNeighborsRegressor\n",
    "KNReg = KNeighborsRegressor(n_neighbors = 5, metric = 'minkowski', p = 2)\n",
    "\n",
    "from sklearn.tree import DecisionTreeRegressor\n",
    "DTReg = DecisionTreeRegressor()\n",
    "\n",
    "from sklearn.ensemble import RandomForestRegressor\n",
    "RFReg = RandomForestRegressor(n_estimators=20)"
   ]
  },
  {
   "cell_type": "code",
   "execution_count": null,
   "id": "c70d561d",
   "metadata": {},
   "outputs": [],
   "source": [
    "KNReg.fit(X_train, Y_train)\n",
    "\n",
    "KNReg_pred = KNReg.predict(X_test)"
   ]
  },
  {
   "cell_type": "code",
   "execution_count": null,
   "id": "e954dd85",
   "metadata": {},
   "outputs": [],
   "source": [
    "KNReg_pred"
   ]
  },
  {
   "cell_type": "markdown",
   "id": "53189941",
   "metadata": {},
   "source": [
    "## Plotting true versus predicted values of the critical temperature"
   ]
  },
  {
   "cell_type": "code",
   "execution_count": null,
   "id": "dabfe720",
   "metadata": {},
   "outputs": [],
   "source": [
    "plt.scatter(Y_test, KNReg_pred, s=5)\n",
    "plt.xlabel(\"True Critical Temperature (K)\", fontsize=16)\n",
    "plt.ylabel(\"Predicted Critical Temperature (K)\", fontsize=16)\n",
    "#plt.savefig(\"critical_temperature.pdf\")"
   ]
  },
  {
   "cell_type": "markdown",
   "id": "63318ff6",
   "metadata": {},
   "source": [
    "### Root Mean Square Error \n",
    "\n",
    "Represents the square root of the average squared differences between predicted and observed outcomes\n",
    "\n",
    "It is a measurement of prediction error. RMSE can provide significant insights into the performance and reliability of predictive models."
   ]
  },
  {
   "cell_type": "code",
   "execution_count": null,
   "id": "a80faa36",
   "metadata": {
    "scrolled": true
   },
   "outputs": [],
   "source": [
    "regressors = [KNReg, DTReg, RFReg]\n",
    "\n",
    "for reg in regressors:\n",
    "\n",
    "    reg.fit(X_train, Y_train)\n",
    "    \n",
    "    Y_pred = reg.predict(X_test)\n",
    "    \n",
    "    rms = mean_squared_error(Y_test, Y_pred, squared=False)\n",
    "    \n",
    "    print(f\"root mean square error {rms:.2f}\\n\")"
   ]
  }
 ],
 "metadata": {
  "kernelspec": {
   "display_name": "Python 3 (ipykernel)",
   "language": "python",
   "name": "python3"
  },
  "language_info": {
   "codemirror_mode": {
    "name": "ipython",
    "version": 3
   },
   "file_extension": ".py",
   "mimetype": "text/x-python",
   "name": "python",
   "nbconvert_exporter": "python",
   "pygments_lexer": "ipython3",
   "version": "3.11.7"
  }
 },
 "nbformat": 4,
 "nbformat_minor": 5
}

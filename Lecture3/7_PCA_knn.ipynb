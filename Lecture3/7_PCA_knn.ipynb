{
 "cells": [
  {
   "cell_type": "markdown",
   "id": "e0daa12a",
   "metadata": {},
   "source": [
    "# Supervised machine Learning - Classification\n",
    "\n",
    "## Splitting the initial dataset\n",
    "\n",
    "As mentioned in the introduction, supervised machine learning is the process of finding a future result, using a model created by an algorithm from known results.\n",
    "\n",
    "Now it is time to apply the machine learning algorithms in order to make a prediction. But what type of prediction could be applied when the results are already known? In the specific dataset () there are distinctive results.\n",
    "\n",
    "It is time to make an agreement. In order to continue, we should divide our dataset into two groups. The first one, the larger (usually 70%-80% of the initial dataset) should be our **training set**. The dataset that we are going to use the algorithm with the known results in order to create a model. The rest of the initial dataset could be used as a **test set,** the set to apply the model and test it, checking and counting the agreement of predicted results with the observed ones, the **accuracy** of the model."
   ]
  },
  {
   "cell_type": "code",
   "execution_count": null,
   "id": "603b6eaf",
   "metadata": {},
   "outputs": [],
   "source": [
    "from sklearn.decomposition import PCA"
   ]
  },
  {
   "cell_type": "code",
   "execution_count": null,
   "id": "07b3d1d2",
   "metadata": {},
   "outputs": [],
   "source": [
    "import pandas as pd\n",
    "df = pd.read_csv('sonar.all-data.csv',header=None)\n",
    "#all rows all columns but last\n",
    "sonar = df.iloc[:, :-1].values\n",
    "#all rows, only the last column\n",
    "sonar_class = df.iloc[:, -1].values"
   ]
  },
  {
   "cell_type": "code",
   "execution_count": null,
   "id": "431deb5e",
   "metadata": {},
   "outputs": [],
   "source": [
    "sonar"
   ]
  },
  {
   "cell_type": "code",
   "execution_count": null,
   "id": "45d10fcd",
   "metadata": {},
   "outputs": [],
   "source": [
    "sonar_class"
   ]
  },
  {
   "cell_type": "code",
   "execution_count": null,
   "id": "2cbf753a",
   "metadata": {},
   "outputs": [],
   "source": [
    "from sklearn.model_selection import train_test_split\n",
    "#test_size is the percentage of the test size to the complete dataset\n",
    "# random_state is the seed. A specific pseudorandom number to split the data set\n",
    "# in order to produce same splitting every time we run the script.\n",
    "sonar_train, sonar_test, sonar_class_train, sonar_class_test = train_test_split(sonar, sonar_class, test_size = 0.25, random_state = 42)"
   ]
  },
  {
   "cell_type": "code",
   "execution_count": null,
   "id": "ea2d6a2f",
   "metadata": {},
   "outputs": [],
   "source": [
    "sonar_train"
   ]
  },
  {
   "cell_type": "code",
   "execution_count": null,
   "id": "a0cc2cfe",
   "metadata": {},
   "outputs": [],
   "source": [
    "sonar_test"
   ]
  },
  {
   "cell_type": "code",
   "execution_count": null,
   "id": "0f6de46b",
   "metadata": {},
   "outputs": [],
   "source": [
    "# the train set responses of the dataset\n",
    "sonar_class_train"
   ]
  },
  {
   "cell_type": "code",
   "execution_count": null,
   "id": "3da10345",
   "metadata": {},
   "outputs": [],
   "source": [
    "#the test set responses of the dataset\n",
    "sonar_class_test"
   ]
  },
  {
   "cell_type": "markdown",
   "id": "b845e10a",
   "metadata": {},
   "source": [
    "# Feature Scaling"
   ]
  },
  {
   "cell_type": "code",
   "execution_count": null,
   "id": "aceb67d5",
   "metadata": {},
   "outputs": [],
   "source": [
    "from sklearn.preprocessing import StandardScaler\n",
    "from pandas import DataFrame\n",
    "#name StandardScaler()\n",
    "scaler = StandardScaler()\n",
    "#call it for the data (the result is array)\n",
    "sonar_train_scaled = scaler.fit_transform(sonar_train)\n",
    "sonar_test_scaled =scaler.transform(sonar_test)"
   ]
  },
  {
   "cell_type": "markdown",
   "id": "d60a3c73",
   "metadata": {},
   "source": [
    "## PCA"
   ]
  },
  {
   "cell_type": "code",
   "execution_count": null,
   "id": "af8e2ad3",
   "metadata": {},
   "outputs": [],
   "source": [
    "#Take the first 10 components\n",
    "#n_components = 10 # Example value\n",
    "#pca = PCA(n_components=n_components)\n",
    "\n",
    "# Take as many components as necessary to explain the 80% of total variability\n",
    "pca = PCA(n_components=0.8, svd_solver='full')\n",
    "\n",
    "# Fit PCA on training data and transform both training and test data\n",
    "sonar_train_pca = pca.fit_transform(sonar_train_scaled)\n",
    "sonar_test_pca = pca.transform(sonar_test_scaled)"
   ]
  },
  {
   "cell_type": "code",
   "execution_count": null,
   "id": "67b6dd5b",
   "metadata": {},
   "outputs": [],
   "source": [
    "pca.n_components_"
   ]
  },
  {
   "cell_type": "markdown",
   "id": "4557cfb2",
   "metadata": {},
   "source": [
    "# Knn classification algorithm (K nearest neighbors)"
   ]
  },
  {
   "cell_type": "code",
   "execution_count": null,
   "id": "e7a34719",
   "metadata": {},
   "outputs": [],
   "source": [
    "from sklearn.neighbors import KNeighborsClassifier\n",
    "#choosing the Eucledian distance (See classifier's help) \n",
    "classifier = KNeighborsClassifier(n_neighbors = 5, metric = 'minkowski', p = 2)\n",
    "classifier.fit(sonar_train_pca, sonar_class_train)"
   ]
  },
  {
   "cell_type": "markdown",
   "id": "d33397d7",
   "metadata": {},
   "source": [
    "## The prediction of the type M or F"
   ]
  },
  {
   "cell_type": "code",
   "execution_count": null,
   "id": "ed0ae0a3",
   "metadata": {},
   "outputs": [],
   "source": [
    "sonar_test_pred = classifier.predict(sonar_test_pca)"
   ]
  },
  {
   "cell_type": "code",
   "execution_count": null,
   "id": "d2701b7b",
   "metadata": {},
   "outputs": [],
   "source": [
    "sonar_test_pred"
   ]
  },
  {
   "cell_type": "markdown",
   "id": "27e05726",
   "metadata": {},
   "source": [
    "## The test set responses"
   ]
  },
  {
   "cell_type": "code",
   "execution_count": null,
   "id": "53e9691b",
   "metadata": {},
   "outputs": [],
   "source": [
    "sonar_class_test"
   ]
  },
  {
   "cell_type": "code",
   "execution_count": null,
   "id": "29a15f89",
   "metadata": {},
   "outputs": [],
   "source": [
    "#Calculating the confusion matrix and the accuracy \n",
    "from sklearn.metrics import confusion_matrix, accuracy_score\n",
    "cm = confusion_matrix(sonar_class_test, sonar_test_pred)\n",
    "print(cm)\n",
    "accuracy_score(sonar_class_test, sonar_test_pred)"
   ]
  },
  {
   "cell_type": "code",
   "execution_count": null,
   "id": "2267adf2",
   "metadata": {},
   "outputs": [],
   "source": [
    "import matplotlib.pyplot as plt\n",
    "from sklearn.metrics import ConfusionMatrixDisplay\n",
    "disp = ConfusionMatrixDisplay(confusion_matrix=cm, display_labels=classifier.classes_)\n",
    "disp.plot()\n",
    "plt.show()"
   ]
  },
  {
   "cell_type": "code",
   "execution_count": null,
   "id": "a1e9d60c",
   "metadata": {},
   "outputs": [],
   "source": [
    "from sklearn.metrics import classification_report\n",
    "print(classification_report(sonar_class_test, sonar_test_pred))"
   ]
  },
  {
   "cell_type": "markdown",
   "id": "ac859eb5",
   "metadata": {},
   "source": [
    "### ROC curve and AUC"
   ]
  },
  {
   "cell_type": "code",
   "execution_count": null,
   "id": "424c76e1",
   "metadata": {},
   "outputs": [],
   "source": [
    "from sklearn.metrics import roc_curve,roc_auc_score\n",
    "\n",
    "y_pred_prob_knn = classifier.predict_proba(sonar_test_pca) # predicted probabilities\n",
    "\n",
    "# rename M,R to 0,1 \n",
    "\n",
    "sonar_class_test = pd.factorize(sonar_class_test)[0].tolist()\n",
    "\n",
    "fpr, tpr, _ = roc_curve(sonar_class_test, y_pred_prob_knn[:,1])\n",
    "\n",
    "plt.plot(fpr, tpr, label=\"knn\")\n",
    "\n",
    "plt.xlabel('Recall', fontsize=18)\n",
    "plt.ylabel('Precision', fontsize=18)\n",
    "plt.legend(fontsize=15)"
   ]
  },
  {
   "cell_type": "code",
   "execution_count": null,
   "id": "9dce2e0c",
   "metadata": {},
   "outputs": [],
   "source": [
    "print(f'model 1 AUC score: {roc_auc_score(sonar_class_test, y_pred_prob_knn[:,1])}') "
   ]
  },
  {
   "cell_type": "code",
   "execution_count": null,
   "id": "786f532b",
   "metadata": {},
   "outputs": [],
   "source": []
  }
 ],
 "metadata": {
  "kernelspec": {
   "display_name": "Python 3 (ipykernel)",
   "language": "python",
   "name": "python3"
  },
  "language_info": {
   "codemirror_mode": {
    "name": "ipython",
    "version": 3
   },
   "file_extension": ".py",
   "mimetype": "text/x-python",
   "name": "python",
   "nbconvert_exporter": "python",
   "pygments_lexer": "ipython3",
   "version": "3.11.7"
  }
 },
 "nbformat": 4,
 "nbformat_minor": 5
}

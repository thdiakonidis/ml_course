{
 "cells": [
  {
   "cell_type": "markdown",
   "id": "00755f59-6bf2-4d2b-b8e6-30da80178b93",
   "metadata": {},
   "source": [
    "# Missing data"
   ]
  },
  {
   "cell_type": "code",
   "execution_count": null,
   "id": "fe4f7253-be57-476f-b5a4-d9820a244d78",
   "metadata": {},
   "outputs": [],
   "source": [
    "import pandas as pd\n",
    "import numpy as np\n",
    "import seaborn as sns\n",
    "import matplotlib.pyplot as plt\n",
    "\n",
    "df = pd.read_csv('diabetes.csv')"
   ]
  },
  {
   "cell_type": "code",
   "execution_count": null,
   "id": "94105db8-d39d-47a4-865d-f809cfad8321",
   "metadata": {},
   "outputs": [],
   "source": [
    "df"
   ]
  },
  {
   "cell_type": "code",
   "execution_count": null,
   "id": "953aedd1-42c7-43d8-aec0-6e0de5603eb1",
   "metadata": {},
   "outputs": [],
   "source": [
    "# Replace missing values, 0's with NaN except Outcome\n",
    "df[df.loc[:, df.columns != 'Outcome'] ==0]=np.nan"
   ]
  },
  {
   "cell_type": "code",
   "execution_count": null,
   "id": "305367e4-15c1-46c6-bf72-286c074c7c98",
   "metadata": {},
   "outputs": [],
   "source": [
    "df"
   ]
  },
  {
   "cell_type": "markdown",
   "id": "7a44bbfa-f552-4fdb-8dac-d2c1f5eced4a",
   "metadata": {},
   "source": [
    "## Missing data visualization"
   ]
  },
  {
   "cell_type": "code",
   "execution_count": null,
   "id": "b09f9e9a-96ea-4e15-b994-ba5164fa49ca",
   "metadata": {},
   "outputs": [],
   "source": [
    "# Impute missing values using mean imputation\n",
    "df_imputed = df.fillna(df.mean())"
   ]
  },
  {
   "cell_type": "code",
   "execution_count": null,
   "id": "2fd1b5f8-39f4-42be-a79c-d5b46c4d5f14",
   "metadata": {},
   "outputs": [],
   "source": [
    "#pip install missingno"
   ]
  },
  {
   "cell_type": "code",
   "execution_count": null,
   "id": "ac7529ff-c489-49bb-a641-0386a901d83c",
   "metadata": {},
   "outputs": [],
   "source": [
    "import missingno as msno\n",
    "#%matplotlib inline\n",
    "msno.matrix(df)"
   ]
  },
  {
   "cell_type": "code",
   "execution_count": null,
   "id": "ba6ab2b6-cbb4-4460-b744-87d4b468ed3f",
   "metadata": {},
   "outputs": [],
   "source": [
    "msno.bar(df)"
   ]
  },
  {
   "cell_type": "markdown",
   "id": "36978134-4775-4ec2-9169-fef9cdac2809",
   "metadata": {},
   "source": [
    "## Mean or median imputation"
   ]
  },
  {
   "cell_type": "code",
   "execution_count": null,
   "id": "9ad92cb2-15bc-4ec1-93dc-f0fd820a0c44",
   "metadata": {},
   "outputs": [],
   "source": [
    "# Impute missing values using mean imputation\n",
    "# df_imputed = df.fillna(df.mean())\n",
    "# Impute missing values using median imputation\n",
    "df_imputed_median = df.fillna(df.median())"
   ]
  },
  {
   "cell_type": "code",
   "execution_count": null,
   "id": "b4b78b43-f878-4bbc-9b44-ced5a4a1e395",
   "metadata": {},
   "outputs": [],
   "source": [
    "df_imputed_median"
   ]
  },
  {
   "cell_type": "code",
   "execution_count": null,
   "id": "80a8b119-7392-4e86-83f4-210161dcf93e",
   "metadata": {},
   "outputs": [],
   "source": [
    "msno.bar(df_imputed_median)"
   ]
  },
  {
   "cell_type": "markdown",
   "id": "db864fdb-f97e-4fd2-a829-5614ba128d05",
   "metadata": {},
   "source": [
    "## Knn imputer\n",
    "\n",
    "More about imputers to https://scikit-learn.org/stable/modules/impute.html"
   ]
  },
  {
   "cell_type": "code",
   "execution_count": null,
   "id": "2a616d04-dcfa-4b85-a6ae-9dbedee258a2",
   "metadata": {},
   "outputs": [],
   "source": [
    "from sklearn.impute import KNNImputer\n",
    "# more on https://scikit-learn.org/stable/modules/impute.html\n",
    "# Impute missing values using k-nearest neighbor imputation\n",
    "imputer = KNNImputer(n_neighbors=3)\n",
    "df_imputed = imputer.fit_transform(df)"
   ]
  },
  {
   "cell_type": "code",
   "execution_count": null,
   "id": "140cf584-f456-4d71-aae5-f9a4fda2c41e",
   "metadata": {},
   "outputs": [],
   "source": [
    "# Convert the imputed values back to a Pandas DataFrame\n",
    "df_imputed_2 = pd.DataFrame(df_imputed, columns=df.columns)"
   ]
  },
  {
   "cell_type": "code",
   "execution_count": null,
   "id": "d97f685b-b0ad-485a-947e-1287ef75dca0",
   "metadata": {},
   "outputs": [],
   "source": [
    "df_imputed_2"
   ]
  }
 ],
 "metadata": {
  "kernelspec": {
   "display_name": "Python 3 (ipykernel)",
   "language": "python",
   "name": "python3"
  },
  "language_info": {
   "codemirror_mode": {
    "name": "ipython",
    "version": 3
   },
   "file_extension": ".py",
   "mimetype": "text/x-python",
   "name": "python",
   "nbconvert_exporter": "python",
   "pygments_lexer": "ipython3",
   "version": "3.11.7"
  }
 },
 "nbformat": 4,
 "nbformat_minor": 5
}

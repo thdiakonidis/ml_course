{
 "cells": [
  {
   "cell_type": "code",
   "execution_count": null,
   "id": "882bf1ca",
   "metadata": {},
   "outputs": [],
   "source": [
    "import pandas as pd\n",
    "data='sonar.all-data.csv'\n",
    "df = pd.read_csv(data, header=None)"
   ]
  },
  {
   "cell_type": "code",
   "execution_count": null,
   "id": "5782e6fc",
   "metadata": {},
   "outputs": [],
   "source": [
    "print(df.head(10))"
   ]
  },
  {
   "cell_type": "code",
   "execution_count": null,
   "id": "7cff92c7",
   "metadata": {},
   "outputs": [],
   "source": [
    "df.info()"
   ]
  },
  {
   "cell_type": "code",
   "execution_count": null,
   "id": "e0ea8adb",
   "metadata": {},
   "outputs": [],
   "source": [
    "df.describe()"
   ]
  },
  {
   "cell_type": "markdown",
   "id": "3fbdba9d",
   "metadata": {},
   "source": [
    "## Min-Max Normalization\n",
    "\n",
    "In this type of normalization the data are transformed in a \\[0,1\\] range. The following equation\n",
    "\n",
    "$$\n",
    "x' = \\frac{x-min(x)}{max(x)-min(x)}\n",
    "$$\n",
    "\n",
    "where x' is the normalized value and x the initial one, min(x) and max(x) the minimum and maximum values of a variable respectively. In this type of normalization the maximum value of the dataset is given the value of 1 the minimum of 0 and the rest lie in the (0,1) range.\n"
   ]
  },
  {
   "cell_type": "code",
   "execution_count": null,
   "id": "354005b2",
   "metadata": {},
   "outputs": [],
   "source": [
    "from sklearn.preprocessing import MinMaxScaler\n",
    "from pandas import DataFrame\n",
    "# retrieve just the numeric input values\n",
    "data = df.values[:, :-1]\n",
    "#name StandardScaler()\n",
    "scaler = MinMaxScaler()\n",
    "#call it for the data (the result is array)\n",
    "scaled = scaler.fit_transform(data)\n",
    "#convert array to Dataframe\n",
    "dataset = DataFrame(scaled)"
   ]
  },
  {
   "cell_type": "code",
   "execution_count": null,
   "id": "9db75ae6",
   "metadata": {},
   "outputs": [],
   "source": [
    "dataset"
   ]
  },
  {
   "cell_type": "markdown",
   "id": "7da586f4",
   "metadata": {},
   "source": [
    "# Question 1\n",
    "\n",
    "Prove that the max and the min of every column of the scaled dataset is 0 and 1 respectively.\n",
    "\n",
    "Hint: Use the min() and max() attributes of pandas "
   ]
  },
  {
   "cell_type": "code",
   "execution_count": null,
   "id": "94732ad6-672e-41fa-acfe-4591dbb234b2",
   "metadata": {},
   "outputs": [],
   "source": []
  },
  {
   "cell_type": "markdown",
   "id": "d1c30338",
   "metadata": {},
   "source": [
    "## Standarization\n",
    "\n",
    "The method of standarization reforms the dataset in such a way so as to have mean zero and standard deviation equal to 1. In order to do so the transformation is taken place by applying the formula below:\n",
    "\n",
    "$$\n",
    "x' = \\frac{x-\\mu}{\\sigma}\n",
    "$$\n",
    "\n",
    "where $\\mu$ is the mean and $\\sigma$ the standard deviation of the dataset. It is also called as z score standarization.\n",
    "\n",
    "To implement this in the dataset"
   ]
  },
  {
   "cell_type": "code",
   "execution_count": null,
   "id": "01163db2",
   "metadata": {},
   "outputs": [],
   "source": [
    "from sklearn.preprocessing import StandardScaler\n",
    "from pandas import DataFrame\n",
    "# retrieve just the numeric input values\n",
    "data = df.values[:, :-1]\n",
    "#name StandardScaler()\n",
    "scaler = StandardScaler()\n",
    "#call it for the data (the result is array)\n",
    "scaled = scaler.fit_transform(data)\n",
    "#convert array to Dataframe\n",
    "dataset = DataFrame(scaled)"
   ]
  },
  {
   "cell_type": "markdown",
   "id": "fdbdc9d4",
   "metadata": {},
   "source": [
    "## Question 2\n",
    "\n",
    "Prove that $\\sigma=1$ in all columns of the dataset\n",
    "\n",
    "Hint: Use the std method with the ddof=0 "
   ]
  },
  {
   "cell_type": "code",
   "execution_count": null,
   "id": "0a941035-834e-4319-b2b4-1d0709c83385",
   "metadata": {},
   "outputs": [],
   "source": []
  }
 ],
 "metadata": {
  "kernelspec": {
   "display_name": "Python 3 (ipykernel)",
   "language": "python",
   "name": "python3"
  },
  "language_info": {
   "codemirror_mode": {
    "name": "ipython",
    "version": 3
   },
   "file_extension": ".py",
   "mimetype": "text/x-python",
   "name": "python",
   "nbconvert_exporter": "python",
   "pygments_lexer": "ipython3",
   "version": "3.11.7"
  }
 },
 "nbformat": 4,
 "nbformat_minor": 5
}

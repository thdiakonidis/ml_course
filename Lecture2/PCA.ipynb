{
 "cells": [
  {
   "cell_type": "markdown",
   "id": "fc132be3-cbfe-4030-b05b-38d13b33cdc9",
   "metadata": {},
   "source": [
    "# PCA"
   ]
  },
  {
   "cell_type": "code",
   "execution_count": null,
   "id": "603b6eaf",
   "metadata": {},
   "outputs": [],
   "source": [
    "from sklearn.decomposition import PCA"
   ]
  },
  {
   "cell_type": "code",
   "execution_count": null,
   "id": "07b3d1d2",
   "metadata": {},
   "outputs": [],
   "source": [
    "import pandas as pd\n",
    "df = pd.read_csv('sonar.all-data.csv',header=None)\n",
    "#all rows all columns but last\n",
    "sonar = df.iloc[:, :-1]\n",
    "#all rows, only the last column\n",
    "sonar_class = df.iloc[:, -1]"
   ]
  },
  {
   "cell_type": "code",
   "execution_count": null,
   "id": "431deb5e",
   "metadata": {},
   "outputs": [],
   "source": [
    "sonar"
   ]
  },
  {
   "cell_type": "code",
   "execution_count": null,
   "id": "45d10fcd",
   "metadata": {},
   "outputs": [],
   "source": [
    "sonar_class"
   ]
  },
  {
   "cell_type": "markdown",
   "id": "b845e10a",
   "metadata": {},
   "source": [
    "# Feature Scaling"
   ]
  },
  {
   "cell_type": "code",
   "execution_count": null,
   "id": "aceb67d5",
   "metadata": {},
   "outputs": [],
   "source": [
    "from sklearn.preprocessing import StandardScaler\n",
    "from pandas import DataFrame\n",
    "#name StandardScaler()\n",
    "scaler = StandardScaler()\n",
    "#call it for the data (the result is array)\n",
    "sonar_scaled = scaler.fit_transform(sonar)"
   ]
  },
  {
   "cell_type": "markdown",
   "id": "d60a3c73",
   "metadata": {},
   "source": [
    "## PCA (10 first components)"
   ]
  },
  {
   "cell_type": "code",
   "execution_count": null,
   "id": "af8e2ad3",
   "metadata": {},
   "outputs": [],
   "source": [
    "from sklearn.decomposition import PCA\n",
    "#Take the first 10 components\n",
    "n_components = 10 # Example value\n",
    "pca = PCA(n_components=n_components)\n",
    "\n",
    "# Fit PCA on training data and transform both training and test data\n",
    "sonar_pca = pca.fit_transform(sonar_scaled)"
   ]
  },
  {
   "cell_type": "code",
   "execution_count": null,
   "id": "7605c302-9fa0-4ae9-b4c7-1afe28da14ea",
   "metadata": {},
   "outputs": [],
   "source": [
    "sonar_pca"
   ]
  },
  {
   "cell_type": "code",
   "execution_count": null,
   "id": "43abbe44-0068-4ad7-80a8-860c5a06bd0d",
   "metadata": {},
   "outputs": [],
   "source": [
    "principal_10 = pd.DataFrame(data = sonar_pca)"
   ]
  },
  {
   "cell_type": "code",
   "execution_count": null,
   "id": "944997ac-5517-4228-8f9b-f6e78e8061d0",
   "metadata": {},
   "outputs": [],
   "source": [
    "principal_10"
   ]
  },
  {
   "cell_type": "code",
   "execution_count": null,
   "id": "67b6dd5b",
   "metadata": {},
   "outputs": [],
   "source": [
    "pca.n_components_"
   ]
  },
  {
   "cell_type": "code",
   "execution_count": null,
   "id": "a954673b-60ce-4dfe-b11e-c94f18cc42db",
   "metadata": {},
   "outputs": [],
   "source": [
    "pca.explained_variance_ratio_"
   ]
  },
  {
   "cell_type": "code",
   "execution_count": null,
   "id": "217d3db3-681d-4172-9a46-7ce4534c3e36",
   "metadata": {},
   "outputs": [],
   "source": [
    "sum(pca.explained_variance_ratio_)"
   ]
  },
  {
   "cell_type": "markdown",
   "id": "4557cfb2",
   "metadata": {},
   "source": [
    "# Pca with known explained variance"
   ]
  },
  {
   "cell_type": "code",
   "execution_count": null,
   "id": "41291614-37a6-43d9-a538-1224eba69500",
   "metadata": {},
   "outputs": [],
   "source": [
    "# Take as many components as necessary to explain more than 80% of total variability\n",
    "pca_80 = PCA(n_components=0.8, svd_solver='full')\n",
    "\n",
    "# Fit PCA on data and transform it\n",
    "sonar_pca_80 = pca_80.fit_transform(sonar_scaled)"
   ]
  },
  {
   "cell_type": "code",
   "execution_count": null,
   "id": "a40945fd-9de5-4dbc-8847-9b704aa66823",
   "metadata": {},
   "outputs": [],
   "source": [
    "print(sonar_pca_80.shape)"
   ]
  },
  {
   "cell_type": "code",
   "execution_count": null,
   "id": "6517ffba-1af9-4288-ad97-37ed7a0730ae",
   "metadata": {},
   "outputs": [],
   "source": [
    "principal_80_pc = pd.DataFrame(data = sonar_pca_80)"
   ]
  },
  {
   "cell_type": "code",
   "execution_count": null,
   "id": "70dbd9d2-a6c4-413f-9262-86b537de40ef",
   "metadata": {},
   "outputs": [],
   "source": [
    "principal_80_pc"
   ]
  },
  {
   "cell_type": "code",
   "execution_count": null,
   "id": "8e749f8d-5441-4adc-9e3b-ad8932b12ef2",
   "metadata": {},
   "outputs": [],
   "source": [
    "pca_80.explained_variance_ratio_"
   ]
  },
  {
   "cell_type": "code",
   "execution_count": null,
   "id": "330754ad-e74c-4cb2-bfde-18b7ca033db4",
   "metadata": {},
   "outputs": [],
   "source": [
    "sum(pca_80.explained_variance_ratio_)"
   ]
  }
 ],
 "metadata": {
  "kernelspec": {
   "display_name": "Python 3 (ipykernel)",
   "language": "python",
   "name": "python3"
  },
  "language_info": {
   "codemirror_mode": {
    "name": "ipython",
    "version": 3
   },
   "file_extension": ".py",
   "mimetype": "text/x-python",
   "name": "python",
   "nbconvert_exporter": "python",
   "pygments_lexer": "ipython3",
   "version": "3.11.7"
  }
 },
 "nbformat": 4,
 "nbformat_minor": 5
}

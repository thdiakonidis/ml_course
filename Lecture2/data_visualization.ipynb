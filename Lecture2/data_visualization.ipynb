{
 "cells": [
  {
   "cell_type": "code",
   "execution_count": null,
   "id": "dcee32ed",
   "metadata": {},
   "outputs": [],
   "source": [
    "import pandas as pd\n",
    "df = pd.read_csv('diabetes.csv')\n",
    "df.head() #View first rows"
   ]
  },
  {
   "cell_type": "code",
   "execution_count": null,
   "id": "777278fa",
   "metadata": {},
   "outputs": [],
   "source": [
    "df.info()"
   ]
  },
  {
   "cell_type": "code",
   "execution_count": null,
   "id": "0b0bc956",
   "metadata": {},
   "outputs": [],
   "source": [
    "df.describe() "
   ]
  },
  {
   "cell_type": "markdown",
   "id": "60466d87-6acd-4e84-93e4-25e86dcb6b34",
   "metadata": {},
   "source": [
    "# Plotting the categorical data "
   ]
  },
  {
   "cell_type": "markdown",
   "id": "52f4d1c0-a257-4fc0-b7f2-e3060c60f858",
   "metadata": {},
   "source": [
    "## Matplotlib - pandas\n",
    "\n"
   ]
  },
  {
   "cell_type": "code",
   "execution_count": null,
   "id": "0e957025",
   "metadata": {
    "scrolled": true
   },
   "outputs": [],
   "source": [
    "import pandas as pd\n",
    "import matplotlib.pyplot as plt\n",
    "#creating the bars using pandas\n",
    "df[\"Outcome\"].value_counts().plot.bar()\n",
    "# Alternatively using pie.bar()\n",
    "#Adding the aesthetics\n",
    "plt.title('Diabetes chart')\n",
    "plt.xlabel('Outcome')\n",
    "plt.ylabel('Frequency')\n",
    "plt.show()"
   ]
  },
  {
   "cell_type": "markdown",
   "id": "b28e34a2-14b5-4e71-b1a4-ba679a62d459",
   "metadata": {},
   "source": [
    "## Matplotlib (only)"
   ]
  },
  {
   "cell_type": "code",
   "execution_count": null,
   "id": "f999007a-e70c-4604-b9d1-cbc65da8a1d9",
   "metadata": {},
   "outputs": [],
   "source": [
    "counts = df[\"Outcome\"].value_counts()\n"
   ]
  },
  {
   "cell_type": "code",
   "execution_count": null,
   "id": "bc921cf1-a92b-4667-a60e-d172efca96dc",
   "metadata": {},
   "outputs": [],
   "source": [
    "counts"
   ]
  },
  {
   "cell_type": "code",
   "execution_count": null,
   "id": "c5848055-1c9d-4a92-811d-c868c9a70a81",
   "metadata": {},
   "outputs": [],
   "source": [
    "plt.bar(counts.index, counts)\n",
    "plt.show()"
   ]
  },
  {
   "cell_type": "markdown",
   "id": "58435dce-739d-4ec4-a1f2-abaf2b36cd64",
   "metadata": {},
   "source": [
    "## Seaborn \n",
    "\n",
    "[Visualizing the categorical data](https://seaborn.pydata.org/tutorial/categorical.html)"
   ]
  },
  {
   "cell_type": "code",
   "execution_count": null,
   "id": "5a904014",
   "metadata": {},
   "outputs": [],
   "source": [
    "# import libraries\n",
    "import seaborn as sns\n",
    "\n",
    "# set plot style: grey grid in the background:\n",
    "sns.set(style=\"darkgrid\")\n",
    "\n",
    "# plot a bar chart\n",
    "sns.countplot(x=\"Outcome\", data=df)"
   ]
  },
  {
   "cell_type": "markdown",
   "id": "1bdeb69b-de10-488b-b8b8-2dee8d41fe33",
   "metadata": {},
   "source": [
    "# Ploting the quantitiative data"
   ]
  },
  {
   "cell_type": "markdown",
   "id": "90fd5171-4b72-43ab-872e-1a1e6420a3eb",
   "metadata": {},
   "source": [
    "## Histograms"
   ]
  },
  {
   "cell_type": "markdown",
   "id": "5d680ac9-9d9c-4000-ad13-4cea17e02c7b",
   "metadata": {},
   "source": [
    "### Matplotlib (one column)"
   ]
  },
  {
   "cell_type": "code",
   "execution_count": null,
   "id": "c44432a0-626a-4be6-a2d5-3ed596b52c3a",
   "metadata": {},
   "outputs": [],
   "source": [
    "import pandas as pd\n",
    "df = pd.read_csv('diabetes.csv')\n",
    "import matplotlib.pyplot as plt\n",
    "\n",
    "# Add the histogram\n",
    "plt.hist(df['BloodPressure'])\n",
    "\n",
    "# Change orientation = 'horizontal' \n",
    "# Change default range=[40, 100]\n",
    "# log scaling log=True\n",
    "\n",
    "# Show the plot\n",
    "plt.show()"
   ]
  },
  {
   "cell_type": "markdown",
   "id": "f2d53adb-a9ec-4908-a4d0-f48017a54f2d",
   "metadata": {},
   "source": [
    "### Matplotlib all (first method)"
   ]
  },
  {
   "cell_type": "code",
   "execution_count": null,
   "id": "c6e84588",
   "metadata": {
    "scrolled": true
   },
   "outputs": [],
   "source": [
    "import matplotlib.pyplot as plt\n",
    "df.hist()\n",
    "# Adjust layout\n",
    "plt.tight_layout()\n",
    "plt.show()"
   ]
  },
  {
   "cell_type": "markdown",
   "id": "4d7e59fd-c50f-420e-9114-23d7256c0825",
   "metadata": {},
   "source": [
    "### Matplotlib all (second method)"
   ]
  },
  {
   "cell_type": "code",
   "execution_count": null,
   "id": "95fa4409-4080-4a40-8eda-981a55bc3bb6",
   "metadata": {},
   "outputs": [],
   "source": [
    "# Initialize a 3x3 charts\n",
    "import pandas as pd\n",
    "df = pd.read_csv('diabetes.csv')\n",
    "import matplotlib.pyplot as plt\n",
    "fig, axes = plt.subplots(nrows=3, ncols=3)\n",
    "\n",
    "#print(axes)\n",
    "# Flatten the axes array (makes it easier to iterate over)\n",
    "axes = axes.flatten()\n",
    "#print(axes)\n",
    "\n",
    "# Loop through each column and plot a histogram\n",
    "# enumerate here counts the number of columns of df\n",
    "for i, column in enumerate(df.columns):\n",
    "    \n",
    "    # Add the histogram\n",
    "    df[column].plot(ax=axes[i],kind='hist')\n",
    "    \n",
    "    # Add title and axis label\n",
    "#    axes[i].set_title(column) \n",
    "    axes[i].set_xlabel(column) \n",
    "    axes[i].set_ylabel('Frequency') \n",
    "\n",
    "# Adjust layout\n",
    "plt.tight_layout()\n",
    "\n",
    "# Show the plot\n",
    "plt.show()"
   ]
  },
  {
   "cell_type": "code",
   "execution_count": null,
   "id": "cb2a7297-0f02-4bf6-95f6-c9bdd4912654",
   "metadata": {},
   "outputs": [],
   "source": [
    "df.columns"
   ]
  },
  {
   "cell_type": "markdown",
   "id": "7aaeaf84-e492-4bf1-b5e0-c9c1efeceb7b",
   "metadata": {},
   "source": [
    "## Seaborn"
   ]
  },
  {
   "cell_type": "markdown",
   "id": "615f5f19-bb7e-40d4-bbde-9bfca2a4e68f",
   "metadata": {},
   "source": [
    "### Seaborn one column"
   ]
  },
  {
   "cell_type": "code",
   "execution_count": null,
   "id": "b617bc87-3318-4120-a19d-a2cf3a01180b",
   "metadata": {},
   "outputs": [],
   "source": [
    "import seaborn as sns\n",
    "\n",
    "sns.histplot(x=\"BloodPressure\",data=df)\n",
    "\n",
    "# change number of bins: bins =20  \n",
    "# change width of the bin: binwidth=20\n",
    "# change style of the bin: element = 'step' or 'poly'\n",
    " "
   ]
  },
  {
   "cell_type": "markdown",
   "id": "67ccc320-2227-49b8-8fc5-e98a2867242e",
   "metadata": {},
   "source": [
    "### Seaborn (all columns)"
   ]
  },
  {
   "cell_type": "code",
   "execution_count": null,
   "id": "c538c080-0ac7-47d1-b194-12342141da57",
   "metadata": {},
   "outputs": [],
   "source": [
    "#Shift +Tab for help\n",
    "import seaborn as sns\n",
    "import pandas as pd\n",
    "df = pd.read_csv('diabetes.csv')\n",
    "import matplotlib.pyplot as plt\n",
    "# Create the subplots\n",
    "n_rows=3\n",
    "n_cols=3\n",
    "fig, axes = plt.subplots(nrows=n_rows, ncols=n_cols)\n",
    "for i, column in enumerate(df.columns):\n",
    "     sns.histplot(data=df[column],ax=axes[i//n_cols,i%n_cols])\n",
    "#     print(i//n_cols,i%n_cols)\n",
    "# In case you need to include  a separation of cancer no cancer patients\n",
    "#    sns.histplot(data=df,x=df[column],hue='Outcome',multiple=\"stack\",ax=axes[i//n_cols,i%n_cols])\n",
    "\n",
    "# Adjust layout\n",
    "plt.tight_layout()"
   ]
  },
  {
   "cell_type": "markdown",
   "id": "216dde41-82fe-41d4-ad64-1df35d776256",
   "metadata": {},
   "source": [
    "## Boxplots"
   ]
  },
  {
   "cell_type": "markdown",
   "id": "6656f8e7-a0d0-4a0f-92eb-0efa0174b89f",
   "metadata": {},
   "source": [
    "### Matplotlib"
   ]
  },
  {
   "cell_type": "markdown",
   "id": "f9e56bae-fd4a-4928-b90b-183b6b5416b4",
   "metadata": {},
   "source": [
    "## Single boxplot"
   ]
  },
  {
   "cell_type": "code",
   "execution_count": null,
   "id": "8d3084e1-4620-41c7-bb57-17f17b103466",
   "metadata": {},
   "outputs": [],
   "source": [
    "# Add the histogram\n",
    "plt.boxplot(df['BloodPressure'])\n",
    "\n",
    "# Change orientation = 'horizontal' \n",
    "# Change default range=[40, 100]\n",
    "# log scaling log=True\n",
    "\n",
    "# Show the plot\n",
    "plt.show()"
   ]
  },
  {
   "cell_type": "markdown",
   "id": "ff04e52a-600e-4cfe-8abb-419f6fe4238a",
   "metadata": {},
   "source": [
    "## Multiple single boxplots (pandas and matplotlib)"
   ]
  },
  {
   "cell_type": "code",
   "execution_count": null,
   "id": "91fac684-04db-4483-a18e-7095a7b4573d",
   "metadata": {},
   "outputs": [],
   "source": [
    "# Initialize a 3x3 charts\n",
    "import pandas as pd\n",
    "df = pd.read_csv('diabetes.csv')\n",
    "import matplotlib.pyplot as plt\n",
    "fig, axes = plt.subplots(nrows=3, ncols=3)\n",
    "\n",
    "#print(axes)\n",
    "# Flatten the axes array (makes it easier to iterate over)\n",
    "axes = axes.flatten()\n",
    "\n",
    "# Loop through each column and plot a histogram\n",
    "# enumerate here counts the number of columns of df\n",
    "for i, column in enumerate(df.columns):\n",
    "    \n",
    "    # Add the histogram\n",
    "    df[column].plot(ax=axes[i],kind='box')\n",
    "\n",
    "# Adjust layout\n",
    "plt.tight_layout()\n",
    "\n",
    "# Show the plot\n",
    "plt.show()"
   ]
  },
  {
   "cell_type": "markdown",
   "id": "2291d4ea-4895-4f53-b315-dd59c0d4787c",
   "metadata": {},
   "source": [
    "## Seaborn"
   ]
  },
  {
   "cell_type": "code",
   "execution_count": null,
   "id": "23b14b5e-2a8d-4545-8657-e6914ff34bbf",
   "metadata": {},
   "outputs": [],
   "source": [
    "#Shift +Tab for help\n",
    "import seaborn as sns\n",
    "import pandas as pd\n",
    "df = pd.read_csv('diabetes.csv')\n",
    "import matplotlib.pyplot as plt\n",
    "# Create the subplots\n",
    "n_rows=3\n",
    "n_cols=3\n",
    "fig, axes = plt.subplots(nrows=n_rows, ncols=n_cols)\n",
    "for i, column in enumerate(df.columns):\n",
    "#    sns.boxplot(data=df[column],ax=axes[i//n_cols,i%n_cols])\n",
    "    sns.boxplot(data=df,y=df[column],x='Outcome',ax=axes[i//n_cols,i%n_cols])\n",
    "# Adjust layout\n",
    "plt.tight_layout()"
   ]
  },
  {
   "cell_type": "markdown",
   "id": "a1b8e344-e6f2-4a9f-87b0-674556213857",
   "metadata": {},
   "source": [
    "## Violin plots"
   ]
  },
  {
   "cell_type": "markdown",
   "id": "c9c1d493-67f4-411c-916e-b909269c37a6",
   "metadata": {},
   "source": [
    "### Matplotlib"
   ]
  },
  {
   "cell_type": "markdown",
   "id": "ee26faa0-9e8a-4c18-8d44-fbb1cefa9622",
   "metadata": {},
   "source": [
    "## Single"
   ]
  },
  {
   "cell_type": "code",
   "execution_count": null,
   "id": "3a5555d7-0cac-4b6e-8b52-33c3d5cce680",
   "metadata": {},
   "outputs": [],
   "source": [
    "# Add the histogram\n",
    "plt.violinplot(df['BloodPressure'])\n",
    "\n",
    "# Change orientation = 'horizontal' \n",
    "# Change default range=[40, 100]\n",
    "# log scaling log=True\n",
    "\n",
    "# Show the plot\n",
    "plt.show()"
   ]
  },
  {
   "cell_type": "markdown",
   "id": "fce3d12c-4f67-4914-9920-81841131238d",
   "metadata": {},
   "source": [
    "## Multiple single "
   ]
  },
  {
   "cell_type": "code",
   "execution_count": null,
   "id": "f4085003-38b8-48cb-8d95-4eb9149cfee2",
   "metadata": {},
   "outputs": [],
   "source": [
    "# Initialize a 3x3 charts\n",
    "import pandas as pd\n",
    "df = pd.read_csv('diabetes.csv')\n",
    "import matplotlib.pyplot as plt\n",
    "fig, axes = plt.subplots(nrows=3, ncols=3)\n",
    "\n",
    "#print(axes)\n",
    "# Flatten the axes array (makes it easier to iterate over)\n",
    "axes = axes.flatten()\n",
    "\n",
    "# Loop through each column and plot a histogram\n",
    "# enumerate here counts the number of columns of df\n",
    "for i, column in enumerate(df.columns):\n",
    "    \n",
    "# Adds the violinplot from matplotlib\n",
    "    axes[i].violinplot(df[column])\n",
    "\n",
    "# Adjust layout\n",
    "plt.tight_layout()\n",
    "\n",
    "# Show the plot\n",
    "plt.show()"
   ]
  },
  {
   "cell_type": "markdown",
   "id": "c71c037f-d924-48fa-a927-2b77634d2011",
   "metadata": {},
   "source": [
    "### Seaborn "
   ]
  },
  {
   "cell_type": "markdown",
   "id": "fcfedfa3-59a6-45e5-815c-8bfe58d7a76a",
   "metadata": {},
   "source": [
    "## Single Violin plot"
   ]
  },
  {
   "cell_type": "code",
   "execution_count": null,
   "id": "6d7d3116-4391-40b9-b750-465ce8e03910",
   "metadata": {},
   "outputs": [],
   "source": [
    "sns.violinplot(df.iloc[:,3])"
   ]
  },
  {
   "cell_type": "markdown",
   "id": "f6e49993-a7d9-479f-9db6-ec49692e2f6c",
   "metadata": {},
   "source": [
    "### Multiple in one plot (for comparison)"
   ]
  },
  {
   "cell_type": "code",
   "execution_count": null,
   "id": "97ff57a1-2396-41c3-8b0e-958be7354c52",
   "metadata": {},
   "outputs": [],
   "source": [
    "sns.violinplot(df.iloc[:,0:3])"
   ]
  },
  {
   "cell_type": "markdown",
   "id": "750194ae-799f-4d3d-b290-c1e9eb23be74",
   "metadata": {},
   "source": [
    "## Multiple single violinplots"
   ]
  },
  {
   "cell_type": "code",
   "execution_count": null,
   "id": "5225288d-6212-4b49-9e4c-45161c81f86f",
   "metadata": {},
   "outputs": [],
   "source": [
    "#Shift +Tab for help\n",
    "import seaborn as sns\n",
    "import pandas as pd\n",
    "df = pd.read_csv('diabetes.csv')\n",
    "import matplotlib.pyplot as plt\n",
    "# Create the subplots\n",
    "n_rows=3\n",
    "n_cols=3\n",
    "fig, axes = plt.subplots(nrows=n_rows, ncols=n_cols)\n",
    "for i, column in enumerate(df.columns):\n",
    "    \n",
    "#   Single violinplots  \n",
    "#    sns.boxplot(data=df[column],ax=axes[i//n_cols,i%n_cols])\n",
    "\n",
    "# including 2, the cancer - no cancer cases\n",
    "    sns.violinplot(data=df,y=df[column],x='Outcome',ax=axes[i//n_cols,i%n_cols])\n",
    "\n",
    "# Adjust layout\n",
    "plt.tight_layout()"
   ]
  },
  {
   "cell_type": "markdown",
   "id": "4dc36fb3-5052-4a79-aaba-a70ac7942d21",
   "metadata": {},
   "source": [
    "## Correlation plot"
   ]
  },
  {
   "cell_type": "code",
   "execution_count": null,
   "id": "45efc646-0bfe-4c4c-9eae-bd37109233f8",
   "metadata": {
    "scrolled": true
   },
   "outputs": [],
   "source": [
    "import seaborn as sns\n",
    "import pandas as pd\n",
    "df = pd.read_csv('diabetes.csv')\n",
    "sns.heatmap(df.iloc[:,0:5].corr(), annot=True)\n",
    "#sns.heatmap(df.corr(), annot=True)"
   ]
  },
  {
   "cell_type": "code",
   "execution_count": null,
   "id": "11bdcbbb-6c43-4175-993e-7c882cd17f09",
   "metadata": {},
   "outputs": [],
   "source": [
    "df.iloc[:,0:5].corr()"
   ]
  },
  {
   "cell_type": "markdown",
   "id": "111289f3-a461-41c4-beb4-471ad7704ecb",
   "metadata": {},
   "source": [
    "## Pairplot (Seaborn)"
   ]
  },
  {
   "cell_type": "code",
   "execution_count": null,
   "id": "121839ae",
   "metadata": {},
   "outputs": [],
   "source": [
    "sns.pairplot(df.iloc[:,0:3])\n",
    "#sns.pairplot(df)"
   ]
  },
  {
   "cell_type": "markdown",
   "id": "80dd5f2b-78f6-4433-a111-137d2499a288",
   "metadata": {},
   "source": [
    "## Scatter plots"
   ]
  },
  {
   "cell_type": "markdown",
   "id": "b15d7d32-b6f7-4bb9-ade9-ed936ef7bfc3",
   "metadata": {},
   "source": [
    "## Pandas"
   ]
  },
  {
   "cell_type": "code",
   "execution_count": null,
   "id": "25476ad5-de26-4b91-8db4-b1c7367e43cb",
   "metadata": {},
   "outputs": [],
   "source": [
    "import pandas as pd\n",
    "\n",
    "df.plot.scatter(x='Glucose', y='Pregnancies')\n"
   ]
  },
  {
   "cell_type": "markdown",
   "id": "da4117c6-45d5-47da-b64d-2e074ece5541",
   "metadata": {},
   "source": [
    "### Seaborn"
   ]
  },
  {
   "cell_type": "code",
   "execution_count": null,
   "id": "e239bc10-3046-4172-95da-0278ef9675dd",
   "metadata": {},
   "outputs": [],
   "source": [
    "import seaborn as sns\n",
    "sns.scatterplot(x=\"Glucose\",\n",
    "                    y=\"Pregnancies\",\n",
    "#                   hue ='Outcome',                  \n",
    "                    data=df)"
   ]
  },
  {
   "cell_type": "code",
   "execution_count": null,
   "id": "7494370e-63d0-4ee2-b930-59a759684f9b",
   "metadata": {},
   "outputs": [],
   "source": []
  }
 ],
 "metadata": {
  "kernelspec": {
   "display_name": "Python 3 (ipykernel)",
   "language": "python",
   "name": "python3"
  },
  "language_info": {
   "codemirror_mode": {
    "name": "ipython",
    "version": 3
   },
   "file_extension": ".py",
   "mimetype": "text/x-python",
   "name": "python",
   "nbconvert_exporter": "python",
   "pygments_lexer": "ipython3",
   "version": "3.11.7"
  }
 },
 "nbformat": 4,
 "nbformat_minor": 5
}

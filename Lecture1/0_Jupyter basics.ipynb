{
 "cells": [
  {
   "cell_type": "markdown",
   "id": "bad1e63d-f82c-4caf-8a4b-e9fbb9f8ad46",
   "metadata": {},
   "source": [
    "# Βασικοί κανόνες των κελιών"
   ]
  },
  {
   "cell_type": "markdown",
   "id": "a13e95e3-194e-459f-8f4a-f7eada444263",
   "metadata": {},
   "source": [
    "arrows for up and down\n",
    "\n",
    "a add cell above\n",
    "\n",
    "b add cell below\n",
    "\n",
    "c copy cell\n",
    "\n",
    "v paste cell\n",
    "\n",
    "x cut cell\n",
    "\n",
    "dd delete cell\n",
    "\n",
    "z undo\n",
    "\n",
    "Shift + z redo\n",
    "\n",
    "y code mode\n",
    "\n",
    "m markdown mode \n",
    "\n",
    "Ctrl + Shift + Up moves the cell up\n",
    "\n",
    "Ctrl + Shift + Down moves the cell down\n",
    "\n",
    "Shift + Enter runs the cell"
   ]
  },
  {
   "cell_type": "raw",
   "id": "cd7b7287-1308-43af-9413-27404c8eced6",
   "metadata": {},
   "source": [
    "For Mac users, please map your keystrokes as follows:\n",
    "Ctrl → ⌘ Command\n",
    "Shift → ⇧ Shift\n",
    "Alt → ⌥ Option"
   ]
  },
  {
   "cell_type": "code",
   "execution_count": null,
   "id": "d39f863e-5815-4337-93a7-ab235794519c",
   "metadata": {},
   "outputs": [],
   "source": []
  },
  {
   "cell_type": "code",
   "execution_count": 1,
   "id": "fed300d8-e841-47d9-b210-78ec7d8df0f2",
   "metadata": {},
   "outputs": [
    {
     "name": "stdout",
     "output_type": "stream",
     "text": [
      "3\n"
     ]
    }
   ],
   "source": [
    "x=3\n",
    "print(x)"
   ]
  },
  {
   "cell_type": "markdown",
   "id": "529591cd-e304-4a5f-a981-135d7689fd92",
   "metadata": {},
   "source": [
    "### Σύνταξη Markdown (Βασικές Εντολές)"
   ]
  },
  {
   "cell_type": "markdown",
   "id": "26596624-c475-4b4a-a1c4-c86cba36fcf9",
   "metadata": {},
   "source": [
    "# Markdown\n",
    "## Markdown\n",
    "### Markdown\n"
   ]
  },
  {
   "cell_type": "markdown",
   "id": "de7c7e29-2819-4eda-b27e-0a377c148393",
   "metadata": {},
   "source": [
    "**markdown**"
   ]
  },
  {
   "cell_type": "markdown",
   "id": "2c2ac8bf-4d36-42cb-841b-6e554887d7ed",
   "metadata": {},
   "source": [
    " *πλάγια γράμματα*"
   ]
  },
  {
   "cell_type": "markdown",
   "id": "3bf52a9b-7cc8-4ffd-8cef-16318549f561",
   "metadata": {},
   "source": [
    "1. testing1\n",
    "2. testing2\n",
    "3. testing \n",
    "\n"
   ]
  },
  {
   "cell_type": "markdown",
   "id": "f814b0d3-9f75-4642-bced-01cdd4d85223",
   "metadata": {},
   "source": [
    "- testing1\n",
    "- testing2"
   ]
  },
  {
   "cell_type": "markdown",
   "id": "ecb29348-b795-4d6b-aa65-678a9a3d1abe",
   "metadata": {},
   "source": [
    ">blockquote"
   ]
  },
  {
   "cell_type": "markdown",
   "id": "23c0a037-6f0c-4153-a453-cb9be0ce7325",
   "metadata": {},
   "source": [
    "https://www.markdownguide.org/"
   ]
  },
  {
   "cell_type": "markdown",
   "id": "a98d15b0-ae92-426d-971b-e2888fdcb2d6",
   "metadata": {},
   "source": [
    "---"
   ]
  },
  {
   "cell_type": "markdown",
   "id": "238e95a9-72b1-47b2-b547-2ec4881cca26",
   "metadata": {},
   "source": [
    "`inline code`"
   ]
  },
  {
   "cell_type": "markdown",
   "id": "d902cf06-0799-41f7-8e8f-c6e2de6690dd",
   "metadata": {},
   "source": [
    "## Σύνταξη Latex \n",
    "\n",
    "$x^2+3x-2$\n",
    "\n",
    "\\begin{equation*}\n",
    "1+2+3+\\dots+n=\\frac{n(n+1)}{2}\n",
    "\\end{equation*}\n",
    "\n",
    "[Εισαγωγή στο latex](https://opencourses.auth.gr/modules/document/file.php/MATH115/book.pdf)"
   ]
  },
  {
   "cell_type": "markdown",
   "id": "7ddfc6ee-64cb-4e09-aa4d-4fa6b28d5c8e",
   "metadata": {},
   "source": [
    "www.github.com"
   ]
  },
  {
   "cell_type": "markdown",
   "id": "b0c81e0a-3eb7-4675-93c0-52672ee34fca",
   "metadata": {},
   "source": [
    "[jupyterlink](https://jupyter.org/)"
   ]
  },
  {
   "cell_type": "markdown",
   "id": "9f707359-9820-45a3-b14b-b3d09a76df9c",
   "metadata": {},
   "source": [
    "![tunneleffect](barrier.jpg)"
   ]
  }
 ],
 "metadata": {
  "kernelspec": {
   "display_name": "Python 3 (ipykernel)",
   "language": "python",
   "name": "python3"
  },
  "language_info": {
   "codemirror_mode": {
    "name": "ipython",
    "version": 3
   },
   "file_extension": ".py",
   "mimetype": "text/x-python",
   "name": "python",
   "nbconvert_exporter": "python",
   "pygments_lexer": "ipython3",
   "version": "3.12.3"
  }
 },
 "nbformat": 4,
 "nbformat_minor": 5
}

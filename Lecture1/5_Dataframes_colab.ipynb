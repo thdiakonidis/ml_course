{
 "cells": [
  {
   "cell_type": "markdown",
   "id": "56aa2871",
   "metadata": {
    "id": "56aa2871"
   },
   "source": [
    "# Dataframes"
   ]
  },
  {
   "cell_type": "markdown",
   "id": "b64613ac",
   "metadata": {
    "id": "b64613ac"
   },
   "source": [
    "## The pandas package"
   ]
  },
  {
   "cell_type": "code",
   "execution_count": null,
   "id": "749b13b8",
   "metadata": {
    "id": "749b13b8"
   },
   "outputs": [],
   "source": [
    "import pandas as pd"
   ]
  },
  {
   "cell_type": "markdown",
   "id": "d48c1614",
   "metadata": {
    "id": "d48c1614"
   },
   "source": [
    "### Import data to pandas dataframe"
   ]
  },
  {
   "cell_type": "code",
   "execution_count": null,
   "id": "MjSH7FTj2c7c",
   "metadata": {
    "colab": {
     "base_uri": "https://localhost:8080/"
    },
    "id": "MjSH7FTj2c7c",
    "outputId": "a9447a63-a365-48f5-eb2b-2b0e0c10e856"
   },
   "outputs": [],
   "source": [
    "# Connect with your google drive\n",
    "from google.colab import drive\n",
    "drive.mount('/content/drive')"
   ]
  },
  {
   "cell_type": "code",
   "execution_count": null,
   "id": "utEHN2EJ2nGd",
   "metadata": {
    "id": "utEHN2EJ2nGd"
   },
   "outputs": [],
   "source": [
    "#Connect your working directory \n",
    "import os\n",
    "os.chdir(\"/content/drive/MyDrive/Lecture1\")"
   ]
  },
  {
   "cell_type": "code",
   "execution_count": null,
   "id": "e680c1c9",
   "metadata": {
    "colab": {
     "base_uri": "https://localhost:8080/",
     "height": 162
    },
    "id": "e680c1c9",
    "outputId": "972b35bd-858a-4c2a-fad2-b370f1509dad"
   },
   "outputs": [],
   "source": [
    "#Alternatively if it is in the same folder with the jupyter .ipynb file\n",
    "diabetes = pd.read_csv('diabetes.csv')"
   ]
  },
  {
   "cell_type": "code",
   "execution_count": null,
   "id": "1f0e40b2",
   "metadata": {
    "colab": {
     "base_uri": "https://localhost:8080/",
     "height": 424
    },
    "id": "1f0e40b2",
    "outputId": "ed107779-707a-4492-a3e8-eb5a0603009b"
   },
   "outputs": [],
   "source": [
    "diabetes"
   ]
  },
  {
   "cell_type": "code",
   "execution_count": null,
   "id": "eddfe036",
   "metadata": {
    "id": "eddfe036"
   },
   "outputs": [],
   "source": [
    "# to change working directory\n",
    "#os.chdir('\\\\Users\\\\tdiak\\\\...')"
   ]
  },
  {
   "cell_type": "markdown",
   "id": "ff444778",
   "metadata": {
    "id": "ff444778"
   },
   "source": [
    "## Explore your dataset"
   ]
  },
  {
   "cell_type": "markdown",
   "id": "9696df55",
   "metadata": {
    "id": "9696df55"
   },
   "source": [
    "### Checking columns types of data and entries"
   ]
  },
  {
   "cell_type": "code",
   "execution_count": null,
   "id": "c3d5d9b3",
   "metadata": {
    "colab": {
     "base_uri": "https://localhost:8080/"
    },
    "id": "c3d5d9b3",
    "outputId": "2372d67c-d1cb-4f59-84b2-1bd2b79246bf"
   },
   "outputs": [],
   "source": [
    "diabetes.info()"
   ]
  },
  {
   "cell_type": "markdown",
   "id": "6f4ba226",
   "metadata": {
    "id": "6f4ba226"
   },
   "source": [
    "### Take a quick look of the dataset first or last entries"
   ]
  },
  {
   "cell_type": "code",
   "execution_count": null,
   "id": "335624c8",
   "metadata": {
    "id": "335624c8",
    "outputId": "37850525-5eb6-46c9-c388-90df81e84dcf"
   },
   "outputs": [],
   "source": [
    "diabetes.head()"
   ]
  },
  {
   "cell_type": "code",
   "execution_count": null,
   "id": "fb1bb39e",
   "metadata": {
    "id": "fb1bb39e",
    "outputId": "096520c5-6bc1-4fc2-efbc-5ba43ccef6c4"
   },
   "outputs": [],
   "source": [
    "diabetes.tail()"
   ]
  },
  {
   "cell_type": "markdown",
   "id": "ce6f5d83",
   "metadata": {
    "id": "ce6f5d83"
   },
   "source": [
    "### Show statistical info of the dataset"
   ]
  },
  {
   "cell_type": "markdown",
   "id": "1133a388",
   "metadata": {
    "id": "1133a388"
   },
   "source": [
    "![dTDGD.png](attachment:dTDGD.png)"
   ]
  },
  {
   "cell_type": "code",
   "execution_count": null,
   "id": "bc69a357",
   "metadata": {
    "id": "bc69a357",
    "outputId": "c609c8ed-f122-4474-900f-1744eb0123bd"
   },
   "outputs": [],
   "source": [
    "diabetes.describe()"
   ]
  },
  {
   "cell_type": "markdown",
   "id": "1e2bef7d",
   "metadata": {
    "id": "1e2bef7d"
   },
   "source": [
    "### Selecting rows, columns, or parts of the dataset"
   ]
  },
  {
   "cell_type": "code",
   "execution_count": null,
   "id": "a3b1ef10",
   "metadata": {
    "id": "a3b1ef10",
    "outputId": "49d2c315-1749-4a95-9d4d-8bb642f24079"
   },
   "outputs": [],
   "source": [
    "#Selecting the third row\n",
    "diabetes.iloc[3]"
   ]
  },
  {
   "cell_type": "code",
   "execution_count": null,
   "id": "7eff069a",
   "metadata": {
    "id": "7eff069a",
    "outputId": "fed6b0a1-c1ca-43f4-e7d4-0a50dd7da799"
   },
   "outputs": [],
   "source": [
    "#selecting the first column\n",
    "diabetes.iloc[:,0]"
   ]
  },
  {
   "cell_type": "code",
   "execution_count": null,
   "id": "04cdad9d",
   "metadata": {
    "id": "04cdad9d",
    "outputId": "53d22cd5-c917-45bd-ffc3-4a882186b9c5"
   },
   "outputs": [],
   "source": [
    "# Select rows 1 till 3 (not included) and columns 2 (not included) till 5\n",
    "diabetes.iloc[1:3,2:5]"
   ]
  },
  {
   "cell_type": "code",
   "execution_count": null,
   "id": "00d72eb8",
   "metadata": {
    "id": "00d72eb8",
    "outputId": "da911ca7-9274-4002-e7d2-1bfcd1b1909b"
   },
   "outputs": [],
   "source": [
    "diabetes"
   ]
  }
 ],
 "metadata": {
  "colab": {
   "provenance": []
  },
  "kernelspec": {
   "display_name": "Python 3 (ipykernel)",
   "language": "python",
   "name": "python3"
  },
  "language_info": {
   "codemirror_mode": {
    "name": "ipython",
    "version": 3
   },
   "file_extension": ".py",
   "mimetype": "text/x-python",
   "name": "python",
   "nbconvert_exporter": "python",
   "pygments_lexer": "ipython3",
   "version": "3.12.3"
  }
 },
 "nbformat": 4,
 "nbformat_minor": 5
}

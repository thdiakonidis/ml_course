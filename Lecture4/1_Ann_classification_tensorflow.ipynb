{
 "cells": [
  {
   "cell_type": "markdown",
   "metadata": {
    "colab_type": "text",
    "id": "lP6JLo1tGNBg"
   },
   "source": [
    "# Artificial Neural Network"
   ]
  },
  {
   "cell_type": "markdown",
   "metadata": {
    "colab_type": "text",
    "id": "gWZyYmS_UE_L"
   },
   "source": [
    "### Importing the libraries"
   ]
  },
  {
   "cell_type": "code",
   "execution_count": 1,
   "metadata": {
    "colab": {},
    "colab_type": "code",
    "id": "MxkJoQBkUIHC"
   },
   "outputs": [],
   "source": [
    "import numpy as np\n",
    "import pandas as pd\n",
    "import tensorflow as tf"
   ]
  },
  {
   "cell_type": "code",
   "execution_count": 2,
   "metadata": {
    "colab": {
     "base_uri": "https://localhost:8080/",
     "height": 34
    },
    "colab_type": "code",
    "id": "ZaTwK7ojXr2F",
    "outputId": "0b27a96d-d11a-43e8-ab4b-87c1f01896fe"
   },
   "outputs": [
    {
     "data": {
      "text/plain": [
       "'2.16.1'"
      ]
     },
     "execution_count": 2,
     "metadata": {},
     "output_type": "execute_result"
    }
   ],
   "source": [
    "tf.__version__"
   ]
  },
  {
   "cell_type": "markdown",
   "metadata": {
    "colab_type": "text",
    "id": "1E0Q3aoKUCRX"
   },
   "source": [
    "## Part 1 - Data Preprocessing"
   ]
  },
  {
   "cell_type": "markdown",
   "metadata": {
    "colab_type": "text",
    "id": "cKWAkFVGUU0Z"
   },
   "source": [
    "### Importing the dataset"
   ]
  },
  {
   "cell_type": "code",
   "execution_count": 3,
   "metadata": {
    "colab": {},
    "colab_type": "code",
    "id": "MXUkhkMfU4wq"
   },
   "outputs": [
    {
     "data": {
      "text/html": [
       "<div>\n",
       "<style scoped>\n",
       "    .dataframe tbody tr th:only-of-type {\n",
       "        vertical-align: middle;\n",
       "    }\n",
       "\n",
       "    .dataframe tbody tr th {\n",
       "        vertical-align: top;\n",
       "    }\n",
       "\n",
       "    .dataframe thead th {\n",
       "        text-align: right;\n",
       "    }\n",
       "</style>\n",
       "<table border=\"1\" class=\"dataframe\">\n",
       "  <thead>\n",
       "    <tr style=\"text-align: right;\">\n",
       "      <th></th>\n",
       "      <th>Pregnancies</th>\n",
       "      <th>Glucose</th>\n",
       "      <th>BloodPressure</th>\n",
       "      <th>SkinThickness</th>\n",
       "      <th>Insulin</th>\n",
       "      <th>BMI</th>\n",
       "      <th>DiabetesPedigreeFunction</th>\n",
       "      <th>Age</th>\n",
       "      <th>Outcome</th>\n",
       "    </tr>\n",
       "  </thead>\n",
       "  <tbody>\n",
       "    <tr>\n",
       "      <th>0</th>\n",
       "      <td>6</td>\n",
       "      <td>148</td>\n",
       "      <td>72</td>\n",
       "      <td>35</td>\n",
       "      <td>0</td>\n",
       "      <td>33.6</td>\n",
       "      <td>0.627</td>\n",
       "      <td>50</td>\n",
       "      <td>1</td>\n",
       "    </tr>\n",
       "    <tr>\n",
       "      <th>1</th>\n",
       "      <td>1</td>\n",
       "      <td>85</td>\n",
       "      <td>66</td>\n",
       "      <td>29</td>\n",
       "      <td>0</td>\n",
       "      <td>26.6</td>\n",
       "      <td>0.351</td>\n",
       "      <td>31</td>\n",
       "      <td>0</td>\n",
       "    </tr>\n",
       "    <tr>\n",
       "      <th>2</th>\n",
       "      <td>8</td>\n",
       "      <td>183</td>\n",
       "      <td>64</td>\n",
       "      <td>0</td>\n",
       "      <td>0</td>\n",
       "      <td>23.3</td>\n",
       "      <td>0.672</td>\n",
       "      <td>32</td>\n",
       "      <td>1</td>\n",
       "    </tr>\n",
       "    <tr>\n",
       "      <th>3</th>\n",
       "      <td>1</td>\n",
       "      <td>89</td>\n",
       "      <td>66</td>\n",
       "      <td>23</td>\n",
       "      <td>94</td>\n",
       "      <td>28.1</td>\n",
       "      <td>0.167</td>\n",
       "      <td>21</td>\n",
       "      <td>0</td>\n",
       "    </tr>\n",
       "    <tr>\n",
       "      <th>4</th>\n",
       "      <td>0</td>\n",
       "      <td>137</td>\n",
       "      <td>40</td>\n",
       "      <td>35</td>\n",
       "      <td>168</td>\n",
       "      <td>43.1</td>\n",
       "      <td>2.288</td>\n",
       "      <td>33</td>\n",
       "      <td>1</td>\n",
       "    </tr>\n",
       "  </tbody>\n",
       "</table>\n",
       "</div>"
      ],
      "text/plain": [
       "   Pregnancies  Glucose  BloodPressure  SkinThickness  Insulin   BMI  \\\n",
       "0            6      148             72             35        0  33.6   \n",
       "1            1       85             66             29        0  26.6   \n",
       "2            8      183             64              0        0  23.3   \n",
       "3            1       89             66             23       94  28.1   \n",
       "4            0      137             40             35      168  43.1   \n",
       "\n",
       "   DiabetesPedigreeFunction  Age  Outcome  \n",
       "0                     0.627   50        1  \n",
       "1                     0.351   31        0  \n",
       "2                     0.672   32        1  \n",
       "3                     0.167   21        0  \n",
       "4                     2.288   33        1  "
      ]
     },
     "execution_count": 3,
     "metadata": {},
     "output_type": "execute_result"
    }
   ],
   "source": [
    "import pandas as pd\n",
    "df = pd.read_csv('diabetes.csv')\n",
    "df.head() #View first rows"
   ]
  },
  {
   "cell_type": "code",
   "execution_count": 4,
   "metadata": {},
   "outputs": [
    {
     "data": {
      "text/html": [
       "<div>\n",
       "<style scoped>\n",
       "    .dataframe tbody tr th:only-of-type {\n",
       "        vertical-align: middle;\n",
       "    }\n",
       "\n",
       "    .dataframe tbody tr th {\n",
       "        vertical-align: top;\n",
       "    }\n",
       "\n",
       "    .dataframe thead th {\n",
       "        text-align: right;\n",
       "    }\n",
       "</style>\n",
       "<table border=\"1\" class=\"dataframe\">\n",
       "  <thead>\n",
       "    <tr style=\"text-align: right;\">\n",
       "      <th></th>\n",
       "      <th>Pregnancies</th>\n",
       "      <th>Glucose</th>\n",
       "      <th>BloodPressure</th>\n",
       "      <th>SkinThickness</th>\n",
       "      <th>Insulin</th>\n",
       "      <th>BMI</th>\n",
       "      <th>DiabetesPedigreeFunction</th>\n",
       "      <th>Age</th>\n",
       "      <th>Outcome</th>\n",
       "    </tr>\n",
       "  </thead>\n",
       "  <tbody>\n",
       "    <tr>\n",
       "      <th>0</th>\n",
       "      <td>6</td>\n",
       "      <td>148</td>\n",
       "      <td>72</td>\n",
       "      <td>35</td>\n",
       "      <td>0</td>\n",
       "      <td>33.6</td>\n",
       "      <td>0.627</td>\n",
       "      <td>50</td>\n",
       "      <td>1</td>\n",
       "    </tr>\n",
       "    <tr>\n",
       "      <th>1</th>\n",
       "      <td>1</td>\n",
       "      <td>85</td>\n",
       "      <td>66</td>\n",
       "      <td>29</td>\n",
       "      <td>0</td>\n",
       "      <td>26.6</td>\n",
       "      <td>0.351</td>\n",
       "      <td>31</td>\n",
       "      <td>0</td>\n",
       "    </tr>\n",
       "    <tr>\n",
       "      <th>2</th>\n",
       "      <td>8</td>\n",
       "      <td>183</td>\n",
       "      <td>64</td>\n",
       "      <td>0</td>\n",
       "      <td>0</td>\n",
       "      <td>23.3</td>\n",
       "      <td>0.672</td>\n",
       "      <td>32</td>\n",
       "      <td>1</td>\n",
       "    </tr>\n",
       "    <tr>\n",
       "      <th>3</th>\n",
       "      <td>1</td>\n",
       "      <td>89</td>\n",
       "      <td>66</td>\n",
       "      <td>23</td>\n",
       "      <td>94</td>\n",
       "      <td>28.1</td>\n",
       "      <td>0.167</td>\n",
       "      <td>21</td>\n",
       "      <td>0</td>\n",
       "    </tr>\n",
       "    <tr>\n",
       "      <th>4</th>\n",
       "      <td>0</td>\n",
       "      <td>137</td>\n",
       "      <td>40</td>\n",
       "      <td>35</td>\n",
       "      <td>168</td>\n",
       "      <td>43.1</td>\n",
       "      <td>2.288</td>\n",
       "      <td>33</td>\n",
       "      <td>1</td>\n",
       "    </tr>\n",
       "    <tr>\n",
       "      <th>...</th>\n",
       "      <td>...</td>\n",
       "      <td>...</td>\n",
       "      <td>...</td>\n",
       "      <td>...</td>\n",
       "      <td>...</td>\n",
       "      <td>...</td>\n",
       "      <td>...</td>\n",
       "      <td>...</td>\n",
       "      <td>...</td>\n",
       "    </tr>\n",
       "    <tr>\n",
       "      <th>763</th>\n",
       "      <td>10</td>\n",
       "      <td>101</td>\n",
       "      <td>76</td>\n",
       "      <td>48</td>\n",
       "      <td>180</td>\n",
       "      <td>32.9</td>\n",
       "      <td>0.171</td>\n",
       "      <td>63</td>\n",
       "      <td>0</td>\n",
       "    </tr>\n",
       "    <tr>\n",
       "      <th>764</th>\n",
       "      <td>2</td>\n",
       "      <td>122</td>\n",
       "      <td>70</td>\n",
       "      <td>27</td>\n",
       "      <td>0</td>\n",
       "      <td>36.8</td>\n",
       "      <td>0.340</td>\n",
       "      <td>27</td>\n",
       "      <td>0</td>\n",
       "    </tr>\n",
       "    <tr>\n",
       "      <th>765</th>\n",
       "      <td>5</td>\n",
       "      <td>121</td>\n",
       "      <td>72</td>\n",
       "      <td>23</td>\n",
       "      <td>112</td>\n",
       "      <td>26.2</td>\n",
       "      <td>0.245</td>\n",
       "      <td>30</td>\n",
       "      <td>0</td>\n",
       "    </tr>\n",
       "    <tr>\n",
       "      <th>766</th>\n",
       "      <td>1</td>\n",
       "      <td>126</td>\n",
       "      <td>60</td>\n",
       "      <td>0</td>\n",
       "      <td>0</td>\n",
       "      <td>30.1</td>\n",
       "      <td>0.349</td>\n",
       "      <td>47</td>\n",
       "      <td>1</td>\n",
       "    </tr>\n",
       "    <tr>\n",
       "      <th>767</th>\n",
       "      <td>1</td>\n",
       "      <td>93</td>\n",
       "      <td>70</td>\n",
       "      <td>31</td>\n",
       "      <td>0</td>\n",
       "      <td>30.4</td>\n",
       "      <td>0.315</td>\n",
       "      <td>23</td>\n",
       "      <td>0</td>\n",
       "    </tr>\n",
       "  </tbody>\n",
       "</table>\n",
       "<p>768 rows × 9 columns</p>\n",
       "</div>"
      ],
      "text/plain": [
       "     Pregnancies  Glucose  BloodPressure  SkinThickness  Insulin   BMI  \\\n",
       "0              6      148             72             35        0  33.6   \n",
       "1              1       85             66             29        0  26.6   \n",
       "2              8      183             64              0        0  23.3   \n",
       "3              1       89             66             23       94  28.1   \n",
       "4              0      137             40             35      168  43.1   \n",
       "..           ...      ...            ...            ...      ...   ...   \n",
       "763           10      101             76             48      180  32.9   \n",
       "764            2      122             70             27        0  36.8   \n",
       "765            5      121             72             23      112  26.2   \n",
       "766            1      126             60              0        0  30.1   \n",
       "767            1       93             70             31        0  30.4   \n",
       "\n",
       "     DiabetesPedigreeFunction  Age  Outcome  \n",
       "0                       0.627   50        1  \n",
       "1                       0.351   31        0  \n",
       "2                       0.672   32        1  \n",
       "3                       0.167   21        0  \n",
       "4                       2.288   33        1  \n",
       "..                        ...  ...      ...  \n",
       "763                     0.171   63        0  \n",
       "764                     0.340   27        0  \n",
       "765                     0.245   30        0  \n",
       "766                     0.349   47        1  \n",
       "767                     0.315   23        0  \n",
       "\n",
       "[768 rows x 9 columns]"
      ]
     },
     "execution_count": 4,
     "metadata": {},
     "output_type": "execute_result"
    }
   ],
   "source": [
    "df"
   ]
  },
  {
   "cell_type": "code",
   "execution_count": 5,
   "metadata": {},
   "outputs": [],
   "source": [
    "X = df.iloc[:,0:8]\n",
    "y = df.iloc[:,8]"
   ]
  },
  {
   "cell_type": "code",
   "execution_count": 6,
   "metadata": {
    "colab": {
     "base_uri": "https://localhost:8080/",
     "height": 137
    },
    "colab_type": "code",
    "id": "VYP9cQTWbzuI",
    "outputId": "797e7a64-9bac-436a-8c9c-94437e5e7587"
   },
   "outputs": [
    {
     "name": "stdout",
     "output_type": "stream",
     "text": [
      "     Pregnancies  Glucose  BloodPressure  SkinThickness  Insulin   BMI  \\\n",
      "0              6      148             72             35        0  33.6   \n",
      "1              1       85             66             29        0  26.6   \n",
      "2              8      183             64              0        0  23.3   \n",
      "3              1       89             66             23       94  28.1   \n",
      "4              0      137             40             35      168  43.1   \n",
      "..           ...      ...            ...            ...      ...   ...   \n",
      "763           10      101             76             48      180  32.9   \n",
      "764            2      122             70             27        0  36.8   \n",
      "765            5      121             72             23      112  26.2   \n",
      "766            1      126             60              0        0  30.1   \n",
      "767            1       93             70             31        0  30.4   \n",
      "\n",
      "     DiabetesPedigreeFunction  Age  \n",
      "0                       0.627   50  \n",
      "1                       0.351   31  \n",
      "2                       0.672   32  \n",
      "3                       0.167   21  \n",
      "4                       2.288   33  \n",
      "..                        ...  ...  \n",
      "763                     0.171   63  \n",
      "764                     0.340   27  \n",
      "765                     0.245   30  \n",
      "766                     0.349   47  \n",
      "767                     0.315   23  \n",
      "\n",
      "[768 rows x 8 columns]\n"
     ]
    }
   ],
   "source": [
    "print(X)"
   ]
  },
  {
   "cell_type": "code",
   "execution_count": 7,
   "metadata": {
    "colab": {
     "base_uri": "https://localhost:8080/",
     "height": 34
    },
    "colab_type": "code",
    "id": "38vKGE6Nb2RR",
    "outputId": "a815e42a-e0dd-4cb5-ab97-b17ead98fbc3"
   },
   "outputs": [
    {
     "name": "stdout",
     "output_type": "stream",
     "text": [
      "0      1\n",
      "1      0\n",
      "2      1\n",
      "3      0\n",
      "4      1\n",
      "      ..\n",
      "763    0\n",
      "764    0\n",
      "765    0\n",
      "766    1\n",
      "767    0\n",
      "Name: Outcome, Length: 768, dtype: int64\n"
     ]
    }
   ],
   "source": [
    "print(y)"
   ]
  },
  {
   "cell_type": "markdown",
   "metadata": {
    "colab_type": "text",
    "id": "vHol938cW8zd"
   },
   "source": [
    "### Splitting the dataset into the Training set and Test set"
   ]
  },
  {
   "cell_type": "code",
   "execution_count": 8,
   "metadata": {
    "colab": {},
    "colab_type": "code",
    "id": "Z-TDt0Y_XEfc"
   },
   "outputs": [],
   "source": [
    "from sklearn.model_selection import train_test_split\n",
    "X_train, X_test, y_train, y_test = train_test_split(X, y, test_size = 0.2)"
   ]
  },
  {
   "cell_type": "markdown",
   "metadata": {
    "colab_type": "text",
    "id": "RE_FcHyfV3TQ"
   },
   "source": [
    "### Feature Scaling"
   ]
  },
  {
   "cell_type": "code",
   "execution_count": 9,
   "metadata": {
    "colab": {},
    "colab_type": "code",
    "id": "ViCrE00rV8Sk"
   },
   "outputs": [],
   "source": [
    "from sklearn.preprocessing import StandardScaler\n",
    "sc = StandardScaler()\n",
    "X_train = sc.fit_transform(X_train)\n",
    "X_test = sc.transform(X_test)"
   ]
  },
  {
   "cell_type": "markdown",
   "metadata": {
    "colab_type": "text",
    "id": "-zfEzkRVXIwF"
   },
   "source": [
    "## Part 2 - Building the ANN"
   ]
  },
  {
   "cell_type": "markdown",
   "metadata": {
    "colab_type": "text",
    "id": "KvdeScabXtlB"
   },
   "source": [
    "### Initializing the ANN"
   ]
  },
  {
   "cell_type": "code",
   "execution_count": 10,
   "metadata": {},
   "outputs": [],
   "source": [
    "from keras.models import Sequential\n",
    "from keras.layers import Dense, Input"
   ]
  },
  {
   "cell_type": "code",
   "execution_count": 11,
   "metadata": {
    "colab": {},
    "colab_type": "code",
    "id": "3dtrScHxXQox"
   },
   "outputs": [],
   "source": [
    "ann = tf.keras.models.Sequential()"
   ]
  },
  {
   "cell_type": "markdown",
   "metadata": {
    "colab_type": "text",
    "id": "rP6urV6SX7kS"
   },
   "source": [
    "### Adding the input layer and the first hidden layer"
   ]
  },
  {
   "cell_type": "code",
   "execution_count": 12,
   "metadata": {},
   "outputs": [],
   "source": [
    "ann.add(Input(shape=(8,)))  # This is the Input layer"
   ]
  },
  {
   "cell_type": "code",
   "execution_count": 13,
   "metadata": {
    "colab": {},
    "colab_type": "code",
    "id": "bppGycBXYCQr"
   },
   "outputs": [],
   "source": [
    "ann.add(tf.keras.layers.Dense(12, activation='relu'))"
   ]
  },
  {
   "cell_type": "markdown",
   "metadata": {
    "colab_type": "text",
    "id": "BELWAc_8YJze"
   },
   "source": [
    "### Adding the second hidden layer"
   ]
  },
  {
   "cell_type": "code",
   "execution_count": 14,
   "metadata": {
    "colab": {},
    "colab_type": "code",
    "id": "JneR0u0sYRTd"
   },
   "outputs": [],
   "source": [
    "ann.add(tf.keras.layers.Dense(8, activation='relu'))"
   ]
  },
  {
   "cell_type": "markdown",
   "metadata": {
    "colab_type": "text",
    "id": "OyNEe6RXYcU4"
   },
   "source": [
    "### Adding the output layer"
   ]
  },
  {
   "cell_type": "code",
   "execution_count": 15,
   "metadata": {
    "colab": {},
    "colab_type": "code",
    "id": "Cn3x41RBYfvY"
   },
   "outputs": [],
   "source": [
    "#for non-binary classification activation='softmax'\n",
    "ann.add(tf.keras.layers.Dense(units=1, activation='sigmoid'))"
   ]
  },
  {
   "attachments": {
    "nn.svg": {
     "image/svg+xml": [
      "PHN2ZyB4bWxucz0iaHR0cDovL3d3dy53My5vcmcvMjAwMC9zdmciIHN0eWxlPSJjdXJzb3I6IG1vdmU7IiB3aWR0aD0iMTM2NiIgaGVpZ2h0PSI1ODciPjxnPjxwYXRoIGNsYXNzPSJsaW5rIiBzdHlsZT0ic3Ryb2tlLXdpZHRoOiAwLjVweDsgc3Ryb2tlLW9wYWNpdHk6IDE7IHN0cm9rZTogcmdiKDgwLCA4MCwgODApOyBmaWxsOiBub25lOyIgbWFya2VyLWVuZD0iIiBkPSJNNDY5LjY2NjY2NjY2NjY2NjYzLDE0My41LCA2NDkuNjY2NjY2NjY2NjY2Niw2My41Ij48L3BhdGg+PHBhdGggY2xhc3M9ImxpbmsiIHN0eWxlPSJzdHJva2Utd2lkdGg6IDAuNXB4OyBzdHJva2Utb3BhY2l0eTogMTsgc3Ryb2tlOiByZ2IoODAsIDgwLCA4MCk7IGZpbGw6IG5vbmU7IiBtYXJrZXItZW5kPSIiIGQ9Ik00NjkuNjY2NjY2NjY2NjY2NjMsMTQzLjUsIDY0OS42NjY2NjY2NjY2NjY2LDEwMy41Ij48L3BhdGg+PHBhdGggY2xhc3M9ImxpbmsiIHN0eWxlPSJzdHJva2Utd2lkdGg6IDAuNXB4OyBzdHJva2Utb3BhY2l0eTogMTsgc3Ryb2tlOiByZ2IoODAsIDgwLCA4MCk7IGZpbGw6IG5vbmU7IiBtYXJrZXItZW5kPSIiIGQ9Ik00NjkuNjY2NjY2NjY2NjY2NjMsMTQzLjUsIDY0OS42NjY2NjY2NjY2NjY2LDE0My41Ij48L3BhdGg+PHBhdGggY2xhc3M9ImxpbmsiIHN0eWxlPSJzdHJva2Utd2lkdGg6IDAuNXB4OyBzdHJva2Utb3BhY2l0eTogMTsgc3Ryb2tlOiByZ2IoODAsIDgwLCA4MCk7IGZpbGw6IG5vbmU7IiBtYXJrZXItZW5kPSIiIGQ9Ik00NjkuNjY2NjY2NjY2NjY2NjMsMTQzLjUsIDY0OS42NjY2NjY2NjY2NjY2LDE4My41Ij48L3BhdGg+PHBhdGggY2xhc3M9ImxpbmsiIHN0eWxlPSJzdHJva2Utd2lkdGg6IDAuNXB4OyBzdHJva2Utb3BhY2l0eTogMTsgc3Ryb2tlOiByZ2IoODAsIDgwLCA4MCk7IGZpbGw6IG5vbmU7IiBtYXJrZXItZW5kPSIiIGQ9Ik00NjkuNjY2NjY2NjY2NjY2NjMsMTQzLjUsIDY0OS42NjY2NjY2NjY2NjY2LDIyMy41Ij48L3BhdGg+PHBhdGggY2xhc3M9ImxpbmsiIHN0eWxlPSJzdHJva2Utd2lkdGg6IDAuNXB4OyBzdHJva2Utb3BhY2l0eTogMTsgc3Ryb2tlOiByZ2IoODAsIDgwLCA4MCk7IGZpbGw6IG5vbmU7IiBtYXJrZXItZW5kPSIiIGQ9Ik00NjkuNjY2NjY2NjY2NjY2NjMsMTQzLjUsIDY0OS42NjY2NjY2NjY2NjY2LDI2My41Ij48L3BhdGg+PHBhdGggY2xhc3M9ImxpbmsiIHN0eWxlPSJzdHJva2Utd2lkdGg6IDAuNXB4OyBzdHJva2Utb3BhY2l0eTogMTsgc3Ryb2tlOiByZ2IoODAsIDgwLCA4MCk7IGZpbGw6IG5vbmU7IiBtYXJrZXItZW5kPSIiIGQ9Ik00NjkuNjY2NjY2NjY2NjY2NjMsMTQzLjUsIDY0OS42NjY2NjY2NjY2NjY2LDMwMy41Ij48L3BhdGg+PHBhdGggY2xhc3M9ImxpbmsiIHN0eWxlPSJzdHJva2Utd2lkdGg6IDAuNXB4OyBzdHJva2Utb3BhY2l0eTogMTsgc3Ryb2tlOiByZ2IoODAsIDgwLCA4MCk7IGZpbGw6IG5vbmU7IiBtYXJrZXItZW5kPSIiIGQ9Ik00NjkuNjY2NjY2NjY2NjY2NjMsMTQzLjUsIDY0OS42NjY2NjY2NjY2NjY2LDM0My41Ij48L3BhdGg+PHBhdGggY2xhc3M9ImxpbmsiIHN0eWxlPSJzdHJva2Utd2lkdGg6IDAuNXB4OyBzdHJva2Utb3BhY2l0eTogMTsgc3Ryb2tlOiByZ2IoODAsIDgwLCA4MCk7IGZpbGw6IG5vbmU7IiBtYXJrZXItZW5kPSIiIGQ9Ik00NjkuNjY2NjY2NjY2NjY2NjMsMTQzLjUsIDY0OS42NjY2NjY2NjY2NjY2LDM4My41Ij48L3BhdGg+PHBhdGggY2xhc3M9ImxpbmsiIHN0eWxlPSJzdHJva2Utd2lkdGg6IDAuNXB4OyBzdHJva2Utb3BhY2l0eTogMTsgc3Ryb2tlOiByZ2IoODAsIDgwLCA4MCk7IGZpbGw6IG5vbmU7IiBtYXJrZXItZW5kPSIiIGQ9Ik00NjkuNjY2NjY2NjY2NjY2NjMsMTQzLjUsIDY0OS42NjY2NjY2NjY2NjY2LDQyMy41Ij48L3BhdGg+PHBhdGggY2xhc3M9ImxpbmsiIHN0eWxlPSJzdHJva2Utd2lkdGg6IDAuNXB4OyBzdHJva2Utb3BhY2l0eTogMTsgc3Ryb2tlOiByZ2IoODAsIDgwLCA4MCk7IGZpbGw6IG5vbmU7IiBtYXJrZXItZW5kPSIiIGQ9Ik00NjkuNjY2NjY2NjY2NjY2NjMsMTQzLjUsIDY0OS42NjY2NjY2NjY2NjY2LDQ2My41Ij48L3BhdGg+PHBhdGggY2xhc3M9ImxpbmsiIHN0eWxlPSJzdHJva2Utd2lkdGg6IDAuNXB4OyBzdHJva2Utb3BhY2l0eTogMTsgc3Ryb2tlOiByZ2IoODAsIDgwLCA4MCk7IGZpbGw6IG5vbmU7IiBtYXJrZXItZW5kPSIiIGQ9Ik00NjkuNjY2NjY2NjY2NjY2NjMsMTQzLjUsIDY0OS42NjY2NjY2NjY2NjY2LDUwMy41Ij48L3BhdGg+PHBhdGggY2xhc3M9ImxpbmsiIHN0eWxlPSJzdHJva2Utd2lkdGg6IDAuNXB4OyBzdHJva2Utb3BhY2l0eTogMTsgc3Ryb2tlOiByZ2IoODAsIDgwLCA4MCk7IGZpbGw6IG5vbmU7IiBtYXJrZXItZW5kPSIiIGQ9Ik00NjkuNjY2NjY2NjY2NjY2NjMsMTgzLjUsIDY0OS42NjY2NjY2NjY2NjY2LDYzLjUiPjwvcGF0aD48cGF0aCBjbGFzcz0ibGluayIgc3R5bGU9InN0cm9rZS13aWR0aDogMC41cHg7IHN0cm9rZS1vcGFjaXR5OiAxOyBzdHJva2U6IHJnYig4MCwgODAsIDgwKTsgZmlsbDogbm9uZTsiIG1hcmtlci1lbmQ9IiIgZD0iTTQ2OS42NjY2NjY2NjY2NjY2MywxODMuNSwgNjQ5LjY2NjY2NjY2NjY2NjYsMTAzLjUiPjwvcGF0aD48cGF0aCBjbGFzcz0ibGluayIgc3R5bGU9InN0cm9rZS13aWR0aDogMC41cHg7IHN0cm9rZS1vcGFjaXR5OiAxOyBzdHJva2U6IHJnYig4MCwgODAsIDgwKTsgZmlsbDogbm9uZTsiIG1hcmtlci1lbmQ9IiIgZD0iTTQ2OS42NjY2NjY2NjY2NjY2MywxODMuNSwgNjQ5LjY2NjY2NjY2NjY2NjYsMTQzLjUiPjwvcGF0aD48cGF0aCBjbGFzcz0ibGluayIgc3R5bGU9InN0cm9rZS13aWR0aDogMC41cHg7IHN0cm9rZS1vcGFjaXR5OiAxOyBzdHJva2U6IHJnYig4MCwgODAsIDgwKTsgZmlsbDogbm9uZTsiIG1hcmtlci1lbmQ9IiIgZD0iTTQ2OS42NjY2NjY2NjY2NjY2MywxODMuNSwgNjQ5LjY2NjY2NjY2NjY2NjYsMTgzLjUiPjwvcGF0aD48cGF0aCBjbGFzcz0ibGluayIgc3R5bGU9InN0cm9rZS13aWR0aDogMC41cHg7IHN0cm9rZS1vcGFjaXR5OiAxOyBzdHJva2U6IHJnYig4MCwgODAsIDgwKTsgZmlsbDogbm9uZTsiIG1hcmtlci1lbmQ9IiIgZD0iTTQ2OS42NjY2NjY2NjY2NjY2MywxODMuNSwgNjQ5LjY2NjY2NjY2NjY2NjYsMjIzLjUiPjwvcGF0aD48cGF0aCBjbGFzcz0ibGluayIgc3R5bGU9InN0cm9rZS13aWR0aDogMC41cHg7IHN0cm9rZS1vcGFjaXR5OiAxOyBzdHJva2U6IHJnYig4MCwgODAsIDgwKTsgZmlsbDogbm9uZTsiIG1hcmtlci1lbmQ9IiIgZD0iTTQ2OS42NjY2NjY2NjY2NjY2MywxODMuNSwgNjQ5LjY2NjY2NjY2NjY2NjYsMjYzLjUiPjwvcGF0aD48cGF0aCBjbGFzcz0ibGluayIgc3R5bGU9InN0cm9rZS13aWR0aDogMC41cHg7IHN0cm9rZS1vcGFjaXR5OiAxOyBzdHJva2U6IHJnYig4MCwgODAsIDgwKTsgZmlsbDogbm9uZTsiIG1hcmtlci1lbmQ9IiIgZD0iTTQ2OS42NjY2NjY2NjY2NjY2MywxODMuNSwgNjQ5LjY2NjY2NjY2NjY2NjYsMzAzLjUiPjwvcGF0aD48cGF0aCBjbGFzcz0ibGluayIgc3R5bGU9InN0cm9rZS13aWR0aDogMC41cHg7IHN0cm9rZS1vcGFjaXR5OiAxOyBzdHJva2U6IHJnYig4MCwgODAsIDgwKTsgZmlsbDogbm9uZTsiIG1hcmtlci1lbmQ9IiIgZD0iTTQ2OS42NjY2NjY2NjY2NjY2MywxODMuNSwgNjQ5LjY2NjY2NjY2NjY2NjYsMzQzLjUiPjwvcGF0aD48cGF0aCBjbGFzcz0ibGluayIgc3R5bGU9InN0cm9rZS13aWR0aDogMC41cHg7IHN0cm9rZS1vcGFjaXR5OiAxOyBzdHJva2U6IHJnYig4MCwgODAsIDgwKTsgZmlsbDogbm9uZTsiIG1hcmtlci1lbmQ9IiIgZD0iTTQ2OS42NjY2NjY2NjY2NjY2MywxODMuNSwgNjQ5LjY2NjY2NjY2NjY2NjYsMzgzLjUiPjwvcGF0aD48cGF0aCBjbGFzcz0ibGluayIgc3R5bGU9InN0cm9rZS13aWR0aDogMC41cHg7IHN0cm9rZS1vcGFjaXR5OiAxOyBzdHJva2U6IHJnYig4MCwgODAsIDgwKTsgZmlsbDogbm9uZTsiIG1hcmtlci1lbmQ9IiIgZD0iTTQ2OS42NjY2NjY2NjY2NjY2MywxODMuNSwgNjQ5LjY2NjY2NjY2NjY2NjYsNDIzLjUiPjwvcGF0aD48cGF0aCBjbGFzcz0ibGluayIgc3R5bGU9InN0cm9rZS13aWR0aDogMC41cHg7IHN0cm9rZS1vcGFjaXR5OiAxOyBzdHJva2U6IHJnYig4MCwgODAsIDgwKTsgZmlsbDogbm9uZTsiIG1hcmtlci1lbmQ9IiIgZD0iTTQ2OS42NjY2NjY2NjY2NjY2MywxODMuNSwgNjQ5LjY2NjY2NjY2NjY2NjYsNDYzLjUiPjwvcGF0aD48cGF0aCBjbGFzcz0ibGluayIgc3R5bGU9InN0cm9rZS13aWR0aDogMC41cHg7IHN0cm9rZS1vcGFjaXR5OiAxOyBzdHJva2U6IHJnYig4MCwgODAsIDgwKTsgZmlsbDogbm9uZTsiIG1hcmtlci1lbmQ9IiIgZD0iTTQ2OS42NjY2NjY2NjY2NjY2MywxODMuNSwgNjQ5LjY2NjY2NjY2NjY2NjYsNTAzLjUiPjwvcGF0aD48cGF0aCBjbGFzcz0ibGluayIgc3R5bGU9InN0cm9rZS13aWR0aDogMC41cHg7IHN0cm9rZS1vcGFjaXR5OiAxOyBzdHJva2U6IHJnYig4MCwgODAsIDgwKTsgZmlsbDogbm9uZTsiIG1hcmtlci1lbmQ9IiIgZD0iTTQ2OS42NjY2NjY2NjY2NjY2MywyMjMuNSwgNjQ5LjY2NjY2NjY2NjY2NjYsNjMuNSI+PC9wYXRoPjxwYXRoIGNsYXNzPSJsaW5rIiBzdHlsZT0ic3Ryb2tlLXdpZHRoOiAwLjVweDsgc3Ryb2tlLW9wYWNpdHk6IDE7IHN0cm9rZTogcmdiKDgwLCA4MCwgODApOyBmaWxsOiBub25lOyIgbWFya2VyLWVuZD0iIiBkPSJNNDY5LjY2NjY2NjY2NjY2NjYzLDIyMy41LCA2NDkuNjY2NjY2NjY2NjY2NiwxMDMuNSI+PC9wYXRoPjxwYXRoIGNsYXNzPSJsaW5rIiBzdHlsZT0ic3Ryb2tlLXdpZHRoOiAwLjVweDsgc3Ryb2tlLW9wYWNpdHk6IDE7IHN0cm9rZTogcmdiKDgwLCA4MCwgODApOyBmaWxsOiBub25lOyIgbWFya2VyLWVuZD0iIiBkPSJNNDY5LjY2NjY2NjY2NjY2NjYzLDIyMy41LCA2NDkuNjY2NjY2NjY2NjY2NiwxNDMuNSI+PC9wYXRoPjxwYXRoIGNsYXNzPSJsaW5rIiBzdHlsZT0ic3Ryb2tlLXdpZHRoOiAwLjVweDsgc3Ryb2tlLW9wYWNpdHk6IDE7IHN0cm9rZTogcmdiKDgwLCA4MCwgODApOyBmaWxsOiBub25lOyIgbWFya2VyLWVuZD0iIiBkPSJNNDY5LjY2NjY2NjY2NjY2NjYzLDIyMy41LCA2NDkuNjY2NjY2NjY2NjY2NiwxODMuNSI+PC9wYXRoPjxwYXRoIGNsYXNzPSJsaW5rIiBzdHlsZT0ic3Ryb2tlLXdpZHRoOiAwLjVweDsgc3Ryb2tlLW9wYWNpdHk6IDE7IHN0cm9rZTogcmdiKDgwLCA4MCwgODApOyBmaWxsOiBub25lOyIgbWFya2VyLWVuZD0iIiBkPSJNNDY5LjY2NjY2NjY2NjY2NjYzLDIyMy41LCA2NDkuNjY2NjY2NjY2NjY2NiwyMjMuNSI+PC9wYXRoPjxwYXRoIGNsYXNzPSJsaW5rIiBzdHlsZT0ic3Ryb2tlLXdpZHRoOiAwLjVweDsgc3Ryb2tlLW9wYWNpdHk6IDE7IHN0cm9rZTogcmdiKDgwLCA4MCwgODApOyBmaWxsOiBub25lOyIgbWFya2VyLWVuZD0iIiBkPSJNNDY5LjY2NjY2NjY2NjY2NjYzLDIyMy41LCA2NDkuNjY2NjY2NjY2NjY2NiwyNjMuNSI+PC9wYXRoPjxwYXRoIGNsYXNzPSJsaW5rIiBzdHlsZT0ic3Ryb2tlLXdpZHRoOiAwLjVweDsgc3Ryb2tlLW9wYWNpdHk6IDE7IHN0cm9rZTogcmdiKDgwLCA4MCwgODApOyBmaWxsOiBub25lOyIgbWFya2VyLWVuZD0iIiBkPSJNNDY5LjY2NjY2NjY2NjY2NjYzLDIyMy41LCA2NDkuNjY2NjY2NjY2NjY2NiwzMDMuNSI+PC9wYXRoPjxwYXRoIGNsYXNzPSJsaW5rIiBzdHlsZT0ic3Ryb2tlLXdpZHRoOiAwLjVweDsgc3Ryb2tlLW9wYWNpdHk6IDE7IHN0cm9rZTogcmdiKDgwLCA4MCwgODApOyBmaWxsOiBub25lOyIgbWFya2VyLWVuZD0iIiBkPSJNNDY5LjY2NjY2NjY2NjY2NjYzLDIyMy41LCA2NDkuNjY2NjY2NjY2NjY2NiwzNDMuNSI+PC9wYXRoPjxwYXRoIGNsYXNzPSJsaW5rIiBzdHlsZT0ic3Ryb2tlLXdpZHRoOiAwLjVweDsgc3Ryb2tlLW9wYWNpdHk6IDE7IHN0cm9rZTogcmdiKDgwLCA4MCwgODApOyBmaWxsOiBub25lOyIgbWFya2VyLWVuZD0iIiBkPSJNNDY5LjY2NjY2NjY2NjY2NjYzLDIyMy41LCA2NDkuNjY2NjY2NjY2NjY2NiwzODMuNSI+PC9wYXRoPjxwYXRoIGNsYXNzPSJsaW5rIiBzdHlsZT0ic3Ryb2tlLXdpZHRoOiAwLjVweDsgc3Ryb2tlLW9wYWNpdHk6IDE7IHN0cm9rZTogcmdiKDgwLCA4MCwgODApOyBmaWxsOiBub25lOyIgbWFya2VyLWVuZD0iIiBkPSJNNDY5LjY2NjY2NjY2NjY2NjYzLDIyMy41LCA2NDkuNjY2NjY2NjY2NjY2Niw0MjMuNSI+PC9wYXRoPjxwYXRoIGNsYXNzPSJsaW5rIiBzdHlsZT0ic3Ryb2tlLXdpZHRoOiAwLjVweDsgc3Ryb2tlLW9wYWNpdHk6IDE7IHN0cm9rZTogcmdiKDgwLCA4MCwgODApOyBmaWxsOiBub25lOyIgbWFya2VyLWVuZD0iIiBkPSJNNDY5LjY2NjY2NjY2NjY2NjYzLDIyMy41LCA2NDkuNjY2NjY2NjY2NjY2Niw0NjMuNSI+PC9wYXRoPjxwYXRoIGNsYXNzPSJsaW5rIiBzdHlsZT0ic3Ryb2tlLXdpZHRoOiAwLjVweDsgc3Ryb2tlLW9wYWNpdHk6IDE7IHN0cm9rZTogcmdiKDgwLCA4MCwgODApOyBmaWxsOiBub25lOyIgbWFya2VyLWVuZD0iIiBkPSJNNDY5LjY2NjY2NjY2NjY2NjYzLDIyMy41LCA2NDkuNjY2NjY2NjY2NjY2Niw1MDMuNSI+PC9wYXRoPjxwYXRoIGNsYXNzPSJsaW5rIiBzdHlsZT0ic3Ryb2tlLXdpZHRoOiAwLjVweDsgc3Ryb2tlLW9wYWNpdHk6IDE7IHN0cm9rZTogcmdiKDgwLCA4MCwgODApOyBmaWxsOiBub25lOyIgbWFya2VyLWVuZD0iIiBkPSJNNDY5LjY2NjY2NjY2NjY2NjYzLDI2My41LCA2NDkuNjY2NjY2NjY2NjY2Niw2My41Ij48L3BhdGg+PHBhdGggY2xhc3M9ImxpbmsiIHN0eWxlPSJzdHJva2Utd2lkdGg6IDAuNXB4OyBzdHJva2Utb3BhY2l0eTogMTsgc3Ryb2tlOiByZ2IoODAsIDgwLCA4MCk7IGZpbGw6IG5vbmU7IiBtYXJrZXItZW5kPSIiIGQ9Ik00NjkuNjY2NjY2NjY2NjY2NjMsMjYzLjUsIDY0OS42NjY2NjY2NjY2NjY2LDEwMy41Ij48L3BhdGg+PHBhdGggY2xhc3M9ImxpbmsiIHN0eWxlPSJzdHJva2Utd2lkdGg6IDAuNXB4OyBzdHJva2Utb3BhY2l0eTogMTsgc3Ryb2tlOiByZ2IoODAsIDgwLCA4MCk7IGZpbGw6IG5vbmU7IiBtYXJrZXItZW5kPSIiIGQ9Ik00NjkuNjY2NjY2NjY2NjY2NjMsMjYzLjUsIDY0OS42NjY2NjY2NjY2NjY2LDE0My41Ij48L3BhdGg+PHBhdGggY2xhc3M9ImxpbmsiIHN0eWxlPSJzdHJva2Utd2lkdGg6IDAuNXB4OyBzdHJva2Utb3BhY2l0eTogMTsgc3Ryb2tlOiByZ2IoODAsIDgwLCA4MCk7IGZpbGw6IG5vbmU7IiBtYXJrZXItZW5kPSIiIGQ9Ik00NjkuNjY2NjY2NjY2NjY2NjMsMjYzLjUsIDY0OS42NjY2NjY2NjY2NjY2LDE4My41Ij48L3BhdGg+PHBhdGggY2xhc3M9ImxpbmsiIHN0eWxlPSJzdHJva2Utd2lkdGg6IDAuNXB4OyBzdHJva2Utb3BhY2l0eTogMTsgc3Ryb2tlOiByZ2IoODAsIDgwLCA4MCk7IGZpbGw6IG5vbmU7IiBtYXJrZXItZW5kPSIiIGQ9Ik00NjkuNjY2NjY2NjY2NjY2NjMsMjYzLjUsIDY0OS42NjY2NjY2NjY2NjY2LDIyMy41Ij48L3BhdGg+PHBhdGggY2xhc3M9ImxpbmsiIHN0eWxlPSJzdHJva2Utd2lkdGg6IDAuNXB4OyBzdHJva2Utb3BhY2l0eTogMTsgc3Ryb2tlOiByZ2IoODAsIDgwLCA4MCk7IGZpbGw6IG5vbmU7IiBtYXJrZXItZW5kPSIiIGQ9Ik00NjkuNjY2NjY2NjY2NjY2NjMsMjYzLjUsIDY0OS42NjY2NjY2NjY2NjY2LDI2My41Ij48L3BhdGg+PHBhdGggY2xhc3M9ImxpbmsiIHN0eWxlPSJzdHJva2Utd2lkdGg6IDAuNXB4OyBzdHJva2Utb3BhY2l0eTogMTsgc3Ryb2tlOiByZ2IoODAsIDgwLCA4MCk7IGZpbGw6IG5vbmU7IiBtYXJrZXItZW5kPSIiIGQ9Ik00NjkuNjY2NjY2NjY2NjY2NjMsMjYzLjUsIDY0OS42NjY2NjY2NjY2NjY2LDMwMy41Ij48L3BhdGg+PHBhdGggY2xhc3M9ImxpbmsiIHN0eWxlPSJzdHJva2Utd2lkdGg6IDAuNXB4OyBzdHJva2Utb3BhY2l0eTogMTsgc3Ryb2tlOiByZ2IoODAsIDgwLCA4MCk7IGZpbGw6IG5vbmU7IiBtYXJrZXItZW5kPSIiIGQ9Ik00NjkuNjY2NjY2NjY2NjY2NjMsMjYzLjUsIDY0OS42NjY2NjY2NjY2NjY2LDM0My41Ij48L3BhdGg+PHBhdGggY2xhc3M9ImxpbmsiIHN0eWxlPSJzdHJva2Utd2lkdGg6IDAuNXB4OyBzdHJva2Utb3BhY2l0eTogMTsgc3Ryb2tlOiByZ2IoODAsIDgwLCA4MCk7IGZpbGw6IG5vbmU7IiBtYXJrZXItZW5kPSIiIGQ9Ik00NjkuNjY2NjY2NjY2NjY2NjMsMjYzLjUsIDY0OS42NjY2NjY2NjY2NjY2LDM4My41Ij48L3BhdGg+PHBhdGggY2xhc3M9ImxpbmsiIHN0eWxlPSJzdHJva2Utd2lkdGg6IDAuNXB4OyBzdHJva2Utb3BhY2l0eTogMTsgc3Ryb2tlOiByZ2IoODAsIDgwLCA4MCk7IGZpbGw6IG5vbmU7IiBtYXJrZXItZW5kPSIiIGQ9Ik00NjkuNjY2NjY2NjY2NjY2NjMsMjYzLjUsIDY0OS42NjY2NjY2NjY2NjY2LDQyMy41Ij48L3BhdGg+PHBhdGggY2xhc3M9ImxpbmsiIHN0eWxlPSJzdHJva2Utd2lkdGg6IDAuNXB4OyBzdHJva2Utb3BhY2l0eTogMTsgc3Ryb2tlOiByZ2IoODAsIDgwLCA4MCk7IGZpbGw6IG5vbmU7IiBtYXJrZXItZW5kPSIiIGQ9Ik00NjkuNjY2NjY2NjY2NjY2NjMsMjYzLjUsIDY0OS42NjY2NjY2NjY2NjY2LDQ2My41Ij48L3BhdGg+PHBhdGggY2xhc3M9ImxpbmsiIHN0eWxlPSJzdHJva2Utd2lkdGg6IDAuNXB4OyBzdHJva2Utb3BhY2l0eTogMTsgc3Ryb2tlOiByZ2IoODAsIDgwLCA4MCk7IGZpbGw6IG5vbmU7IiBtYXJrZXItZW5kPSIiIGQ9Ik00NjkuNjY2NjY2NjY2NjY2NjMsMjYzLjUsIDY0OS42NjY2NjY2NjY2NjY2LDUwMy41Ij48L3BhdGg+PHBhdGggY2xhc3M9ImxpbmsiIHN0eWxlPSJzdHJva2Utd2lkdGg6IDAuNXB4OyBzdHJva2Utb3BhY2l0eTogMTsgc3Ryb2tlOiByZ2IoODAsIDgwLCA4MCk7IGZpbGw6IG5vbmU7IiBtYXJrZXItZW5kPSIiIGQ9Ik00NjkuNjY2NjY2NjY2NjY2NjMsMzAzLjUsIDY0OS42NjY2NjY2NjY2NjY2LDYzLjUiPjwvcGF0aD48cGF0aCBjbGFzcz0ibGluayIgc3R5bGU9InN0cm9rZS13aWR0aDogMC41cHg7IHN0cm9rZS1vcGFjaXR5OiAxOyBzdHJva2U6IHJnYig4MCwgODAsIDgwKTsgZmlsbDogbm9uZTsiIG1hcmtlci1lbmQ9IiIgZD0iTTQ2OS42NjY2NjY2NjY2NjY2MywzMDMuNSwgNjQ5LjY2NjY2NjY2NjY2NjYsMTAzLjUiPjwvcGF0aD48cGF0aCBjbGFzcz0ibGluayIgc3R5bGU9InN0cm9rZS13aWR0aDogMC41cHg7IHN0cm9rZS1vcGFjaXR5OiAxOyBzdHJva2U6IHJnYig4MCwgODAsIDgwKTsgZmlsbDogbm9uZTsiIG1hcmtlci1lbmQ9IiIgZD0iTTQ2OS42NjY2NjY2NjY2NjY2MywzMDMuNSwgNjQ5LjY2NjY2NjY2NjY2NjYsMTQzLjUiPjwvcGF0aD48cGF0aCBjbGFzcz0ibGluayIgc3R5bGU9InN0cm9rZS13aWR0aDogMC41cHg7IHN0cm9rZS1vcGFjaXR5OiAxOyBzdHJva2U6IHJnYig4MCwgODAsIDgwKTsgZmlsbDogbm9uZTsiIG1hcmtlci1lbmQ9IiIgZD0iTTQ2OS42NjY2NjY2NjY2NjY2MywzMDMuNSwgNjQ5LjY2NjY2NjY2NjY2NjYsMTgzLjUiPjwvcGF0aD48cGF0aCBjbGFzcz0ibGluayIgc3R5bGU9InN0cm9rZS13aWR0aDogMC41cHg7IHN0cm9rZS1vcGFjaXR5OiAxOyBzdHJva2U6IHJnYig4MCwgODAsIDgwKTsgZmlsbDogbm9uZTsiIG1hcmtlci1lbmQ9IiIgZD0iTTQ2OS42NjY2NjY2NjY2NjY2MywzMDMuNSwgNjQ5LjY2NjY2NjY2NjY2NjYsMjIzLjUiPjwvcGF0aD48cGF0aCBjbGFzcz0ibGluayIgc3R5bGU9InN0cm9rZS13aWR0aDogMC41cHg7IHN0cm9rZS1vcGFjaXR5OiAxOyBzdHJva2U6IHJnYig4MCwgODAsIDgwKTsgZmlsbDogbm9uZTsiIG1hcmtlci1lbmQ9IiIgZD0iTTQ2OS42NjY2NjY2NjY2NjY2MywzMDMuNSwgNjQ5LjY2NjY2NjY2NjY2NjYsMjYzLjUiPjwvcGF0aD48cGF0aCBjbGFzcz0ibGluayIgc3R5bGU9InN0cm9rZS13aWR0aDogMC41cHg7IHN0cm9rZS1vcGFjaXR5OiAxOyBzdHJva2U6IHJnYig4MCwgODAsIDgwKTsgZmlsbDogbm9uZTsiIG1hcmtlci1lbmQ9IiIgZD0iTTQ2OS42NjY2NjY2NjY2NjY2MywzMDMuNSwgNjQ5LjY2NjY2NjY2NjY2NjYsMzAzLjUiPjwvcGF0aD48cGF0aCBjbGFzcz0ibGluayIgc3R5bGU9InN0cm9rZS13aWR0aDogMC41cHg7IHN0cm9rZS1vcGFjaXR5OiAxOyBzdHJva2U6IHJnYig4MCwgODAsIDgwKTsgZmlsbDogbm9uZTsiIG1hcmtlci1lbmQ9IiIgZD0iTTQ2OS42NjY2NjY2NjY2NjY2MywzMDMuNSwgNjQ5LjY2NjY2NjY2NjY2NjYsMzQzLjUiPjwvcGF0aD48cGF0aCBjbGFzcz0ibGluayIgc3R5bGU9InN0cm9rZS13aWR0aDogMC41cHg7IHN0cm9rZS1vcGFjaXR5OiAxOyBzdHJva2U6IHJnYig4MCwgODAsIDgwKTsgZmlsbDogbm9uZTsiIG1hcmtlci1lbmQ9IiIgZD0iTTQ2OS42NjY2NjY2NjY2NjY2MywzMDMuNSwgNjQ5LjY2NjY2NjY2NjY2NjYsMzgzLjUiPjwvcGF0aD48cGF0aCBjbGFzcz0ibGluayIgc3R5bGU9InN0cm9rZS13aWR0aDogMC41cHg7IHN0cm9rZS1vcGFjaXR5OiAxOyBzdHJva2U6IHJnYig4MCwgODAsIDgwKTsgZmlsbDogbm9uZTsiIG1hcmtlci1lbmQ9IiIgZD0iTTQ2OS42NjY2NjY2NjY2NjY2MywzMDMuNSwgNjQ5LjY2NjY2NjY2NjY2NjYsNDIzLjUiPjwvcGF0aD48cGF0aCBjbGFzcz0ibGluayIgc3R5bGU9InN0cm9rZS13aWR0aDogMC41cHg7IHN0cm9rZS1vcGFjaXR5OiAxOyBzdHJva2U6IHJnYig4MCwgODAsIDgwKTsgZmlsbDogbm9uZTsiIG1hcmtlci1lbmQ9IiIgZD0iTTQ2OS42NjY2NjY2NjY2NjY2MywzMDMuNSwgNjQ5LjY2NjY2NjY2NjY2NjYsNDYzLjUiPjwvcGF0aD48cGF0aCBjbGFzcz0ibGluayIgc3R5bGU9InN0cm9rZS13aWR0aDogMC41cHg7IHN0cm9rZS1vcGFjaXR5OiAxOyBzdHJva2U6IHJnYig4MCwgODAsIDgwKTsgZmlsbDogbm9uZTsiIG1hcmtlci1lbmQ9IiIgZD0iTTQ2OS42NjY2NjY2NjY2NjY2MywzMDMuNSwgNjQ5LjY2NjY2NjY2NjY2NjYsNTAzLjUiPjwvcGF0aD48cGF0aCBjbGFzcz0ibGluayIgc3R5bGU9InN0cm9rZS13aWR0aDogMC41cHg7IHN0cm9rZS1vcGFjaXR5OiAxOyBzdHJva2U6IHJnYig4MCwgODAsIDgwKTsgZmlsbDogbm9uZTsiIG1hcmtlci1lbmQ9IiIgZD0iTTQ2OS42NjY2NjY2NjY2NjY2MywzNDMuNSwgNjQ5LjY2NjY2NjY2NjY2NjYsNjMuNSI+PC9wYXRoPjxwYXRoIGNsYXNzPSJsaW5rIiBzdHlsZT0ic3Ryb2tlLXdpZHRoOiAwLjVweDsgc3Ryb2tlLW9wYWNpdHk6IDE7IHN0cm9rZTogcmdiKDgwLCA4MCwgODApOyBmaWxsOiBub25lOyIgbWFya2VyLWVuZD0iIiBkPSJNNDY5LjY2NjY2NjY2NjY2NjYzLDM0My41LCA2NDkuNjY2NjY2NjY2NjY2NiwxMDMuNSI+PC9wYXRoPjxwYXRoIGNsYXNzPSJsaW5rIiBzdHlsZT0ic3Ryb2tlLXdpZHRoOiAwLjVweDsgc3Ryb2tlLW9wYWNpdHk6IDE7IHN0cm9rZTogcmdiKDgwLCA4MCwgODApOyBmaWxsOiBub25lOyIgbWFya2VyLWVuZD0iIiBkPSJNNDY5LjY2NjY2NjY2NjY2NjYzLDM0My41LCA2NDkuNjY2NjY2NjY2NjY2NiwxNDMuNSI+PC9wYXRoPjxwYXRoIGNsYXNzPSJsaW5rIiBzdHlsZT0ic3Ryb2tlLXdpZHRoOiAwLjVweDsgc3Ryb2tlLW9wYWNpdHk6IDE7IHN0cm9rZTogcmdiKDgwLCA4MCwgODApOyBmaWxsOiBub25lOyIgbWFya2VyLWVuZD0iIiBkPSJNNDY5LjY2NjY2NjY2NjY2NjYzLDM0My41LCA2NDkuNjY2NjY2NjY2NjY2NiwxODMuNSI+PC9wYXRoPjxwYXRoIGNsYXNzPSJsaW5rIiBzdHlsZT0ic3Ryb2tlLXdpZHRoOiAwLjVweDsgc3Ryb2tlLW9wYWNpdHk6IDE7IHN0cm9rZTogcmdiKDgwLCA4MCwgODApOyBmaWxsOiBub25lOyIgbWFya2VyLWVuZD0iIiBkPSJNNDY5LjY2NjY2NjY2NjY2NjYzLDM0My41LCA2NDkuNjY2NjY2NjY2NjY2NiwyMjMuNSI+PC9wYXRoPjxwYXRoIGNsYXNzPSJsaW5rIiBzdHlsZT0ic3Ryb2tlLXdpZHRoOiAwLjVweDsgc3Ryb2tlLW9wYWNpdHk6IDE7IHN0cm9rZTogcmdiKDgwLCA4MCwgODApOyBmaWxsOiBub25lOyIgbWFya2VyLWVuZD0iIiBkPSJNNDY5LjY2NjY2NjY2NjY2NjYzLDM0My41LCA2NDkuNjY2NjY2NjY2NjY2NiwyNjMuNSI+PC9wYXRoPjxwYXRoIGNsYXNzPSJsaW5rIiBzdHlsZT0ic3Ryb2tlLXdpZHRoOiAwLjVweDsgc3Ryb2tlLW9wYWNpdHk6IDE7IHN0cm9rZTogcmdiKDgwLCA4MCwgODApOyBmaWxsOiBub25lOyIgbWFya2VyLWVuZD0iIiBkPSJNNDY5LjY2NjY2NjY2NjY2NjYzLDM0My41LCA2NDkuNjY2NjY2NjY2NjY2NiwzMDMuNSI+PC9wYXRoPjxwYXRoIGNsYXNzPSJsaW5rIiBzdHlsZT0ic3Ryb2tlLXdpZHRoOiAwLjVweDsgc3Ryb2tlLW9wYWNpdHk6IDE7IHN0cm9rZTogcmdiKDgwLCA4MCwgODApOyBmaWxsOiBub25lOyIgbWFya2VyLWVuZD0iIiBkPSJNNDY5LjY2NjY2NjY2NjY2NjYzLDM0My41LCA2NDkuNjY2NjY2NjY2NjY2NiwzNDMuNSI+PC9wYXRoPjxwYXRoIGNsYXNzPSJsaW5rIiBzdHlsZT0ic3Ryb2tlLXdpZHRoOiAwLjVweDsgc3Ryb2tlLW9wYWNpdHk6IDE7IHN0cm9rZTogcmdiKDgwLCA4MCwgODApOyBmaWxsOiBub25lOyIgbWFya2VyLWVuZD0iIiBkPSJNNDY5LjY2NjY2NjY2NjY2NjYzLDM0My41LCA2NDkuNjY2NjY2NjY2NjY2NiwzODMuNSI+PC9wYXRoPjxwYXRoIGNsYXNzPSJsaW5rIiBzdHlsZT0ic3Ryb2tlLXdpZHRoOiAwLjVweDsgc3Ryb2tlLW9wYWNpdHk6IDE7IHN0cm9rZTogcmdiKDgwLCA4MCwgODApOyBmaWxsOiBub25lOyIgbWFya2VyLWVuZD0iIiBkPSJNNDY5LjY2NjY2NjY2NjY2NjYzLDM0My41LCA2NDkuNjY2NjY2NjY2NjY2Niw0MjMuNSI+PC9wYXRoPjxwYXRoIGNsYXNzPSJsaW5rIiBzdHlsZT0ic3Ryb2tlLXdpZHRoOiAwLjVweDsgc3Ryb2tlLW9wYWNpdHk6IDE7IHN0cm9rZTogcmdiKDgwLCA4MCwgODApOyBmaWxsOiBub25lOyIgbWFya2VyLWVuZD0iIiBkPSJNNDY5LjY2NjY2NjY2NjY2NjYzLDM0My41LCA2NDkuNjY2NjY2NjY2NjY2Niw0NjMuNSI+PC9wYXRoPjxwYXRoIGNsYXNzPSJsaW5rIiBzdHlsZT0ic3Ryb2tlLXdpZHRoOiAwLjVweDsgc3Ryb2tlLW9wYWNpdHk6IDE7IHN0cm9rZTogcmdiKDgwLCA4MCwgODApOyBmaWxsOiBub25lOyIgbWFya2VyLWVuZD0iIiBkPSJNNDY5LjY2NjY2NjY2NjY2NjYzLDM0My41LCA2NDkuNjY2NjY2NjY2NjY2Niw1MDMuNSI+PC9wYXRoPjxwYXRoIGNsYXNzPSJsaW5rIiBzdHlsZT0ic3Ryb2tlLXdpZHRoOiAwLjVweDsgc3Ryb2tlLW9wYWNpdHk6IDE7IHN0cm9rZTogcmdiKDgwLCA4MCwgODApOyBmaWxsOiBub25lOyIgbWFya2VyLWVuZD0iIiBkPSJNNDY5LjY2NjY2NjY2NjY2NjYzLDM4My41LCA2NDkuNjY2NjY2NjY2NjY2Niw2My41Ij48L3BhdGg+PHBhdGggY2xhc3M9ImxpbmsiIHN0eWxlPSJzdHJva2Utd2lkdGg6IDAuNXB4OyBzdHJva2Utb3BhY2l0eTogMTsgc3Ryb2tlOiByZ2IoODAsIDgwLCA4MCk7IGZpbGw6IG5vbmU7IiBtYXJrZXItZW5kPSIiIGQ9Ik00NjkuNjY2NjY2NjY2NjY2NjMsMzgzLjUsIDY0OS42NjY2NjY2NjY2NjY2LDEwMy41Ij48L3BhdGg+PHBhdGggY2xhc3M9ImxpbmsiIHN0eWxlPSJzdHJva2Utd2lkdGg6IDAuNXB4OyBzdHJva2Utb3BhY2l0eTogMTsgc3Ryb2tlOiByZ2IoODAsIDgwLCA4MCk7IGZpbGw6IG5vbmU7IiBtYXJrZXItZW5kPSIiIGQ9Ik00NjkuNjY2NjY2NjY2NjY2NjMsMzgzLjUsIDY0OS42NjY2NjY2NjY2NjY2LDE0My41Ij48L3BhdGg+PHBhdGggY2xhc3M9ImxpbmsiIHN0eWxlPSJzdHJva2Utd2lkdGg6IDAuNXB4OyBzdHJva2Utb3BhY2l0eTogMTsgc3Ryb2tlOiByZ2IoODAsIDgwLCA4MCk7IGZpbGw6IG5vbmU7IiBtYXJrZXItZW5kPSIiIGQ9Ik00NjkuNjY2NjY2NjY2NjY2NjMsMzgzLjUsIDY0OS42NjY2NjY2NjY2NjY2LDE4My41Ij48L3BhdGg+PHBhdGggY2xhc3M9ImxpbmsiIHN0eWxlPSJzdHJva2Utd2lkdGg6IDAuNXB4OyBzdHJva2Utb3BhY2l0eTogMTsgc3Ryb2tlOiByZ2IoODAsIDgwLCA4MCk7IGZpbGw6IG5vbmU7IiBtYXJrZXItZW5kPSIiIGQ9Ik00NjkuNjY2NjY2NjY2NjY2NjMsMzgzLjUsIDY0OS42NjY2NjY2NjY2NjY2LDIyMy41Ij48L3BhdGg+PHBhdGggY2xhc3M9ImxpbmsiIHN0eWxlPSJzdHJva2Utd2lkdGg6IDAuNXB4OyBzdHJva2Utb3BhY2l0eTogMTsgc3Ryb2tlOiByZ2IoODAsIDgwLCA4MCk7IGZpbGw6IG5vbmU7IiBtYXJrZXItZW5kPSIiIGQ9Ik00NjkuNjY2NjY2NjY2NjY2NjMsMzgzLjUsIDY0OS42NjY2NjY2NjY2NjY2LDI2My41Ij48L3BhdGg+PHBhdGggY2xhc3M9ImxpbmsiIHN0eWxlPSJzdHJva2Utd2lkdGg6IDAuNXB4OyBzdHJva2Utb3BhY2l0eTogMTsgc3Ryb2tlOiByZ2IoODAsIDgwLCA4MCk7IGZpbGw6IG5vbmU7IiBtYXJrZXItZW5kPSIiIGQ9Ik00NjkuNjY2NjY2NjY2NjY2NjMsMzgzLjUsIDY0OS42NjY2NjY2NjY2NjY2LDMwMy41Ij48L3BhdGg+PHBhdGggY2xhc3M9ImxpbmsiIHN0eWxlPSJzdHJva2Utd2lkdGg6IDAuNXB4OyBzdHJva2Utb3BhY2l0eTogMTsgc3Ryb2tlOiByZ2IoODAsIDgwLCA4MCk7IGZpbGw6IG5vbmU7IiBtYXJrZXItZW5kPSIiIGQ9Ik00NjkuNjY2NjY2NjY2NjY2NjMsMzgzLjUsIDY0OS42NjY2NjY2NjY2NjY2LDM0My41Ij48L3BhdGg+PHBhdGggY2xhc3M9ImxpbmsiIHN0eWxlPSJzdHJva2Utd2lkdGg6IDAuNXB4OyBzdHJva2Utb3BhY2l0eTogMTsgc3Ryb2tlOiByZ2IoODAsIDgwLCA4MCk7IGZpbGw6IG5vbmU7IiBtYXJrZXItZW5kPSIiIGQ9Ik00NjkuNjY2NjY2NjY2NjY2NjMsMzgzLjUsIDY0OS42NjY2NjY2NjY2NjY2LDM4My41Ij48L3BhdGg+PHBhdGggY2xhc3M9ImxpbmsiIHN0eWxlPSJzdHJva2Utd2lkdGg6IDAuNXB4OyBzdHJva2Utb3BhY2l0eTogMTsgc3Ryb2tlOiByZ2IoODAsIDgwLCA4MCk7IGZpbGw6IG5vbmU7IiBtYXJrZXItZW5kPSIiIGQ9Ik00NjkuNjY2NjY2NjY2NjY2NjMsMzgzLjUsIDY0OS42NjY2NjY2NjY2NjY2LDQyMy41Ij48L3BhdGg+PHBhdGggY2xhc3M9ImxpbmsiIHN0eWxlPSJzdHJva2Utd2lkdGg6IDAuNXB4OyBzdHJva2Utb3BhY2l0eTogMTsgc3Ryb2tlOiByZ2IoODAsIDgwLCA4MCk7IGZpbGw6IG5vbmU7IiBtYXJrZXItZW5kPSIiIGQ9Ik00NjkuNjY2NjY2NjY2NjY2NjMsMzgzLjUsIDY0OS42NjY2NjY2NjY2NjY2LDQ2My41Ij48L3BhdGg+PHBhdGggY2xhc3M9ImxpbmsiIHN0eWxlPSJzdHJva2Utd2lkdGg6IDAuNXB4OyBzdHJva2Utb3BhY2l0eTogMTsgc3Ryb2tlOiByZ2IoODAsIDgwLCA4MCk7IGZpbGw6IG5vbmU7IiBtYXJrZXItZW5kPSIiIGQ9Ik00NjkuNjY2NjY2NjY2NjY2NjMsMzgzLjUsIDY0OS42NjY2NjY2NjY2NjY2LDUwMy41Ij48L3BhdGg+PHBhdGggY2xhc3M9ImxpbmsiIHN0eWxlPSJzdHJva2Utd2lkdGg6IDAuNXB4OyBzdHJva2Utb3BhY2l0eTogMTsgc3Ryb2tlOiByZ2IoODAsIDgwLCA4MCk7IGZpbGw6IG5vbmU7IiBtYXJrZXItZW5kPSIiIGQ9Ik00NjkuNjY2NjY2NjY2NjY2NjMsNDIzLjUsIDY0OS42NjY2NjY2NjY2NjY2LDYzLjUiPjwvcGF0aD48cGF0aCBjbGFzcz0ibGluayIgc3R5bGU9InN0cm9rZS13aWR0aDogMC41cHg7IHN0cm9rZS1vcGFjaXR5OiAxOyBzdHJva2U6IHJnYig4MCwgODAsIDgwKTsgZmlsbDogbm9uZTsiIG1hcmtlci1lbmQ9IiIgZD0iTTQ2OS42NjY2NjY2NjY2NjY2Myw0MjMuNSwgNjQ5LjY2NjY2NjY2NjY2NjYsMTAzLjUiPjwvcGF0aD48cGF0aCBjbGFzcz0ibGluayIgc3R5bGU9InN0cm9rZS13aWR0aDogMC41cHg7IHN0cm9rZS1vcGFjaXR5OiAxOyBzdHJva2U6IHJnYig4MCwgODAsIDgwKTsgZmlsbDogbm9uZTsiIG1hcmtlci1lbmQ9IiIgZD0iTTQ2OS42NjY2NjY2NjY2NjY2Myw0MjMuNSwgNjQ5LjY2NjY2NjY2NjY2NjYsMTQzLjUiPjwvcGF0aD48cGF0aCBjbGFzcz0ibGluayIgc3R5bGU9InN0cm9rZS13aWR0aDogMC41cHg7IHN0cm9rZS1vcGFjaXR5OiAxOyBzdHJva2U6IHJnYig4MCwgODAsIDgwKTsgZmlsbDogbm9uZTsiIG1hcmtlci1lbmQ9IiIgZD0iTTQ2OS42NjY2NjY2NjY2NjY2Myw0MjMuNSwgNjQ5LjY2NjY2NjY2NjY2NjYsMTgzLjUiPjwvcGF0aD48cGF0aCBjbGFzcz0ibGluayIgc3R5bGU9InN0cm9rZS13aWR0aDogMC41cHg7IHN0cm9rZS1vcGFjaXR5OiAxOyBzdHJva2U6IHJnYig4MCwgODAsIDgwKTsgZmlsbDogbm9uZTsiIG1hcmtlci1lbmQ9IiIgZD0iTTQ2OS42NjY2NjY2NjY2NjY2Myw0MjMuNSwgNjQ5LjY2NjY2NjY2NjY2NjYsMjIzLjUiPjwvcGF0aD48cGF0aCBjbGFzcz0ibGluayIgc3R5bGU9InN0cm9rZS13aWR0aDogMC41cHg7IHN0cm9rZS1vcGFjaXR5OiAxOyBzdHJva2U6IHJnYig4MCwgODAsIDgwKTsgZmlsbDogbm9uZTsiIG1hcmtlci1lbmQ9IiIgZD0iTTQ2OS42NjY2NjY2NjY2NjY2Myw0MjMuNSwgNjQ5LjY2NjY2NjY2NjY2NjYsMjYzLjUiPjwvcGF0aD48cGF0aCBjbGFzcz0ibGluayIgc3R5bGU9InN0cm9rZS13aWR0aDogMC41cHg7IHN0cm9rZS1vcGFjaXR5OiAxOyBzdHJva2U6IHJnYig4MCwgODAsIDgwKTsgZmlsbDogbm9uZTsiIG1hcmtlci1lbmQ9IiIgZD0iTTQ2OS42NjY2NjY2NjY2NjY2Myw0MjMuNSwgNjQ5LjY2NjY2NjY2NjY2NjYsMzAzLjUiPjwvcGF0aD48cGF0aCBjbGFzcz0ibGluayIgc3R5bGU9InN0cm9rZS13aWR0aDogMC41cHg7IHN0cm9rZS1vcGFjaXR5OiAxOyBzdHJva2U6IHJnYig4MCwgODAsIDgwKTsgZmlsbDogbm9uZTsiIG1hcmtlci1lbmQ9IiIgZD0iTTQ2OS42NjY2NjY2NjY2NjY2Myw0MjMuNSwgNjQ5LjY2NjY2NjY2NjY2NjYsMzQzLjUiPjwvcGF0aD48cGF0aCBjbGFzcz0ibGluayIgc3R5bGU9InN0cm9rZS13aWR0aDogMC41cHg7IHN0cm9rZS1vcGFjaXR5OiAxOyBzdHJva2U6IHJnYig4MCwgODAsIDgwKTsgZmlsbDogbm9uZTsiIG1hcmtlci1lbmQ9IiIgZD0iTTQ2OS42NjY2NjY2NjY2NjY2Myw0MjMuNSwgNjQ5LjY2NjY2NjY2NjY2NjYsMzgzLjUiPjwvcGF0aD48cGF0aCBjbGFzcz0ibGluayIgc3R5bGU9InN0cm9rZS13aWR0aDogMC41cHg7IHN0cm9rZS1vcGFjaXR5OiAxOyBzdHJva2U6IHJnYig4MCwgODAsIDgwKTsgZmlsbDogbm9uZTsiIG1hcmtlci1lbmQ9IiIgZD0iTTQ2OS42NjY2NjY2NjY2NjY2Myw0MjMuNSwgNjQ5LjY2NjY2NjY2NjY2NjYsNDIzLjUiPjwvcGF0aD48cGF0aCBjbGFzcz0ibGluayIgc3R5bGU9InN0cm9rZS13aWR0aDogMC41cHg7IHN0cm9rZS1vcGFjaXR5OiAxOyBzdHJva2U6IHJnYig4MCwgODAsIDgwKTsgZmlsbDogbm9uZTsiIG1hcmtlci1lbmQ9IiIgZD0iTTQ2OS42NjY2NjY2NjY2NjY2Myw0MjMuNSwgNjQ5LjY2NjY2NjY2NjY2NjYsNDYzLjUiPjwvcGF0aD48cGF0aCBjbGFzcz0ibGluayIgc3R5bGU9InN0cm9rZS13aWR0aDogMC41cHg7IHN0cm9rZS1vcGFjaXR5OiAxOyBzdHJva2U6IHJnYig4MCwgODAsIDgwKTsgZmlsbDogbm9uZTsiIG1hcmtlci1lbmQ9IiIgZD0iTTQ2OS42NjY2NjY2NjY2NjY2Myw0MjMuNSwgNjQ5LjY2NjY2NjY2NjY2NjYsNTAzLjUiPjwvcGF0aD48cGF0aCBjbGFzcz0ibGluayIgc3R5bGU9InN0cm9rZS13aWR0aDogMC41cHg7IHN0cm9rZS1vcGFjaXR5OiAxOyBzdHJva2U6IHJnYig4MCwgODAsIDgwKTsgZmlsbDogbm9uZTsiIG1hcmtlci1lbmQ9IiIgZD0iTTY0OS42NjY2NjY2NjY2NjY2LDYzLjUsIDgyOS42NjY2NjY2NjY2NjY2LDE0My41Ij48L3BhdGg+PHBhdGggY2xhc3M9ImxpbmsiIHN0eWxlPSJzdHJva2Utd2lkdGg6IDAuNXB4OyBzdHJva2Utb3BhY2l0eTogMTsgc3Ryb2tlOiByZ2IoODAsIDgwLCA4MCk7IGZpbGw6IG5vbmU7IiBtYXJrZXItZW5kPSIiIGQ9Ik02NDkuNjY2NjY2NjY2NjY2Niw2My41LCA4MjkuNjY2NjY2NjY2NjY2NiwxODMuNSI+PC9wYXRoPjxwYXRoIGNsYXNzPSJsaW5rIiBzdHlsZT0ic3Ryb2tlLXdpZHRoOiAwLjVweDsgc3Ryb2tlLW9wYWNpdHk6IDE7IHN0cm9rZTogcmdiKDgwLCA4MCwgODApOyBmaWxsOiBub25lOyIgbWFya2VyLWVuZD0iIiBkPSJNNjQ5LjY2NjY2NjY2NjY2NjYsNjMuNSwgODI5LjY2NjY2NjY2NjY2NjYsMjIzLjUiPjwvcGF0aD48cGF0aCBjbGFzcz0ibGluayIgc3R5bGU9InN0cm9rZS13aWR0aDogMC41cHg7IHN0cm9rZS1vcGFjaXR5OiAxOyBzdHJva2U6IHJnYig4MCwgODAsIDgwKTsgZmlsbDogbm9uZTsiIG1hcmtlci1lbmQ9IiIgZD0iTTY0OS42NjY2NjY2NjY2NjY2LDYzLjUsIDgyOS42NjY2NjY2NjY2NjY2LDI2My41Ij48L3BhdGg+PHBhdGggY2xhc3M9ImxpbmsiIHN0eWxlPSJzdHJva2Utd2lkdGg6IDAuNXB4OyBzdHJva2Utb3BhY2l0eTogMTsgc3Ryb2tlOiByZ2IoODAsIDgwLCA4MCk7IGZpbGw6IG5vbmU7IiBtYXJrZXItZW5kPSIiIGQ9Ik02NDkuNjY2NjY2NjY2NjY2Niw2My41LCA4MjkuNjY2NjY2NjY2NjY2NiwzMDMuNSI+PC9wYXRoPjxwYXRoIGNsYXNzPSJsaW5rIiBzdHlsZT0ic3Ryb2tlLXdpZHRoOiAwLjVweDsgc3Ryb2tlLW9wYWNpdHk6IDE7IHN0cm9rZTogcmdiKDgwLCA4MCwgODApOyBmaWxsOiBub25lOyIgbWFya2VyLWVuZD0iIiBkPSJNNjQ5LjY2NjY2NjY2NjY2NjYsNjMuNSwgODI5LjY2NjY2NjY2NjY2NjYsMzQzLjUiPjwvcGF0aD48cGF0aCBjbGFzcz0ibGluayIgc3R5bGU9InN0cm9rZS13aWR0aDogMC41cHg7IHN0cm9rZS1vcGFjaXR5OiAxOyBzdHJva2U6IHJnYig4MCwgODAsIDgwKTsgZmlsbDogbm9uZTsiIG1hcmtlci1lbmQ9IiIgZD0iTTY0OS42NjY2NjY2NjY2NjY2LDYzLjUsIDgyOS42NjY2NjY2NjY2NjY2LDM4My41Ij48L3BhdGg+PHBhdGggY2xhc3M9ImxpbmsiIHN0eWxlPSJzdHJva2Utd2lkdGg6IDAuNXB4OyBzdHJva2Utb3BhY2l0eTogMTsgc3Ryb2tlOiByZ2IoODAsIDgwLCA4MCk7IGZpbGw6IG5vbmU7IiBtYXJrZXItZW5kPSIiIGQ9Ik02NDkuNjY2NjY2NjY2NjY2Niw2My41LCA4MjkuNjY2NjY2NjY2NjY2Niw0MjMuNSI+PC9wYXRoPjxwYXRoIGNsYXNzPSJsaW5rIiBzdHlsZT0ic3Ryb2tlLXdpZHRoOiAwLjVweDsgc3Ryb2tlLW9wYWNpdHk6IDE7IHN0cm9rZTogcmdiKDgwLCA4MCwgODApOyBmaWxsOiBub25lOyIgbWFya2VyLWVuZD0iIiBkPSJNNjQ5LjY2NjY2NjY2NjY2NjYsMTAzLjUsIDgyOS42NjY2NjY2NjY2NjY2LDE0My41Ij48L3BhdGg+PHBhdGggY2xhc3M9ImxpbmsiIHN0eWxlPSJzdHJva2Utd2lkdGg6IDAuNXB4OyBzdHJva2Utb3BhY2l0eTogMTsgc3Ryb2tlOiByZ2IoODAsIDgwLCA4MCk7IGZpbGw6IG5vbmU7IiBtYXJrZXItZW5kPSIiIGQ9Ik02NDkuNjY2NjY2NjY2NjY2NiwxMDMuNSwgODI5LjY2NjY2NjY2NjY2NjYsMTgzLjUiPjwvcGF0aD48cGF0aCBjbGFzcz0ibGluayIgc3R5bGU9InN0cm9rZS13aWR0aDogMC41cHg7IHN0cm9rZS1vcGFjaXR5OiAxOyBzdHJva2U6IHJnYig4MCwgODAsIDgwKTsgZmlsbDogbm9uZTsiIG1hcmtlci1lbmQ9IiIgZD0iTTY0OS42NjY2NjY2NjY2NjY2LDEwMy41LCA4MjkuNjY2NjY2NjY2NjY2NiwyMjMuNSI+PC9wYXRoPjxwYXRoIGNsYXNzPSJsaW5rIiBzdHlsZT0ic3Ryb2tlLXdpZHRoOiAwLjVweDsgc3Ryb2tlLW9wYWNpdHk6IDE7IHN0cm9rZTogcmdiKDgwLCA4MCwgODApOyBmaWxsOiBub25lOyIgbWFya2VyLWVuZD0iIiBkPSJNNjQ5LjY2NjY2NjY2NjY2NjYsMTAzLjUsIDgyOS42NjY2NjY2NjY2NjY2LDI2My41Ij48L3BhdGg+PHBhdGggY2xhc3M9ImxpbmsiIHN0eWxlPSJzdHJva2Utd2lkdGg6IDAuNXB4OyBzdHJva2Utb3BhY2l0eTogMTsgc3Ryb2tlOiByZ2IoODAsIDgwLCA4MCk7IGZpbGw6IG5vbmU7IiBtYXJrZXItZW5kPSIiIGQ9Ik02NDkuNjY2NjY2NjY2NjY2NiwxMDMuNSwgODI5LjY2NjY2NjY2NjY2NjYsMzAzLjUiPjwvcGF0aD48cGF0aCBjbGFzcz0ibGluayIgc3R5bGU9InN0cm9rZS13aWR0aDogMC41cHg7IHN0cm9rZS1vcGFjaXR5OiAxOyBzdHJva2U6IHJnYig4MCwgODAsIDgwKTsgZmlsbDogbm9uZTsiIG1hcmtlci1lbmQ9IiIgZD0iTTY0OS42NjY2NjY2NjY2NjY2LDEwMy41LCA4MjkuNjY2NjY2NjY2NjY2NiwzNDMuNSI+PC9wYXRoPjxwYXRoIGNsYXNzPSJsaW5rIiBzdHlsZT0ic3Ryb2tlLXdpZHRoOiAwLjVweDsgc3Ryb2tlLW9wYWNpdHk6IDE7IHN0cm9rZTogcmdiKDgwLCA4MCwgODApOyBmaWxsOiBub25lOyIgbWFya2VyLWVuZD0iIiBkPSJNNjQ5LjY2NjY2NjY2NjY2NjYsMTAzLjUsIDgyOS42NjY2NjY2NjY2NjY2LDM4My41Ij48L3BhdGg+PHBhdGggY2xhc3M9ImxpbmsiIHN0eWxlPSJzdHJva2Utd2lkdGg6IDAuNXB4OyBzdHJva2Utb3BhY2l0eTogMTsgc3Ryb2tlOiByZ2IoODAsIDgwLCA4MCk7IGZpbGw6IG5vbmU7IiBtYXJrZXItZW5kPSIiIGQ9Ik02NDkuNjY2NjY2NjY2NjY2NiwxMDMuNSwgODI5LjY2NjY2NjY2NjY2NjYsNDIzLjUiPjwvcGF0aD48cGF0aCBjbGFzcz0ibGluayIgc3R5bGU9InN0cm9rZS13aWR0aDogMC41cHg7IHN0cm9rZS1vcGFjaXR5OiAxOyBzdHJva2U6IHJnYig4MCwgODAsIDgwKTsgZmlsbDogbm9uZTsiIG1hcmtlci1lbmQ9IiIgZD0iTTY0OS42NjY2NjY2NjY2NjY2LDE0My41LCA4MjkuNjY2NjY2NjY2NjY2NiwxNDMuNSI+PC9wYXRoPjxwYXRoIGNsYXNzPSJsaW5rIiBzdHlsZT0ic3Ryb2tlLXdpZHRoOiAwLjVweDsgc3Ryb2tlLW9wYWNpdHk6IDE7IHN0cm9rZTogcmdiKDgwLCA4MCwgODApOyBmaWxsOiBub25lOyIgbWFya2VyLWVuZD0iIiBkPSJNNjQ5LjY2NjY2NjY2NjY2NjYsMTQzLjUsIDgyOS42NjY2NjY2NjY2NjY2LDE4My41Ij48L3BhdGg+PHBhdGggY2xhc3M9ImxpbmsiIHN0eWxlPSJzdHJva2Utd2lkdGg6IDAuNXB4OyBzdHJva2Utb3BhY2l0eTogMTsgc3Ryb2tlOiByZ2IoODAsIDgwLCA4MCk7IGZpbGw6IG5vbmU7IiBtYXJrZXItZW5kPSIiIGQ9Ik02NDkuNjY2NjY2NjY2NjY2NiwxNDMuNSwgODI5LjY2NjY2NjY2NjY2NjYsMjIzLjUiPjwvcGF0aD48cGF0aCBjbGFzcz0ibGluayIgc3R5bGU9InN0cm9rZS13aWR0aDogMC41cHg7IHN0cm9rZS1vcGFjaXR5OiAxOyBzdHJva2U6IHJnYig4MCwgODAsIDgwKTsgZmlsbDogbm9uZTsiIG1hcmtlci1lbmQ9IiIgZD0iTTY0OS42NjY2NjY2NjY2NjY2LDE0My41LCA4MjkuNjY2NjY2NjY2NjY2NiwyNjMuNSI+PC9wYXRoPjxwYXRoIGNsYXNzPSJsaW5rIiBzdHlsZT0ic3Ryb2tlLXdpZHRoOiAwLjVweDsgc3Ryb2tlLW9wYWNpdHk6IDE7IHN0cm9rZTogcmdiKDgwLCA4MCwgODApOyBmaWxsOiBub25lOyIgbWFya2VyLWVuZD0iIiBkPSJNNjQ5LjY2NjY2NjY2NjY2NjYsMTQzLjUsIDgyOS42NjY2NjY2NjY2NjY2LDMwMy41Ij48L3BhdGg+PHBhdGggY2xhc3M9ImxpbmsiIHN0eWxlPSJzdHJva2Utd2lkdGg6IDAuNXB4OyBzdHJva2Utb3BhY2l0eTogMTsgc3Ryb2tlOiByZ2IoODAsIDgwLCA4MCk7IGZpbGw6IG5vbmU7IiBtYXJrZXItZW5kPSIiIGQ9Ik02NDkuNjY2NjY2NjY2NjY2NiwxNDMuNSwgODI5LjY2NjY2NjY2NjY2NjYsMzQzLjUiPjwvcGF0aD48cGF0aCBjbGFzcz0ibGluayIgc3R5bGU9InN0cm9rZS13aWR0aDogMC41cHg7IHN0cm9rZS1vcGFjaXR5OiAxOyBzdHJva2U6IHJnYig4MCwgODAsIDgwKTsgZmlsbDogbm9uZTsiIG1hcmtlci1lbmQ9IiIgZD0iTTY0OS42NjY2NjY2NjY2NjY2LDE0My41LCA4MjkuNjY2NjY2NjY2NjY2NiwzODMuNSI+PC9wYXRoPjxwYXRoIGNsYXNzPSJsaW5rIiBzdHlsZT0ic3Ryb2tlLXdpZHRoOiAwLjVweDsgc3Ryb2tlLW9wYWNpdHk6IDE7IHN0cm9rZTogcmdiKDgwLCA4MCwgODApOyBmaWxsOiBub25lOyIgbWFya2VyLWVuZD0iIiBkPSJNNjQ5LjY2NjY2NjY2NjY2NjYsMTQzLjUsIDgyOS42NjY2NjY2NjY2NjY2LDQyMy41Ij48L3BhdGg+PHBhdGggY2xhc3M9ImxpbmsiIHN0eWxlPSJzdHJva2Utd2lkdGg6IDAuNXB4OyBzdHJva2Utb3BhY2l0eTogMTsgc3Ryb2tlOiByZ2IoODAsIDgwLCA4MCk7IGZpbGw6IG5vbmU7IiBtYXJrZXItZW5kPSIiIGQ9Ik02NDkuNjY2NjY2NjY2NjY2NiwxODMuNSwgODI5LjY2NjY2NjY2NjY2NjYsMTQzLjUiPjwvcGF0aD48cGF0aCBjbGFzcz0ibGluayIgc3R5bGU9InN0cm9rZS13aWR0aDogMC41cHg7IHN0cm9rZS1vcGFjaXR5OiAxOyBzdHJva2U6IHJnYig4MCwgODAsIDgwKTsgZmlsbDogbm9uZTsiIG1hcmtlci1lbmQ9IiIgZD0iTTY0OS42NjY2NjY2NjY2NjY2LDE4My41LCA4MjkuNjY2NjY2NjY2NjY2NiwxODMuNSI+PC9wYXRoPjxwYXRoIGNsYXNzPSJsaW5rIiBzdHlsZT0ic3Ryb2tlLXdpZHRoOiAwLjVweDsgc3Ryb2tlLW9wYWNpdHk6IDE7IHN0cm9rZTogcmdiKDgwLCA4MCwgODApOyBmaWxsOiBub25lOyIgbWFya2VyLWVuZD0iIiBkPSJNNjQ5LjY2NjY2NjY2NjY2NjYsMTgzLjUsIDgyOS42NjY2NjY2NjY2NjY2LDIyMy41Ij48L3BhdGg+PHBhdGggY2xhc3M9ImxpbmsiIHN0eWxlPSJzdHJva2Utd2lkdGg6IDAuNXB4OyBzdHJva2Utb3BhY2l0eTogMTsgc3Ryb2tlOiByZ2IoODAsIDgwLCA4MCk7IGZpbGw6IG5vbmU7IiBtYXJrZXItZW5kPSIiIGQ9Ik02NDkuNjY2NjY2NjY2NjY2NiwxODMuNSwgODI5LjY2NjY2NjY2NjY2NjYsMjYzLjUiPjwvcGF0aD48cGF0aCBjbGFzcz0ibGluayIgc3R5bGU9InN0cm9rZS13aWR0aDogMC41cHg7IHN0cm9rZS1vcGFjaXR5OiAxOyBzdHJva2U6IHJnYig4MCwgODAsIDgwKTsgZmlsbDogbm9uZTsiIG1hcmtlci1lbmQ9IiIgZD0iTTY0OS42NjY2NjY2NjY2NjY2LDE4My41LCA4MjkuNjY2NjY2NjY2NjY2NiwzMDMuNSI+PC9wYXRoPjxwYXRoIGNsYXNzPSJsaW5rIiBzdHlsZT0ic3Ryb2tlLXdpZHRoOiAwLjVweDsgc3Ryb2tlLW9wYWNpdHk6IDE7IHN0cm9rZTogcmdiKDgwLCA4MCwgODApOyBmaWxsOiBub25lOyIgbWFya2VyLWVuZD0iIiBkPSJNNjQ5LjY2NjY2NjY2NjY2NjYsMTgzLjUsIDgyOS42NjY2NjY2NjY2NjY2LDM0My41Ij48L3BhdGg+PHBhdGggY2xhc3M9ImxpbmsiIHN0eWxlPSJzdHJva2Utd2lkdGg6IDAuNXB4OyBzdHJva2Utb3BhY2l0eTogMTsgc3Ryb2tlOiByZ2IoODAsIDgwLCA4MCk7IGZpbGw6IG5vbmU7IiBtYXJrZXItZW5kPSIiIGQ9Ik02NDkuNjY2NjY2NjY2NjY2NiwxODMuNSwgODI5LjY2NjY2NjY2NjY2NjYsMzgzLjUiPjwvcGF0aD48cGF0aCBjbGFzcz0ibGluayIgc3R5bGU9InN0cm9rZS13aWR0aDogMC41cHg7IHN0cm9rZS1vcGFjaXR5OiAxOyBzdHJva2U6IHJnYig4MCwgODAsIDgwKTsgZmlsbDogbm9uZTsiIG1hcmtlci1lbmQ9IiIgZD0iTTY0OS42NjY2NjY2NjY2NjY2LDE4My41LCA4MjkuNjY2NjY2NjY2NjY2Niw0MjMuNSI+PC9wYXRoPjxwYXRoIGNsYXNzPSJsaW5rIiBzdHlsZT0ic3Ryb2tlLXdpZHRoOiAwLjVweDsgc3Ryb2tlLW9wYWNpdHk6IDE7IHN0cm9rZTogcmdiKDgwLCA4MCwgODApOyBmaWxsOiBub25lOyIgbWFya2VyLWVuZD0iIiBkPSJNNjQ5LjY2NjY2NjY2NjY2NjYsMjIzLjUsIDgyOS42NjY2NjY2NjY2NjY2LDE0My41Ij48L3BhdGg+PHBhdGggY2xhc3M9ImxpbmsiIHN0eWxlPSJzdHJva2Utd2lkdGg6IDAuNXB4OyBzdHJva2Utb3BhY2l0eTogMTsgc3Ryb2tlOiByZ2IoODAsIDgwLCA4MCk7IGZpbGw6IG5vbmU7IiBtYXJrZXItZW5kPSIiIGQ9Ik02NDkuNjY2NjY2NjY2NjY2NiwyMjMuNSwgODI5LjY2NjY2NjY2NjY2NjYsMTgzLjUiPjwvcGF0aD48cGF0aCBjbGFzcz0ibGluayIgc3R5bGU9InN0cm9rZS13aWR0aDogMC41cHg7IHN0cm9rZS1vcGFjaXR5OiAxOyBzdHJva2U6IHJnYig4MCwgODAsIDgwKTsgZmlsbDogbm9uZTsiIG1hcmtlci1lbmQ9IiIgZD0iTTY0OS42NjY2NjY2NjY2NjY2LDIyMy41LCA4MjkuNjY2NjY2NjY2NjY2NiwyMjMuNSI+PC9wYXRoPjxwYXRoIGNsYXNzPSJsaW5rIiBzdHlsZT0ic3Ryb2tlLXdpZHRoOiAwLjVweDsgc3Ryb2tlLW9wYWNpdHk6IDE7IHN0cm9rZTogcmdiKDgwLCA4MCwgODApOyBmaWxsOiBub25lOyIgbWFya2VyLWVuZD0iIiBkPSJNNjQ5LjY2NjY2NjY2NjY2NjYsMjIzLjUsIDgyOS42NjY2NjY2NjY2NjY2LDI2My41Ij48L3BhdGg+PHBhdGggY2xhc3M9ImxpbmsiIHN0eWxlPSJzdHJva2Utd2lkdGg6IDAuNXB4OyBzdHJva2Utb3BhY2l0eTogMTsgc3Ryb2tlOiByZ2IoODAsIDgwLCA4MCk7IGZpbGw6IG5vbmU7IiBtYXJrZXItZW5kPSIiIGQ9Ik02NDkuNjY2NjY2NjY2NjY2NiwyMjMuNSwgODI5LjY2NjY2NjY2NjY2NjYsMzAzLjUiPjwvcGF0aD48cGF0aCBjbGFzcz0ibGluayIgc3R5bGU9InN0cm9rZS13aWR0aDogMC41cHg7IHN0cm9rZS1vcGFjaXR5OiAxOyBzdHJva2U6IHJnYig4MCwgODAsIDgwKTsgZmlsbDogbm9uZTsiIG1hcmtlci1lbmQ9IiIgZD0iTTY0OS42NjY2NjY2NjY2NjY2LDIyMy41LCA4MjkuNjY2NjY2NjY2NjY2NiwzNDMuNSI+PC9wYXRoPjxwYXRoIGNsYXNzPSJsaW5rIiBzdHlsZT0ic3Ryb2tlLXdpZHRoOiAwLjVweDsgc3Ryb2tlLW9wYWNpdHk6IDE7IHN0cm9rZTogcmdiKDgwLCA4MCwgODApOyBmaWxsOiBub25lOyIgbWFya2VyLWVuZD0iIiBkPSJNNjQ5LjY2NjY2NjY2NjY2NjYsMjIzLjUsIDgyOS42NjY2NjY2NjY2NjY2LDM4My41Ij48L3BhdGg+PHBhdGggY2xhc3M9ImxpbmsiIHN0eWxlPSJzdHJva2Utd2lkdGg6IDAuNXB4OyBzdHJva2Utb3BhY2l0eTogMTsgc3Ryb2tlOiByZ2IoODAsIDgwLCA4MCk7IGZpbGw6IG5vbmU7IiBtYXJrZXItZW5kPSIiIGQ9Ik02NDkuNjY2NjY2NjY2NjY2NiwyMjMuNSwgODI5LjY2NjY2NjY2NjY2NjYsNDIzLjUiPjwvcGF0aD48cGF0aCBjbGFzcz0ibGluayIgc3R5bGU9InN0cm9rZS13aWR0aDogMC41cHg7IHN0cm9rZS1vcGFjaXR5OiAxOyBzdHJva2U6IHJnYig4MCwgODAsIDgwKTsgZmlsbDogbm9uZTsiIG1hcmtlci1lbmQ9IiIgZD0iTTY0OS42NjY2NjY2NjY2NjY2LDI2My41LCA4MjkuNjY2NjY2NjY2NjY2NiwxNDMuNSI+PC9wYXRoPjxwYXRoIGNsYXNzPSJsaW5rIiBzdHlsZT0ic3Ryb2tlLXdpZHRoOiAwLjVweDsgc3Ryb2tlLW9wYWNpdHk6IDE7IHN0cm9rZTogcmdiKDgwLCA4MCwgODApOyBmaWxsOiBub25lOyIgbWFya2VyLWVuZD0iIiBkPSJNNjQ5LjY2NjY2NjY2NjY2NjYsMjYzLjUsIDgyOS42NjY2NjY2NjY2NjY2LDE4My41Ij48L3BhdGg+PHBhdGggY2xhc3M9ImxpbmsiIHN0eWxlPSJzdHJva2Utd2lkdGg6IDAuNXB4OyBzdHJva2Utb3BhY2l0eTogMTsgc3Ryb2tlOiByZ2IoODAsIDgwLCA4MCk7IGZpbGw6IG5vbmU7IiBtYXJrZXItZW5kPSIiIGQ9Ik02NDkuNjY2NjY2NjY2NjY2NiwyNjMuNSwgODI5LjY2NjY2NjY2NjY2NjYsMjIzLjUiPjwvcGF0aD48cGF0aCBjbGFzcz0ibGluayIgc3R5bGU9InN0cm9rZS13aWR0aDogMC41cHg7IHN0cm9rZS1vcGFjaXR5OiAxOyBzdHJva2U6IHJnYig4MCwgODAsIDgwKTsgZmlsbDogbm9uZTsiIG1hcmtlci1lbmQ9IiIgZD0iTTY0OS42NjY2NjY2NjY2NjY2LDI2My41LCA4MjkuNjY2NjY2NjY2NjY2NiwyNjMuNSI+PC9wYXRoPjxwYXRoIGNsYXNzPSJsaW5rIiBzdHlsZT0ic3Ryb2tlLXdpZHRoOiAwLjVweDsgc3Ryb2tlLW9wYWNpdHk6IDE7IHN0cm9rZTogcmdiKDgwLCA4MCwgODApOyBmaWxsOiBub25lOyIgbWFya2VyLWVuZD0iIiBkPSJNNjQ5LjY2NjY2NjY2NjY2NjYsMjYzLjUsIDgyOS42NjY2NjY2NjY2NjY2LDMwMy41Ij48L3BhdGg+PHBhdGggY2xhc3M9ImxpbmsiIHN0eWxlPSJzdHJva2Utd2lkdGg6IDAuNXB4OyBzdHJva2Utb3BhY2l0eTogMTsgc3Ryb2tlOiByZ2IoODAsIDgwLCA4MCk7IGZpbGw6IG5vbmU7IiBtYXJrZXItZW5kPSIiIGQ9Ik02NDkuNjY2NjY2NjY2NjY2NiwyNjMuNSwgODI5LjY2NjY2NjY2NjY2NjYsMzQzLjUiPjwvcGF0aD48cGF0aCBjbGFzcz0ibGluayIgc3R5bGU9InN0cm9rZS13aWR0aDogMC41cHg7IHN0cm9rZS1vcGFjaXR5OiAxOyBzdHJva2U6IHJnYig4MCwgODAsIDgwKTsgZmlsbDogbm9uZTsiIG1hcmtlci1lbmQ9IiIgZD0iTTY0OS42NjY2NjY2NjY2NjY2LDI2My41LCA4MjkuNjY2NjY2NjY2NjY2NiwzODMuNSI+PC9wYXRoPjxwYXRoIGNsYXNzPSJsaW5rIiBzdHlsZT0ic3Ryb2tlLXdpZHRoOiAwLjVweDsgc3Ryb2tlLW9wYWNpdHk6IDE7IHN0cm9rZTogcmdiKDgwLCA4MCwgODApOyBmaWxsOiBub25lOyIgbWFya2VyLWVuZD0iIiBkPSJNNjQ5LjY2NjY2NjY2NjY2NjYsMjYzLjUsIDgyOS42NjY2NjY2NjY2NjY2LDQyMy41Ij48L3BhdGg+PHBhdGggY2xhc3M9ImxpbmsiIHN0eWxlPSJzdHJva2Utd2lkdGg6IDAuNXB4OyBzdHJva2Utb3BhY2l0eTogMTsgc3Ryb2tlOiByZ2IoODAsIDgwLCA4MCk7IGZpbGw6IG5vbmU7IiBtYXJrZXItZW5kPSIiIGQ9Ik02NDkuNjY2NjY2NjY2NjY2NiwzMDMuNSwgODI5LjY2NjY2NjY2NjY2NjYsMTQzLjUiPjwvcGF0aD48cGF0aCBjbGFzcz0ibGluayIgc3R5bGU9InN0cm9rZS13aWR0aDogMC41cHg7IHN0cm9rZS1vcGFjaXR5OiAxOyBzdHJva2U6IHJnYig4MCwgODAsIDgwKTsgZmlsbDogbm9uZTsiIG1hcmtlci1lbmQ9IiIgZD0iTTY0OS42NjY2NjY2NjY2NjY2LDMwMy41LCA4MjkuNjY2NjY2NjY2NjY2NiwxODMuNSI+PC9wYXRoPjxwYXRoIGNsYXNzPSJsaW5rIiBzdHlsZT0ic3Ryb2tlLXdpZHRoOiAwLjVweDsgc3Ryb2tlLW9wYWNpdHk6IDE7IHN0cm9rZTogcmdiKDgwLCA4MCwgODApOyBmaWxsOiBub25lOyIgbWFya2VyLWVuZD0iIiBkPSJNNjQ5LjY2NjY2NjY2NjY2NjYsMzAzLjUsIDgyOS42NjY2NjY2NjY2NjY2LDIyMy41Ij48L3BhdGg+PHBhdGggY2xhc3M9ImxpbmsiIHN0eWxlPSJzdHJva2Utd2lkdGg6IDAuNXB4OyBzdHJva2Utb3BhY2l0eTogMTsgc3Ryb2tlOiByZ2IoODAsIDgwLCA4MCk7IGZpbGw6IG5vbmU7IiBtYXJrZXItZW5kPSIiIGQ9Ik02NDkuNjY2NjY2NjY2NjY2NiwzMDMuNSwgODI5LjY2NjY2NjY2NjY2NjYsMjYzLjUiPjwvcGF0aD48cGF0aCBjbGFzcz0ibGluayIgc3R5bGU9InN0cm9rZS13aWR0aDogMC41cHg7IHN0cm9rZS1vcGFjaXR5OiAxOyBzdHJva2U6IHJnYig4MCwgODAsIDgwKTsgZmlsbDogbm9uZTsiIG1hcmtlci1lbmQ9IiIgZD0iTTY0OS42NjY2NjY2NjY2NjY2LDMwMy41LCA4MjkuNjY2NjY2NjY2NjY2NiwzMDMuNSI+PC9wYXRoPjxwYXRoIGNsYXNzPSJsaW5rIiBzdHlsZT0ic3Ryb2tlLXdpZHRoOiAwLjVweDsgc3Ryb2tlLW9wYWNpdHk6IDE7IHN0cm9rZTogcmdiKDgwLCA4MCwgODApOyBmaWxsOiBub25lOyIgbWFya2VyLWVuZD0iIiBkPSJNNjQ5LjY2NjY2NjY2NjY2NjYsMzAzLjUsIDgyOS42NjY2NjY2NjY2NjY2LDM0My41Ij48L3BhdGg+PHBhdGggY2xhc3M9ImxpbmsiIHN0eWxlPSJzdHJva2Utd2lkdGg6IDAuNXB4OyBzdHJva2Utb3BhY2l0eTogMTsgc3Ryb2tlOiByZ2IoODAsIDgwLCA4MCk7IGZpbGw6IG5vbmU7IiBtYXJrZXItZW5kPSIiIGQ9Ik02NDkuNjY2NjY2NjY2NjY2NiwzMDMuNSwgODI5LjY2NjY2NjY2NjY2NjYsMzgzLjUiPjwvcGF0aD48cGF0aCBjbGFzcz0ibGluayIgc3R5bGU9InN0cm9rZS13aWR0aDogMC41cHg7IHN0cm9rZS1vcGFjaXR5OiAxOyBzdHJva2U6IHJnYig4MCwgODAsIDgwKTsgZmlsbDogbm9uZTsiIG1hcmtlci1lbmQ9IiIgZD0iTTY0OS42NjY2NjY2NjY2NjY2LDMwMy41LCA4MjkuNjY2NjY2NjY2NjY2Niw0MjMuNSI+PC9wYXRoPjxwYXRoIGNsYXNzPSJsaW5rIiBzdHlsZT0ic3Ryb2tlLXdpZHRoOiAwLjVweDsgc3Ryb2tlLW9wYWNpdHk6IDE7IHN0cm9rZTogcmdiKDgwLCA4MCwgODApOyBmaWxsOiBub25lOyIgbWFya2VyLWVuZD0iIiBkPSJNNjQ5LjY2NjY2NjY2NjY2NjYsMzQzLjUsIDgyOS42NjY2NjY2NjY2NjY2LDE0My41Ij48L3BhdGg+PHBhdGggY2xhc3M9ImxpbmsiIHN0eWxlPSJzdHJva2Utd2lkdGg6IDAuNXB4OyBzdHJva2Utb3BhY2l0eTogMTsgc3Ryb2tlOiByZ2IoODAsIDgwLCA4MCk7IGZpbGw6IG5vbmU7IiBtYXJrZXItZW5kPSIiIGQ9Ik02NDkuNjY2NjY2NjY2NjY2NiwzNDMuNSwgODI5LjY2NjY2NjY2NjY2NjYsMTgzLjUiPjwvcGF0aD48cGF0aCBjbGFzcz0ibGluayIgc3R5bGU9InN0cm9rZS13aWR0aDogMC41cHg7IHN0cm9rZS1vcGFjaXR5OiAxOyBzdHJva2U6IHJnYig4MCwgODAsIDgwKTsgZmlsbDogbm9uZTsiIG1hcmtlci1lbmQ9IiIgZD0iTTY0OS42NjY2NjY2NjY2NjY2LDM0My41LCA4MjkuNjY2NjY2NjY2NjY2NiwyMjMuNSI+PC9wYXRoPjxwYXRoIGNsYXNzPSJsaW5rIiBzdHlsZT0ic3Ryb2tlLXdpZHRoOiAwLjVweDsgc3Ryb2tlLW9wYWNpdHk6IDE7IHN0cm9rZTogcmdiKDgwLCA4MCwgODApOyBmaWxsOiBub25lOyIgbWFya2VyLWVuZD0iIiBkPSJNNjQ5LjY2NjY2NjY2NjY2NjYsMzQzLjUsIDgyOS42NjY2NjY2NjY2NjY2LDI2My41Ij48L3BhdGg+PHBhdGggY2xhc3M9ImxpbmsiIHN0eWxlPSJzdHJva2Utd2lkdGg6IDAuNXB4OyBzdHJva2Utb3BhY2l0eTogMTsgc3Ryb2tlOiByZ2IoODAsIDgwLCA4MCk7IGZpbGw6IG5vbmU7IiBtYXJrZXItZW5kPSIiIGQ9Ik02NDkuNjY2NjY2NjY2NjY2NiwzNDMuNSwgODI5LjY2NjY2NjY2NjY2NjYsMzAzLjUiPjwvcGF0aD48cGF0aCBjbGFzcz0ibGluayIgc3R5bGU9InN0cm9rZS13aWR0aDogMC41cHg7IHN0cm9rZS1vcGFjaXR5OiAxOyBzdHJva2U6IHJnYig4MCwgODAsIDgwKTsgZmlsbDogbm9uZTsiIG1hcmtlci1lbmQ9IiIgZD0iTTY0OS42NjY2NjY2NjY2NjY2LDM0My41LCA4MjkuNjY2NjY2NjY2NjY2NiwzNDMuNSI+PC9wYXRoPjxwYXRoIGNsYXNzPSJsaW5rIiBzdHlsZT0ic3Ryb2tlLXdpZHRoOiAwLjVweDsgc3Ryb2tlLW9wYWNpdHk6IDE7IHN0cm9rZTogcmdiKDgwLCA4MCwgODApOyBmaWxsOiBub25lOyIgbWFya2VyLWVuZD0iIiBkPSJNNjQ5LjY2NjY2NjY2NjY2NjYsMzQzLjUsIDgyOS42NjY2NjY2NjY2NjY2LDM4My41Ij48L3BhdGg+PHBhdGggY2xhc3M9ImxpbmsiIHN0eWxlPSJzdHJva2Utd2lkdGg6IDAuNXB4OyBzdHJva2Utb3BhY2l0eTogMTsgc3Ryb2tlOiByZ2IoODAsIDgwLCA4MCk7IGZpbGw6IG5vbmU7IiBtYXJrZXItZW5kPSIiIGQ9Ik02NDkuNjY2NjY2NjY2NjY2NiwzNDMuNSwgODI5LjY2NjY2NjY2NjY2NjYsNDIzLjUiPjwvcGF0aD48cGF0aCBjbGFzcz0ibGluayIgc3R5bGU9InN0cm9rZS13aWR0aDogMC41cHg7IHN0cm9rZS1vcGFjaXR5OiAxOyBzdHJva2U6IHJnYig4MCwgODAsIDgwKTsgZmlsbDogbm9uZTsiIG1hcmtlci1lbmQ9IiIgZD0iTTY0OS42NjY2NjY2NjY2NjY2LDM4My41LCA4MjkuNjY2NjY2NjY2NjY2NiwxNDMuNSI+PC9wYXRoPjxwYXRoIGNsYXNzPSJsaW5rIiBzdHlsZT0ic3Ryb2tlLXdpZHRoOiAwLjVweDsgc3Ryb2tlLW9wYWNpdHk6IDE7IHN0cm9rZTogcmdiKDgwLCA4MCwgODApOyBmaWxsOiBub25lOyIgbWFya2VyLWVuZD0iIiBkPSJNNjQ5LjY2NjY2NjY2NjY2NjYsMzgzLjUsIDgyOS42NjY2NjY2NjY2NjY2LDE4My41Ij48L3BhdGg+PHBhdGggY2xhc3M9ImxpbmsiIHN0eWxlPSJzdHJva2Utd2lkdGg6IDAuNXB4OyBzdHJva2Utb3BhY2l0eTogMTsgc3Ryb2tlOiByZ2IoODAsIDgwLCA4MCk7IGZpbGw6IG5vbmU7IiBtYXJrZXItZW5kPSIiIGQ9Ik02NDkuNjY2NjY2NjY2NjY2NiwzODMuNSwgODI5LjY2NjY2NjY2NjY2NjYsMjIzLjUiPjwvcGF0aD48cGF0aCBjbGFzcz0ibGluayIgc3R5bGU9InN0cm9rZS13aWR0aDogMC41cHg7IHN0cm9rZS1vcGFjaXR5OiAxOyBzdHJva2U6IHJnYig4MCwgODAsIDgwKTsgZmlsbDogbm9uZTsiIG1hcmtlci1lbmQ9IiIgZD0iTTY0OS42NjY2NjY2NjY2NjY2LDM4My41LCA4MjkuNjY2NjY2NjY2NjY2NiwyNjMuNSI+PC9wYXRoPjxwYXRoIGNsYXNzPSJsaW5rIiBzdHlsZT0ic3Ryb2tlLXdpZHRoOiAwLjVweDsgc3Ryb2tlLW9wYWNpdHk6IDE7IHN0cm9rZTogcmdiKDgwLCA4MCwgODApOyBmaWxsOiBub25lOyIgbWFya2VyLWVuZD0iIiBkPSJNNjQ5LjY2NjY2NjY2NjY2NjYsMzgzLjUsIDgyOS42NjY2NjY2NjY2NjY2LDMwMy41Ij48L3BhdGg+PHBhdGggY2xhc3M9ImxpbmsiIHN0eWxlPSJzdHJva2Utd2lkdGg6IDAuNXB4OyBzdHJva2Utb3BhY2l0eTogMTsgc3Ryb2tlOiByZ2IoODAsIDgwLCA4MCk7IGZpbGw6IG5vbmU7IiBtYXJrZXItZW5kPSIiIGQ9Ik02NDkuNjY2NjY2NjY2NjY2NiwzODMuNSwgODI5LjY2NjY2NjY2NjY2NjYsMzQzLjUiPjwvcGF0aD48cGF0aCBjbGFzcz0ibGluayIgc3R5bGU9InN0cm9rZS13aWR0aDogMC41cHg7IHN0cm9rZS1vcGFjaXR5OiAxOyBzdHJva2U6IHJnYig4MCwgODAsIDgwKTsgZmlsbDogbm9uZTsiIG1hcmtlci1lbmQ9IiIgZD0iTTY0OS42NjY2NjY2NjY2NjY2LDM4My41LCA4MjkuNjY2NjY2NjY2NjY2NiwzODMuNSI+PC9wYXRoPjxwYXRoIGNsYXNzPSJsaW5rIiBzdHlsZT0ic3Ryb2tlLXdpZHRoOiAwLjVweDsgc3Ryb2tlLW9wYWNpdHk6IDE7IHN0cm9rZTogcmdiKDgwLCA4MCwgODApOyBmaWxsOiBub25lOyIgbWFya2VyLWVuZD0iIiBkPSJNNjQ5LjY2NjY2NjY2NjY2NjYsMzgzLjUsIDgyOS42NjY2NjY2NjY2NjY2LDQyMy41Ij48L3BhdGg+PHBhdGggY2xhc3M9ImxpbmsiIHN0eWxlPSJzdHJva2Utd2lkdGg6IDAuNXB4OyBzdHJva2Utb3BhY2l0eTogMTsgc3Ryb2tlOiByZ2IoODAsIDgwLCA4MCk7IGZpbGw6IG5vbmU7IiBtYXJrZXItZW5kPSIiIGQ9Ik02NDkuNjY2NjY2NjY2NjY2Niw0MjMuNSwgODI5LjY2NjY2NjY2NjY2NjYsMTQzLjUiPjwvcGF0aD48cGF0aCBjbGFzcz0ibGluayIgc3R5bGU9InN0cm9rZS13aWR0aDogMC41cHg7IHN0cm9rZS1vcGFjaXR5OiAxOyBzdHJva2U6IHJnYig4MCwgODAsIDgwKTsgZmlsbDogbm9uZTsiIG1hcmtlci1lbmQ9IiIgZD0iTTY0OS42NjY2NjY2NjY2NjY2LDQyMy41LCA4MjkuNjY2NjY2NjY2NjY2NiwxODMuNSI+PC9wYXRoPjxwYXRoIGNsYXNzPSJsaW5rIiBzdHlsZT0ic3Ryb2tlLXdpZHRoOiAwLjVweDsgc3Ryb2tlLW9wYWNpdHk6IDE7IHN0cm9rZTogcmdiKDgwLCA4MCwgODApOyBmaWxsOiBub25lOyIgbWFya2VyLWVuZD0iIiBkPSJNNjQ5LjY2NjY2NjY2NjY2NjYsNDIzLjUsIDgyOS42NjY2NjY2NjY2NjY2LDIyMy41Ij48L3BhdGg+PHBhdGggY2xhc3M9ImxpbmsiIHN0eWxlPSJzdHJva2Utd2lkdGg6IDAuNXB4OyBzdHJva2Utb3BhY2l0eTogMTsgc3Ryb2tlOiByZ2IoODAsIDgwLCA4MCk7IGZpbGw6IG5vbmU7IiBtYXJrZXItZW5kPSIiIGQ9Ik02NDkuNjY2NjY2NjY2NjY2Niw0MjMuNSwgODI5LjY2NjY2NjY2NjY2NjYsMjYzLjUiPjwvcGF0aD48cGF0aCBjbGFzcz0ibGluayIgc3R5bGU9InN0cm9rZS13aWR0aDogMC41cHg7IHN0cm9rZS1vcGFjaXR5OiAxOyBzdHJva2U6IHJnYig4MCwgODAsIDgwKTsgZmlsbDogbm9uZTsiIG1hcmtlci1lbmQ9IiIgZD0iTTY0OS42NjY2NjY2NjY2NjY2LDQyMy41LCA4MjkuNjY2NjY2NjY2NjY2NiwzMDMuNSI+PC9wYXRoPjxwYXRoIGNsYXNzPSJsaW5rIiBzdHlsZT0ic3Ryb2tlLXdpZHRoOiAwLjVweDsgc3Ryb2tlLW9wYWNpdHk6IDE7IHN0cm9rZTogcmdiKDgwLCA4MCwgODApOyBmaWxsOiBub25lOyIgbWFya2VyLWVuZD0iIiBkPSJNNjQ5LjY2NjY2NjY2NjY2NjYsNDIzLjUsIDgyOS42NjY2NjY2NjY2NjY2LDM0My41Ij48L3BhdGg+PHBhdGggY2xhc3M9ImxpbmsiIHN0eWxlPSJzdHJva2Utd2lkdGg6IDAuNXB4OyBzdHJva2Utb3BhY2l0eTogMTsgc3Ryb2tlOiByZ2IoODAsIDgwLCA4MCk7IGZpbGw6IG5vbmU7IiBtYXJrZXItZW5kPSIiIGQ9Ik02NDkuNjY2NjY2NjY2NjY2Niw0MjMuNSwgODI5LjY2NjY2NjY2NjY2NjYsMzgzLjUiPjwvcGF0aD48cGF0aCBjbGFzcz0ibGluayIgc3R5bGU9InN0cm9rZS13aWR0aDogMC41cHg7IHN0cm9rZS1vcGFjaXR5OiAxOyBzdHJva2U6IHJnYig4MCwgODAsIDgwKTsgZmlsbDogbm9uZTsiIG1hcmtlci1lbmQ9IiIgZD0iTTY0OS42NjY2NjY2NjY2NjY2LDQyMy41LCA4MjkuNjY2NjY2NjY2NjY2Niw0MjMuNSI+PC9wYXRoPjxwYXRoIGNsYXNzPSJsaW5rIiBzdHlsZT0ic3Ryb2tlLXdpZHRoOiAwLjVweDsgc3Ryb2tlLW9wYWNpdHk6IDE7IHN0cm9rZTogcmdiKDgwLCA4MCwgODApOyBmaWxsOiBub25lOyIgbWFya2VyLWVuZD0iIiBkPSJNNjQ5LjY2NjY2NjY2NjY2NjYsNDYzLjUsIDgyOS42NjY2NjY2NjY2NjY2LDE0My41Ij48L3BhdGg+PHBhdGggY2xhc3M9ImxpbmsiIHN0eWxlPSJzdHJva2Utd2lkdGg6IDAuNXB4OyBzdHJva2Utb3BhY2l0eTogMTsgc3Ryb2tlOiByZ2IoODAsIDgwLCA4MCk7IGZpbGw6IG5vbmU7IiBtYXJrZXItZW5kPSIiIGQ9Ik02NDkuNjY2NjY2NjY2NjY2Niw0NjMuNSwgODI5LjY2NjY2NjY2NjY2NjYsMTgzLjUiPjwvcGF0aD48cGF0aCBjbGFzcz0ibGluayIgc3R5bGU9InN0cm9rZS13aWR0aDogMC41cHg7IHN0cm9rZS1vcGFjaXR5OiAxOyBzdHJva2U6IHJnYig4MCwgODAsIDgwKTsgZmlsbDogbm9uZTsiIG1hcmtlci1lbmQ9IiIgZD0iTTY0OS42NjY2NjY2NjY2NjY2LDQ2My41LCA4MjkuNjY2NjY2NjY2NjY2NiwyMjMuNSI+PC9wYXRoPjxwYXRoIGNsYXNzPSJsaW5rIiBzdHlsZT0ic3Ryb2tlLXdpZHRoOiAwLjVweDsgc3Ryb2tlLW9wYWNpdHk6IDE7IHN0cm9rZTogcmdiKDgwLCA4MCwgODApOyBmaWxsOiBub25lOyIgbWFya2VyLWVuZD0iIiBkPSJNNjQ5LjY2NjY2NjY2NjY2NjYsNDYzLjUsIDgyOS42NjY2NjY2NjY2NjY2LDI2My41Ij48L3BhdGg+PHBhdGggY2xhc3M9ImxpbmsiIHN0eWxlPSJzdHJva2Utd2lkdGg6IDAuNXB4OyBzdHJva2Utb3BhY2l0eTogMTsgc3Ryb2tlOiByZ2IoODAsIDgwLCA4MCk7IGZpbGw6IG5vbmU7IiBtYXJrZXItZW5kPSIiIGQ9Ik02NDkuNjY2NjY2NjY2NjY2Niw0NjMuNSwgODI5LjY2NjY2NjY2NjY2NjYsMzAzLjUiPjwvcGF0aD48cGF0aCBjbGFzcz0ibGluayIgc3R5bGU9InN0cm9rZS13aWR0aDogMC41cHg7IHN0cm9rZS1vcGFjaXR5OiAxOyBzdHJva2U6IHJnYig4MCwgODAsIDgwKTsgZmlsbDogbm9uZTsiIG1hcmtlci1lbmQ9IiIgZD0iTTY0OS42NjY2NjY2NjY2NjY2LDQ2My41LCA4MjkuNjY2NjY2NjY2NjY2NiwzNDMuNSI+PC9wYXRoPjxwYXRoIGNsYXNzPSJsaW5rIiBzdHlsZT0ic3Ryb2tlLXdpZHRoOiAwLjVweDsgc3Ryb2tlLW9wYWNpdHk6IDE7IHN0cm9rZTogcmdiKDgwLCA4MCwgODApOyBmaWxsOiBub25lOyIgbWFya2VyLWVuZD0iIiBkPSJNNjQ5LjY2NjY2NjY2NjY2NjYsNDYzLjUsIDgyOS42NjY2NjY2NjY2NjY2LDM4My41Ij48L3BhdGg+PHBhdGggY2xhc3M9ImxpbmsiIHN0eWxlPSJzdHJva2Utd2lkdGg6IDAuNXB4OyBzdHJva2Utb3BhY2l0eTogMTsgc3Ryb2tlOiByZ2IoODAsIDgwLCA4MCk7IGZpbGw6IG5vbmU7IiBtYXJrZXItZW5kPSIiIGQ9Ik02NDkuNjY2NjY2NjY2NjY2Niw0NjMuNSwgODI5LjY2NjY2NjY2NjY2NjYsNDIzLjUiPjwvcGF0aD48cGF0aCBjbGFzcz0ibGluayIgc3R5bGU9InN0cm9rZS13aWR0aDogMC41cHg7IHN0cm9rZS1vcGFjaXR5OiAxOyBzdHJva2U6IHJnYig4MCwgODAsIDgwKTsgZmlsbDogbm9uZTsiIG1hcmtlci1lbmQ9IiIgZD0iTTY0OS42NjY2NjY2NjY2NjY2LDUwMy41LCA4MjkuNjY2NjY2NjY2NjY2NiwxNDMuNSI+PC9wYXRoPjxwYXRoIGNsYXNzPSJsaW5rIiBzdHlsZT0ic3Ryb2tlLXdpZHRoOiAwLjVweDsgc3Ryb2tlLW9wYWNpdHk6IDE7IHN0cm9rZTogcmdiKDgwLCA4MCwgODApOyBmaWxsOiBub25lOyIgbWFya2VyLWVuZD0iIiBkPSJNNjQ5LjY2NjY2NjY2NjY2NjYsNTAzLjUsIDgyOS42NjY2NjY2NjY2NjY2LDE4My41Ij48L3BhdGg+PHBhdGggY2xhc3M9ImxpbmsiIHN0eWxlPSJzdHJva2Utd2lkdGg6IDAuNXB4OyBzdHJva2Utb3BhY2l0eTogMTsgc3Ryb2tlOiByZ2IoODAsIDgwLCA4MCk7IGZpbGw6IG5vbmU7IiBtYXJrZXItZW5kPSIiIGQ9Ik02NDkuNjY2NjY2NjY2NjY2Niw1MDMuNSwgODI5LjY2NjY2NjY2NjY2NjYsMjIzLjUiPjwvcGF0aD48cGF0aCBjbGFzcz0ibGluayIgc3R5bGU9InN0cm9rZS13aWR0aDogMC41cHg7IHN0cm9rZS1vcGFjaXR5OiAxOyBzdHJva2U6IHJnYig4MCwgODAsIDgwKTsgZmlsbDogbm9uZTsiIG1hcmtlci1lbmQ9IiIgZD0iTTY0OS42NjY2NjY2NjY2NjY2LDUwMy41LCA4MjkuNjY2NjY2NjY2NjY2NiwyNjMuNSI+PC9wYXRoPjxwYXRoIGNsYXNzPSJsaW5rIiBzdHlsZT0ic3Ryb2tlLXdpZHRoOiAwLjVweDsgc3Ryb2tlLW9wYWNpdHk6IDE7IHN0cm9rZTogcmdiKDgwLCA4MCwgODApOyBmaWxsOiBub25lOyIgbWFya2VyLWVuZD0iIiBkPSJNNjQ5LjY2NjY2NjY2NjY2NjYsNTAzLjUsIDgyOS42NjY2NjY2NjY2NjY2LDMwMy41Ij48L3BhdGg+PHBhdGggY2xhc3M9ImxpbmsiIHN0eWxlPSJzdHJva2Utd2lkdGg6IDAuNXB4OyBzdHJva2Utb3BhY2l0eTogMTsgc3Ryb2tlOiByZ2IoODAsIDgwLCA4MCk7IGZpbGw6IG5vbmU7IiBtYXJrZXItZW5kPSIiIGQ9Ik02NDkuNjY2NjY2NjY2NjY2Niw1MDMuNSwgODI5LjY2NjY2NjY2NjY2NjYsMzQzLjUiPjwvcGF0aD48cGF0aCBjbGFzcz0ibGluayIgc3R5bGU9InN0cm9rZS13aWR0aDogMC41cHg7IHN0cm9rZS1vcGFjaXR5OiAxOyBzdHJva2U6IHJnYig4MCwgODAsIDgwKTsgZmlsbDogbm9uZTsiIG1hcmtlci1lbmQ9IiIgZD0iTTY0OS42NjY2NjY2NjY2NjY2LDUwMy41LCA4MjkuNjY2NjY2NjY2NjY2NiwzODMuNSI+PC9wYXRoPjxwYXRoIGNsYXNzPSJsaW5rIiBzdHlsZT0ic3Ryb2tlLXdpZHRoOiAwLjVweDsgc3Ryb2tlLW9wYWNpdHk6IDE7IHN0cm9rZTogcmdiKDgwLCA4MCwgODApOyBmaWxsOiBub25lOyIgbWFya2VyLWVuZD0iIiBkPSJNNjQ5LjY2NjY2NjY2NjY2NjYsNTAzLjUsIDgyOS42NjY2NjY2NjY2NjY2LDQyMy41Ij48L3BhdGg+PHBhdGggY2xhc3M9ImxpbmsiIHN0eWxlPSJzdHJva2Utd2lkdGg6IDAuNXB4OyBzdHJva2Utb3BhY2l0eTogMTsgc3Ryb2tlOiByZ2IoODAsIDgwLCA4MCk7IGZpbGw6IG5vbmU7IiBtYXJrZXItZW5kPSIiIGQ9Ik04MjkuNjY2NjY2NjY2NjY2NiwxNDMuNSwgMTAwOS42NjY2NjY2NjY2NjY2LDI4My41Ij48L3BhdGg+PHBhdGggY2xhc3M9ImxpbmsiIHN0eWxlPSJzdHJva2Utd2lkdGg6IDAuNXB4OyBzdHJva2Utb3BhY2l0eTogMTsgc3Ryb2tlOiByZ2IoODAsIDgwLCA4MCk7IGZpbGw6IG5vbmU7IiBtYXJrZXItZW5kPSIiIGQ9Ik04MjkuNjY2NjY2NjY2NjY2NiwxODMuNSwgMTAwOS42NjY2NjY2NjY2NjY2LDI4My41Ij48L3BhdGg+PHBhdGggY2xhc3M9ImxpbmsiIHN0eWxlPSJzdHJva2Utd2lkdGg6IDAuNXB4OyBzdHJva2Utb3BhY2l0eTogMTsgc3Ryb2tlOiByZ2IoODAsIDgwLCA4MCk7IGZpbGw6IG5vbmU7IiBtYXJrZXItZW5kPSIiIGQ9Ik04MjkuNjY2NjY2NjY2NjY2NiwyMjMuNSwgMTAwOS42NjY2NjY2NjY2NjY2LDI4My41Ij48L3BhdGg+PHBhdGggY2xhc3M9ImxpbmsiIHN0eWxlPSJzdHJva2Utd2lkdGg6IDAuNXB4OyBzdHJva2Utb3BhY2l0eTogMTsgc3Ryb2tlOiByZ2IoODAsIDgwLCA4MCk7IGZpbGw6IG5vbmU7IiBtYXJrZXItZW5kPSIiIGQ9Ik04MjkuNjY2NjY2NjY2NjY2NiwyNjMuNSwgMTAwOS42NjY2NjY2NjY2NjY2LDI4My41Ij48L3BhdGg+PHBhdGggY2xhc3M9ImxpbmsiIHN0eWxlPSJzdHJva2Utd2lkdGg6IDAuNXB4OyBzdHJva2Utb3BhY2l0eTogMTsgc3Ryb2tlOiByZ2IoODAsIDgwLCA4MCk7IGZpbGw6IG5vbmU7IiBtYXJrZXItZW5kPSIiIGQ9Ik04MjkuNjY2NjY2NjY2NjY2NiwzMDMuNSwgMTAwOS42NjY2NjY2NjY2NjY2LDI4My41Ij48L3BhdGg+PHBhdGggY2xhc3M9ImxpbmsiIHN0eWxlPSJzdHJva2Utd2lkdGg6IDAuNXB4OyBzdHJva2Utb3BhY2l0eTogMTsgc3Ryb2tlOiByZ2IoODAsIDgwLCA4MCk7IGZpbGw6IG5vbmU7IiBtYXJrZXItZW5kPSIiIGQ9Ik04MjkuNjY2NjY2NjY2NjY2NiwzNDMuNSwgMTAwOS42NjY2NjY2NjY2NjY2LDI4My41Ij48L3BhdGg+PHBhdGggY2xhc3M9ImxpbmsiIHN0eWxlPSJzdHJva2Utd2lkdGg6IDAuNXB4OyBzdHJva2Utb3BhY2l0eTogMTsgc3Ryb2tlOiByZ2IoODAsIDgwLCA4MCk7IGZpbGw6IG5vbmU7IiBtYXJrZXItZW5kPSIiIGQ9Ik04MjkuNjY2NjY2NjY2NjY2NiwzODMuNSwgMTAwOS42NjY2NjY2NjY2NjY2LDI4My41Ij48L3BhdGg+PHBhdGggY2xhc3M9ImxpbmsiIHN0eWxlPSJzdHJva2Utd2lkdGg6IDAuNXB4OyBzdHJva2Utb3BhY2l0eTogMTsgc3Ryb2tlOiByZ2IoODAsIDgwLCA4MCk7IGZpbGw6IG5vbmU7IiBtYXJrZXItZW5kPSIiIGQ9Ik04MjkuNjY2NjY2NjY2NjY2Niw0MjMuNSwgMTAwOS42NjY2NjY2NjY2NjY2LDI4My41Ij48L3BhdGg+PGNpcmNsZSByPSIxMCIgY2xhc3M9Im5vZGUiIGlkPSIwXzAiIHN0eWxlPSJmaWxsOiByZ2IoMjU1LCAyNTUsIDI1NSk7IHN0cm9rZTogcmdiKDUxLCA1MSwgNTEpOyIgY3g9IjQ2OS42NjY2NjY2NjY2NjY2MyIgY3k9IjE0My41Ij48L2NpcmNsZT48Y2lyY2xlIHI9IjEwIiBjbGFzcz0ibm9kZSIgaWQ9IjBfMSIgc3R5bGU9ImZpbGw6IHJnYigyNTUsIDI1NSwgMjU1KTsgc3Ryb2tlOiByZ2IoNTEsIDUxLCA1MSk7IiBjeD0iNDY5LjY2NjY2NjY2NjY2NjYzIiBjeT0iMTgzLjUiPjwvY2lyY2xlPjxjaXJjbGUgcj0iMTAiIGNsYXNzPSJub2RlIiBpZD0iMF8yIiBzdHlsZT0iZmlsbDogcmdiKDI1NSwgMjU1LCAyNTUpOyBzdHJva2U6IHJnYig1MSwgNTEsIDUxKTsiIGN4PSI0NjkuNjY2NjY2NjY2NjY2NjMiIGN5PSIyMjMuNSI+PC9jaXJjbGU+PGNpcmNsZSByPSIxMCIgY2xhc3M9Im5vZGUiIGlkPSIwXzMiIHN0eWxlPSJmaWxsOiByZ2IoMjU1LCAyNTUsIDI1NSk7IHN0cm9rZTogcmdiKDUxLCA1MSwgNTEpOyIgY3g9IjQ2OS42NjY2NjY2NjY2NjY2MyIgY3k9IjI2My41Ij48L2NpcmNsZT48Y2lyY2xlIHI9IjEwIiBjbGFzcz0ibm9kZSIgaWQ9IjBfNCIgc3R5bGU9ImZpbGw6IHJnYigyNTUsIDI1NSwgMjU1KTsgc3Ryb2tlOiByZ2IoNTEsIDUxLCA1MSk7IiBjeD0iNDY5LjY2NjY2NjY2NjY2NjYzIiBjeT0iMzAzLjUiPjwvY2lyY2xlPjxjaXJjbGUgcj0iMTAiIGNsYXNzPSJub2RlIiBpZD0iMF81IiBzdHlsZT0iZmlsbDogcmdiKDI1NSwgMjU1LCAyNTUpOyBzdHJva2U6IHJnYig1MSwgNTEsIDUxKTsiIGN4PSI0NjkuNjY2NjY2NjY2NjY2NjMiIGN5PSIzNDMuNSI+PC9jaXJjbGU+PGNpcmNsZSByPSIxMCIgY2xhc3M9Im5vZGUiIGlkPSIwXzYiIHN0eWxlPSJmaWxsOiByZ2IoMjU1LCAyNTUsIDI1NSk7IHN0cm9rZTogcmdiKDUxLCA1MSwgNTEpOyIgY3g9IjQ2OS42NjY2NjY2NjY2NjY2MyIgY3k9IjM4My41Ij48L2NpcmNsZT48Y2lyY2xlIHI9IjEwIiBjbGFzcz0ibm9kZSIgaWQ9IjBfNyIgc3R5bGU9ImZpbGw6IHJnYigyNTUsIDI1NSwgMjU1KTsgc3Ryb2tlOiByZ2IoNTEsIDUxLCA1MSk7IiBjeD0iNDY5LjY2NjY2NjY2NjY2NjYzIiBjeT0iNDIzLjUiPjwvY2lyY2xlPjxjaXJjbGUgcj0iMTAiIGNsYXNzPSJub2RlIiBpZD0iMV8wIiBzdHlsZT0iZmlsbDogcmdiKDI1NSwgMjU1LCAyNTUpOyBzdHJva2U6IHJnYig1MSwgNTEsIDUxKTsiIGN4PSI2NDkuNjY2NjY2NjY2NjY2NiIgY3k9IjYzLjUiPjwvY2lyY2xlPjxjaXJjbGUgcj0iMTAiIGNsYXNzPSJub2RlIiBpZD0iMV8xIiBzdHlsZT0iZmlsbDogcmdiKDI1NSwgMjU1LCAyNTUpOyBzdHJva2U6IHJnYig1MSwgNTEsIDUxKTsiIGN4PSI2NDkuNjY2NjY2NjY2NjY2NiIgY3k9IjEwMy41Ij48L2NpcmNsZT48Y2lyY2xlIHI9IjEwIiBjbGFzcz0ibm9kZSIgaWQ9IjFfMiIgc3R5bGU9ImZpbGw6IHJnYigyNTUsIDI1NSwgMjU1KTsgc3Ryb2tlOiByZ2IoNTEsIDUxLCA1MSk7IiBjeD0iNjQ5LjY2NjY2NjY2NjY2NjYiIGN5PSIxNDMuNSI+PC9jaXJjbGU+PGNpcmNsZSByPSIxMCIgY2xhc3M9Im5vZGUiIGlkPSIxXzMiIHN0eWxlPSJmaWxsOiByZ2IoMjU1LCAyNTUsIDI1NSk7IHN0cm9rZTogcmdiKDUxLCA1MSwgNTEpOyIgY3g9IjY0OS42NjY2NjY2NjY2NjY2IiBjeT0iMTgzLjUiPjwvY2lyY2xlPjxjaXJjbGUgcj0iMTAiIGNsYXNzPSJub2RlIiBpZD0iMV80IiBzdHlsZT0iZmlsbDogcmdiKDI1NSwgMjU1LCAyNTUpOyBzdHJva2U6IHJnYig1MSwgNTEsIDUxKTsiIGN4PSI2NDkuNjY2NjY2NjY2NjY2NiIgY3k9IjIyMy41Ij48L2NpcmNsZT48Y2lyY2xlIHI9IjEwIiBjbGFzcz0ibm9kZSIgaWQ9IjFfNSIgc3R5bGU9ImZpbGw6IHJnYigyNTUsIDI1NSwgMjU1KTsgc3Ryb2tlOiByZ2IoNTEsIDUxLCA1MSk7IiBjeD0iNjQ5LjY2NjY2NjY2NjY2NjYiIGN5PSIyNjMuNSI+PC9jaXJjbGU+PGNpcmNsZSByPSIxMCIgY2xhc3M9Im5vZGUiIGlkPSIxXzYiIHN0eWxlPSJmaWxsOiByZ2IoMjU1LCAyNTUsIDI1NSk7IHN0cm9rZTogcmdiKDUxLCA1MSwgNTEpOyIgY3g9IjY0OS42NjY2NjY2NjY2NjY2IiBjeT0iMzAzLjUiPjwvY2lyY2xlPjxjaXJjbGUgcj0iMTAiIGNsYXNzPSJub2RlIiBpZD0iMV83IiBzdHlsZT0iZmlsbDogcmdiKDI1NSwgMjU1LCAyNTUpOyBzdHJva2U6IHJnYig1MSwgNTEsIDUxKTsiIGN4PSI2NDkuNjY2NjY2NjY2NjY2NiIgY3k9IjM0My41Ij48L2NpcmNsZT48Y2lyY2xlIHI9IjEwIiBjbGFzcz0ibm9kZSIgaWQ9IjFfOCIgc3R5bGU9ImZpbGw6IHJnYigyNTUsIDI1NSwgMjU1KTsgc3Ryb2tlOiByZ2IoNTEsIDUxLCA1MSk7IiBjeD0iNjQ5LjY2NjY2NjY2NjY2NjYiIGN5PSIzODMuNSI+PC9jaXJjbGU+PGNpcmNsZSByPSIxMCIgY2xhc3M9Im5vZGUiIGlkPSIxXzkiIHN0eWxlPSJmaWxsOiByZ2IoMjU1LCAyNTUsIDI1NSk7IHN0cm9rZTogcmdiKDUxLCA1MSwgNTEpOyIgY3g9IjY0OS42NjY2NjY2NjY2NjY2IiBjeT0iNDIzLjUiPjwvY2lyY2xlPjxjaXJjbGUgcj0iMTAiIGNsYXNzPSJub2RlIiBpZD0iMV8xMCIgc3R5bGU9ImZpbGw6IHJnYigyNTUsIDI1NSwgMjU1KTsgc3Ryb2tlOiByZ2IoNTEsIDUxLCA1MSk7IiBjeD0iNjQ5LjY2NjY2NjY2NjY2NjYiIGN5PSI0NjMuNSI+PC9jaXJjbGU+PGNpcmNsZSByPSIxMCIgY2xhc3M9Im5vZGUiIGlkPSIxXzExIiBzdHlsZT0iZmlsbDogcmdiKDI1NSwgMjU1LCAyNTUpOyBzdHJva2U6IHJnYig1MSwgNTEsIDUxKTsiIGN4PSI2NDkuNjY2NjY2NjY2NjY2NiIgY3k9IjUwMy41Ij48L2NpcmNsZT48Y2lyY2xlIHI9IjEwIiBjbGFzcz0ibm9kZSIgaWQ9IjJfMCIgc3R5bGU9ImZpbGw6IHJnYigyNTUsIDI1NSwgMjU1KTsgc3Ryb2tlOiByZ2IoNTEsIDUxLCA1MSk7IiBjeD0iODI5LjY2NjY2NjY2NjY2NjYiIGN5PSIxNDMuNSI+PC9jaXJjbGU+PGNpcmNsZSByPSIxMCIgY2xhc3M9Im5vZGUiIGlkPSIyXzEiIHN0eWxlPSJmaWxsOiByZ2IoMjU1LCAyNTUsIDI1NSk7IHN0cm9rZTogcmdiKDUxLCA1MSwgNTEpOyIgY3g9IjgyOS42NjY2NjY2NjY2NjY2IiBjeT0iMTgzLjUiPjwvY2lyY2xlPjxjaXJjbGUgcj0iMTAiIGNsYXNzPSJub2RlIiBpZD0iMl8yIiBzdHlsZT0iZmlsbDogcmdiKDI1NSwgMjU1LCAyNTUpOyBzdHJva2U6IHJnYig1MSwgNTEsIDUxKTsiIGN4PSI4MjkuNjY2NjY2NjY2NjY2NiIgY3k9IjIyMy41Ij48L2NpcmNsZT48Y2lyY2xlIHI9IjEwIiBjbGFzcz0ibm9kZSIgaWQ9IjJfMyIgc3R5bGU9ImZpbGw6IHJnYigyNTUsIDI1NSwgMjU1KTsgc3Ryb2tlOiByZ2IoNTEsIDUxLCA1MSk7IiBjeD0iODI5LjY2NjY2NjY2NjY2NjYiIGN5PSIyNjMuNSI+PC9jaXJjbGU+PGNpcmNsZSByPSIxMCIgY2xhc3M9Im5vZGUiIGlkPSIyXzQiIHN0eWxlPSJmaWxsOiByZ2IoMjU1LCAyNTUsIDI1NSk7IHN0cm9rZTogcmdiKDUxLCA1MSwgNTEpOyIgY3g9IjgyOS42NjY2NjY2NjY2NjY2IiBjeT0iMzAzLjUiPjwvY2lyY2xlPjxjaXJjbGUgcj0iMTAiIGNsYXNzPSJub2RlIiBpZD0iMl81IiBzdHlsZT0iZmlsbDogcmdiKDI1NSwgMjU1LCAyNTUpOyBzdHJva2U6IHJnYig1MSwgNTEsIDUxKTsiIGN4PSI4MjkuNjY2NjY2NjY2NjY2NiIgY3k9IjM0My41Ij48L2NpcmNsZT48Y2lyY2xlIHI9IjEwIiBjbGFzcz0ibm9kZSIgaWQ9IjJfNiIgc3R5bGU9ImZpbGw6IHJnYigyNTUsIDI1NSwgMjU1KTsgc3Ryb2tlOiByZ2IoNTEsIDUxLCA1MSk7IiBjeD0iODI5LjY2NjY2NjY2NjY2NjYiIGN5PSIzODMuNSI+PC9jaXJjbGU+PGNpcmNsZSByPSIxMCIgY2xhc3M9Im5vZGUiIGlkPSIyXzciIHN0eWxlPSJmaWxsOiByZ2IoMjU1LCAyNTUsIDI1NSk7IHN0cm9rZTogcmdiKDUxLCA1MSwgNTEpOyIgY3g9IjgyOS42NjY2NjY2NjY2NjY2IiBjeT0iNDIzLjUiPjwvY2lyY2xlPjxjaXJjbGUgcj0iMTAiIGNsYXNzPSJub2RlIiBpZD0iM18wIiBzdHlsZT0iZmlsbDogcmdiKDI1NSwgMjU1LCAyNTUpOyBzdHJva2U6IHJnYig1MSwgNTEsIDUxKTsiIGN4PSIxMDA5LjY2NjY2NjY2NjY2NjYiIGN5PSIyODMuNSI+PC9jaXJjbGU+PHRleHQgY2xhc3M9InRleHQiIGR5PSIuMzVlbSIgc3R5bGU9ImZvbnQtc2l6ZTogMTJweDsiIHg9IjQzNC42NjY2NjY2NjY2NjY2MyIgeT0iNTQzLjUiPklucHV0IExheWVyIOKIiCDihJ3igbg8L3RleHQ+PHRleHQgY2xhc3M9InRleHQiIGR5PSIuMzVlbSIgc3R5bGU9ImZvbnQtc2l6ZTogMTJweDsiIHg9IjYxNC42NjY2NjY2NjY2NjY2IiB5PSI1NDMuNSI+SGlkZGVuIExheWVyIOKIiCDihJ3CucKyPC90ZXh0Pjx0ZXh0IGNsYXNzPSJ0ZXh0IiBkeT0iLjM1ZW0iIHN0eWxlPSJmb250LXNpemU6IDEycHg7IiB4PSI3OTQuNjY2NjY2NjY2NjY2NiIgeT0iNTQzLjUiPkhpZGRlbiBMYXllciDiiIgg4oSd4oG4PC90ZXh0Pjx0ZXh0IGNsYXNzPSJ0ZXh0IiBkeT0iLjM1ZW0iIHN0eWxlPSJmb250LXNpemU6IDEycHg7IiB4PSI5NzQuNjY2NjY2NjY2NjY2NiIgeT0iNTQzLjUiPk91dHB1dCBMYXllciDiiIgg4oSdwrk8L3RleHQ+PC9nPjxkZWZzPjxtYXJrZXIgaWQ9ImFycm93IiB2aWV3Qm94PSIwIC01IDEwIDEwIiBtYXJrZXJXaWR0aD0iNyIgbWFya2VySGVpZ2h0PSI3IiBvcmllbnQ9ImF1dG8iIHJlZlg9IjQwIj48cGF0aCBkPSJNMCwtNUwxMCwwTDAsNSIgc3R5bGU9InN0cm9rZTogcmdiKDgwLCA4MCwgODApOyBmaWxsOiBub25lOyI+PC9wYXRoPjwvbWFya2VyPjwvZGVmcz48L3N2Zz4="
     ]
    }
   },
   "cell_type": "markdown",
   "metadata": {},
   "source": [
    "![nn.svg](attachment:nn.svg)"
   ]
  },
  {
   "cell_type": "markdown",
   "metadata": {
    "colab_type": "text",
    "id": "JT4u2S1_Y4WG"
   },
   "source": [
    "## Part 3 - Training the ANN"
   ]
  },
  {
   "cell_type": "markdown",
   "metadata": {
    "colab_type": "text",
    "id": "8GWlJChhY_ZI"
   },
   "source": [
    "### Compiling the ANN"
   ]
  },
  {
   "cell_type": "code",
   "execution_count": 16,
   "metadata": {
    "colab": {},
    "colab_type": "code",
    "id": "fG3RrwDXZEaS"
   },
   "outputs": [],
   "source": [
    "#for non-binary classification loss ='categorical_crossentropy'\n",
    "ann.compile(optimizer = 'adam', loss = 'binary_crossentropy', metrics = ['accuracy'])"
   ]
  },
  {
   "cell_type": "code",
   "execution_count": 17,
   "metadata": {},
   "outputs": [
    {
     "data": {
      "text/html": [
       "<pre style=\"white-space:pre;overflow-x:auto;line-height:normal;font-family:Menlo,'DejaVu Sans Mono',consolas,'Courier New',monospace\"><span style=\"font-weight: bold\">Model: \"sequential\"</span>\n",
       "</pre>\n"
      ],
      "text/plain": [
       "\u001b[1mModel: \"sequential\"\u001b[0m\n"
      ]
     },
     "metadata": {},
     "output_type": "display_data"
    },
    {
     "data": {
      "text/html": [
       "<pre style=\"white-space:pre;overflow-x:auto;line-height:normal;font-family:Menlo,'DejaVu Sans Mono',consolas,'Courier New',monospace\">┏━━━━━━━━━━━━━━━━━━━━━━━━━━━━━━━━━┳━━━━━━━━━━━━━━━━━━━━━━━━┳━━━━━━━━━━━━━━━┓\n",
       "┃<span style=\"font-weight: bold\"> Layer (type)                    </span>┃<span style=\"font-weight: bold\"> Output Shape           </span>┃<span style=\"font-weight: bold\">       Param # </span>┃\n",
       "┡━━━━━━━━━━━━━━━━━━━━━━━━━━━━━━━━━╇━━━━━━━━━━━━━━━━━━━━━━━━╇━━━━━━━━━━━━━━━┩\n",
       "│ dense (<span style=\"color: #0087ff; text-decoration-color: #0087ff\">Dense</span>)                   │ (<span style=\"color: #00d7ff; text-decoration-color: #00d7ff\">None</span>, <span style=\"color: #00af00; text-decoration-color: #00af00\">12</span>)             │           <span style=\"color: #00af00; text-decoration-color: #00af00\">108</span> │\n",
       "├─────────────────────────────────┼────────────────────────┼───────────────┤\n",
       "│ dense_1 (<span style=\"color: #0087ff; text-decoration-color: #0087ff\">Dense</span>)                 │ (<span style=\"color: #00d7ff; text-decoration-color: #00d7ff\">None</span>, <span style=\"color: #00af00; text-decoration-color: #00af00\">8</span>)              │           <span style=\"color: #00af00; text-decoration-color: #00af00\">104</span> │\n",
       "├─────────────────────────────────┼────────────────────────┼───────────────┤\n",
       "│ dense_2 (<span style=\"color: #0087ff; text-decoration-color: #0087ff\">Dense</span>)                 │ (<span style=\"color: #00d7ff; text-decoration-color: #00d7ff\">None</span>, <span style=\"color: #00af00; text-decoration-color: #00af00\">1</span>)              │             <span style=\"color: #00af00; text-decoration-color: #00af00\">9</span> │\n",
       "└─────────────────────────────────┴────────────────────────┴───────────────┘\n",
       "</pre>\n"
      ],
      "text/plain": [
       "┏━━━━━━━━━━━━━━━━━━━━━━━━━━━━━━━━━┳━━━━━━━━━━━━━━━━━━━━━━━━┳━━━━━━━━━━━━━━━┓\n",
       "┃\u001b[1m \u001b[0m\u001b[1mLayer (type)                   \u001b[0m\u001b[1m \u001b[0m┃\u001b[1m \u001b[0m\u001b[1mOutput Shape          \u001b[0m\u001b[1m \u001b[0m┃\u001b[1m \u001b[0m\u001b[1m      Param #\u001b[0m\u001b[1m \u001b[0m┃\n",
       "┡━━━━━━━━━━━━━━━━━━━━━━━━━━━━━━━━━╇━━━━━━━━━━━━━━━━━━━━━━━━╇━━━━━━━━━━━━━━━┩\n",
       "│ dense (\u001b[38;5;33mDense\u001b[0m)                   │ (\u001b[38;5;45mNone\u001b[0m, \u001b[38;5;34m12\u001b[0m)             │           \u001b[38;5;34m108\u001b[0m │\n",
       "├─────────────────────────────────┼────────────────────────┼───────────────┤\n",
       "│ dense_1 (\u001b[38;5;33mDense\u001b[0m)                 │ (\u001b[38;5;45mNone\u001b[0m, \u001b[38;5;34m8\u001b[0m)              │           \u001b[38;5;34m104\u001b[0m │\n",
       "├─────────────────────────────────┼────────────────────────┼───────────────┤\n",
       "│ dense_2 (\u001b[38;5;33mDense\u001b[0m)                 │ (\u001b[38;5;45mNone\u001b[0m, \u001b[38;5;34m1\u001b[0m)              │             \u001b[38;5;34m9\u001b[0m │\n",
       "└─────────────────────────────────┴────────────────────────┴───────────────┘\n"
      ]
     },
     "metadata": {},
     "output_type": "display_data"
    },
    {
     "data": {
      "text/html": [
       "<pre style=\"white-space:pre;overflow-x:auto;line-height:normal;font-family:Menlo,'DejaVu Sans Mono',consolas,'Courier New',monospace\"><span style=\"font-weight: bold\"> Total params: </span><span style=\"color: #00af00; text-decoration-color: #00af00\">221</span> (884.00 B)\n",
       "</pre>\n"
      ],
      "text/plain": [
       "\u001b[1m Total params: \u001b[0m\u001b[38;5;34m221\u001b[0m (884.00 B)\n"
      ]
     },
     "metadata": {},
     "output_type": "display_data"
    },
    {
     "data": {
      "text/html": [
       "<pre style=\"white-space:pre;overflow-x:auto;line-height:normal;font-family:Menlo,'DejaVu Sans Mono',consolas,'Courier New',monospace\"><span style=\"font-weight: bold\"> Trainable params: </span><span style=\"color: #00af00; text-decoration-color: #00af00\">221</span> (884.00 B)\n",
       "</pre>\n"
      ],
      "text/plain": [
       "\u001b[1m Trainable params: \u001b[0m\u001b[38;5;34m221\u001b[0m (884.00 B)\n"
      ]
     },
     "metadata": {},
     "output_type": "display_data"
    },
    {
     "data": {
      "text/html": [
       "<pre style=\"white-space:pre;overflow-x:auto;line-height:normal;font-family:Menlo,'DejaVu Sans Mono',consolas,'Courier New',monospace\"><span style=\"font-weight: bold\"> Non-trainable params: </span><span style=\"color: #00af00; text-decoration-color: #00af00\">0</span> (0.00 B)\n",
       "</pre>\n"
      ],
      "text/plain": [
       "\u001b[1m Non-trainable params: \u001b[0m\u001b[38;5;34m0\u001b[0m (0.00 B)\n"
      ]
     },
     "metadata": {},
     "output_type": "display_data"
    }
   ],
   "source": [
    "ann.summary()"
   ]
  },
  {
   "cell_type": "markdown",
   "metadata": {
    "colab_type": "text",
    "id": "0QR_G5u7ZLSM"
   },
   "source": [
    "### Training the ANN on the Training set"
   ]
  },
  {
   "cell_type": "code",
   "execution_count": 18,
   "metadata": {
    "colab": {
     "base_uri": "https://localhost:8080/",
     "height": 1000
    },
    "colab_type": "code",
    "id": "nHZ-LKv_ZRb3",
    "outputId": "718cc4b0-b5aa-40f0-9b20-d3d31730a531"
   },
   "outputs": [
    {
     "name": "stdout",
     "output_type": "stream",
     "text": [
      "Epoch 1/150\n",
      "\u001b[1m62/62\u001b[0m \u001b[32m━━━━━━━━━━━━━━━━━━━━\u001b[0m\u001b[37m\u001b[0m \u001b[1m2s\u001b[0m 1ms/step - accuracy: 0.4259 - loss: 0.7285\n",
      "Epoch 2/150\n",
      "\u001b[1m62/62\u001b[0m \u001b[32m━━━━━━━━━━━━━━━━━━━━\u001b[0m\u001b[37m\u001b[0m \u001b[1m0s\u001b[0m 1ms/step - accuracy: 0.6011 - loss: 0.6689\n",
      "Epoch 3/150\n",
      "\u001b[1m62/62\u001b[0m \u001b[32m━━━━━━━━━━━━━━━━━━━━\u001b[0m\u001b[37m\u001b[0m \u001b[1m0s\u001b[0m 1ms/step - accuracy: 0.7333 - loss: 0.6187\n",
      "Epoch 4/150\n",
      "\u001b[1m62/62\u001b[0m \u001b[32m━━━━━━━━━━━━━━━━━━━━\u001b[0m\u001b[37m\u001b[0m \u001b[1m0s\u001b[0m 1ms/step - accuracy: 0.7308 - loss: 0.5954\n",
      "Epoch 5/150\n",
      "\u001b[1m62/62\u001b[0m \u001b[32m━━━━━━━━━━━━━━━━━━━━\u001b[0m\u001b[37m\u001b[0m \u001b[1m0s\u001b[0m 1ms/step - accuracy: 0.7710 - loss: 0.5543\n",
      "Epoch 6/150\n",
      "\u001b[1m62/62\u001b[0m \u001b[32m━━━━━━━━━━━━━━━━━━━━\u001b[0m\u001b[37m\u001b[0m \u001b[1m0s\u001b[0m 1ms/step - accuracy: 0.7621 - loss: 0.5270\n",
      "Epoch 7/150\n",
      "\u001b[1m62/62\u001b[0m \u001b[32m━━━━━━━━━━━━━━━━━━━━\u001b[0m\u001b[37m\u001b[0m \u001b[1m0s\u001b[0m 1ms/step - accuracy: 0.7721 - loss: 0.4930\n",
      "Epoch 8/150\n",
      "\u001b[1m62/62\u001b[0m \u001b[32m━━━━━━━━━━━━━━━━━━━━\u001b[0m\u001b[37m\u001b[0m \u001b[1m0s\u001b[0m 1ms/step - accuracy: 0.7737 - loss: 0.5024\n",
      "Epoch 9/150\n",
      "\u001b[1m62/62\u001b[0m \u001b[32m━━━━━━━━━━━━━━━━━━━━\u001b[0m\u001b[37m\u001b[0m \u001b[1m0s\u001b[0m 1ms/step - accuracy: 0.8010 - loss: 0.4765\n",
      "Epoch 10/150\n",
      "\u001b[1m62/62\u001b[0m \u001b[32m━━━━━━━━━━━━━━━━━━━━\u001b[0m\u001b[37m\u001b[0m \u001b[1m0s\u001b[0m 1ms/step - accuracy: 0.7879 - loss: 0.4614\n",
      "Epoch 11/150\n",
      "\u001b[1m62/62\u001b[0m \u001b[32m━━━━━━━━━━━━━━━━━━━━\u001b[0m\u001b[37m\u001b[0m \u001b[1m0s\u001b[0m 1ms/step - accuracy: 0.7972 - loss: 0.4631\n",
      "Epoch 12/150\n",
      "\u001b[1m62/62\u001b[0m \u001b[32m━━━━━━━━━━━━━━━━━━━━\u001b[0m\u001b[37m\u001b[0m \u001b[1m0s\u001b[0m 1ms/step - accuracy: 0.8268 - loss: 0.4184\n",
      "Epoch 13/150\n",
      "\u001b[1m62/62\u001b[0m \u001b[32m━━━━━━━━━━━━━━━━━━━━\u001b[0m\u001b[37m\u001b[0m \u001b[1m0s\u001b[0m 1ms/step - accuracy: 0.7944 - loss: 0.4571\n",
      "Epoch 14/150\n",
      "\u001b[1m62/62\u001b[0m \u001b[32m━━━━━━━━━━━━━━━━━━━━\u001b[0m\u001b[37m\u001b[0m \u001b[1m0s\u001b[0m 1ms/step - accuracy: 0.7897 - loss: 0.4545\n",
      "Epoch 15/150\n",
      "\u001b[1m62/62\u001b[0m \u001b[32m━━━━━━━━━━━━━━━━━━━━\u001b[0m\u001b[37m\u001b[0m \u001b[1m0s\u001b[0m 1ms/step - accuracy: 0.7795 - loss: 0.4753\n",
      "Epoch 16/150\n",
      "\u001b[1m62/62\u001b[0m \u001b[32m━━━━━━━━━━━━━━━━━━━━\u001b[0m\u001b[37m\u001b[0m \u001b[1m0s\u001b[0m 1ms/step - accuracy: 0.8184 - loss: 0.4428\n",
      "Epoch 17/150\n",
      "\u001b[1m62/62\u001b[0m \u001b[32m━━━━━━━━━━━━━━━━━━━━\u001b[0m\u001b[37m\u001b[0m \u001b[1m0s\u001b[0m 1ms/step - accuracy: 0.7609 - loss: 0.4802\n",
      "Epoch 18/150\n",
      "\u001b[1m62/62\u001b[0m \u001b[32m━━━━━━━━━━━━━━━━━━━━\u001b[0m\u001b[37m\u001b[0m \u001b[1m0s\u001b[0m 1ms/step - accuracy: 0.7662 - loss: 0.4879\n",
      "Epoch 19/150\n",
      "\u001b[1m62/62\u001b[0m \u001b[32m━━━━━━━━━━━━━━━━━━━━\u001b[0m\u001b[37m\u001b[0m \u001b[1m0s\u001b[0m 1ms/step - accuracy: 0.8070 - loss: 0.4474\n",
      "Epoch 20/150\n",
      "\u001b[1m62/62\u001b[0m \u001b[32m━━━━━━━━━━━━━━━━━━━━\u001b[0m\u001b[37m\u001b[0m \u001b[1m0s\u001b[0m 1ms/step - accuracy: 0.8028 - loss: 0.4351\n",
      "Epoch 21/150\n",
      "\u001b[1m62/62\u001b[0m \u001b[32m━━━━━━━━━━━━━━━━━━━━\u001b[0m\u001b[37m\u001b[0m \u001b[1m0s\u001b[0m 1ms/step - accuracy: 0.8113 - loss: 0.4401\n",
      "Epoch 22/150\n",
      "\u001b[1m62/62\u001b[0m \u001b[32m━━━━━━━━━━━━━━━━━━━━\u001b[0m\u001b[37m\u001b[0m \u001b[1m0s\u001b[0m 1ms/step - accuracy: 0.8290 - loss: 0.4026\n",
      "Epoch 23/150\n",
      "\u001b[1m62/62\u001b[0m \u001b[32m━━━━━━━━━━━━━━━━━━━━\u001b[0m\u001b[37m\u001b[0m \u001b[1m0s\u001b[0m 1ms/step - accuracy: 0.8171 - loss: 0.4275\n",
      "Epoch 24/150\n",
      "\u001b[1m62/62\u001b[0m \u001b[32m━━━━━━━━━━━━━━━━━━━━\u001b[0m\u001b[37m\u001b[0m \u001b[1m0s\u001b[0m 1ms/step - accuracy: 0.7962 - loss: 0.4454\n",
      "Epoch 25/150\n",
      "\u001b[1m62/62\u001b[0m \u001b[32m━━━━━━━━━━━━━━━━━━━━\u001b[0m\u001b[37m\u001b[0m \u001b[1m0s\u001b[0m 1ms/step - accuracy: 0.8071 - loss: 0.4137\n",
      "Epoch 26/150\n",
      "\u001b[1m62/62\u001b[0m \u001b[32m━━━━━━━━━━━━━━━━━━━━\u001b[0m\u001b[37m\u001b[0m \u001b[1m0s\u001b[0m 1ms/step - accuracy: 0.7827 - loss: 0.4777\n",
      "Epoch 27/150\n",
      "\u001b[1m62/62\u001b[0m \u001b[32m━━━━━━━━━━━━━━━━━━━━\u001b[0m\u001b[37m\u001b[0m \u001b[1m0s\u001b[0m 1ms/step - accuracy: 0.8034 - loss: 0.4326\n",
      "Epoch 28/150\n",
      "\u001b[1m62/62\u001b[0m \u001b[32m━━━━━━━━━━━━━━━━━━━━\u001b[0m\u001b[37m\u001b[0m \u001b[1m0s\u001b[0m 1ms/step - accuracy: 0.8115 - loss: 0.4416\n",
      "Epoch 29/150\n",
      "\u001b[1m62/62\u001b[0m \u001b[32m━━━━━━━━━━━━━━━━━━━━\u001b[0m\u001b[37m\u001b[0m \u001b[1m0s\u001b[0m 1ms/step - accuracy: 0.8085 - loss: 0.4165\n",
      "Epoch 30/150\n",
      "\u001b[1m62/62\u001b[0m \u001b[32m━━━━━━━━━━━━━━━━━━━━\u001b[0m\u001b[37m\u001b[0m \u001b[1m0s\u001b[0m 1ms/step - accuracy: 0.8032 - loss: 0.4135\n",
      "Epoch 31/150\n",
      "\u001b[1m62/62\u001b[0m \u001b[32m━━━━━━━━━━━━━━━━━━━━\u001b[0m\u001b[37m\u001b[0m \u001b[1m0s\u001b[0m 1ms/step - accuracy: 0.8049 - loss: 0.4392\n",
      "Epoch 32/150\n",
      "\u001b[1m62/62\u001b[0m \u001b[32m━━━━━━━━━━━━━━━━━━━━\u001b[0m\u001b[37m\u001b[0m \u001b[1m0s\u001b[0m 1ms/step - accuracy: 0.7788 - loss: 0.4677\n",
      "Epoch 33/150\n",
      "\u001b[1m62/62\u001b[0m \u001b[32m━━━━━━━━━━━━━━━━━━━━\u001b[0m\u001b[37m\u001b[0m \u001b[1m0s\u001b[0m 1ms/step - accuracy: 0.8263 - loss: 0.4020\n",
      "Epoch 34/150\n",
      "\u001b[1m62/62\u001b[0m \u001b[32m━━━━━━━━━━━━━━━━━━━━\u001b[0m\u001b[37m\u001b[0m \u001b[1m0s\u001b[0m 1ms/step - accuracy: 0.7767 - loss: 0.4510\n",
      "Epoch 35/150\n",
      "\u001b[1m62/62\u001b[0m \u001b[32m━━━━━━━━━━━━━━━━━━━━\u001b[0m\u001b[37m\u001b[0m \u001b[1m0s\u001b[0m 1ms/step - accuracy: 0.7986 - loss: 0.4213\n",
      "Epoch 36/150\n",
      "\u001b[1m62/62\u001b[0m \u001b[32m━━━━━━━━━━━━━━━━━━━━\u001b[0m\u001b[37m\u001b[0m \u001b[1m0s\u001b[0m 1ms/step - accuracy: 0.7839 - loss: 0.4400\n",
      "Epoch 37/150\n",
      "\u001b[1m62/62\u001b[0m \u001b[32m━━━━━━━━━━━━━━━━━━━━\u001b[0m\u001b[37m\u001b[0m \u001b[1m0s\u001b[0m 1ms/step - accuracy: 0.7831 - loss: 0.4398\n",
      "Epoch 38/150\n",
      "\u001b[1m62/62\u001b[0m \u001b[32m━━━━━━━━━━━━━━━━━━━━\u001b[0m\u001b[37m\u001b[0m \u001b[1m0s\u001b[0m 1ms/step - accuracy: 0.7861 - loss: 0.4249\n",
      "Epoch 39/150\n",
      "\u001b[1m62/62\u001b[0m \u001b[32m━━━━━━━━━━━━━━━━━━━━\u001b[0m\u001b[37m\u001b[0m \u001b[1m0s\u001b[0m 1ms/step - accuracy: 0.7904 - loss: 0.4510\n",
      "Epoch 40/150\n",
      "\u001b[1m62/62\u001b[0m \u001b[32m━━━━━━━━━━━━━━━━━━━━\u001b[0m\u001b[37m\u001b[0m \u001b[1m0s\u001b[0m 1ms/step - accuracy: 0.7761 - loss: 0.4545\n",
      "Epoch 41/150\n",
      "\u001b[1m62/62\u001b[0m \u001b[32m━━━━━━━━━━━━━━━━━━━━\u001b[0m\u001b[37m\u001b[0m \u001b[1m0s\u001b[0m 1ms/step - accuracy: 0.8002 - loss: 0.4206\n",
      "Epoch 42/150\n",
      "\u001b[1m62/62\u001b[0m \u001b[32m━━━━━━━━━━━━━━━━━━━━\u001b[0m\u001b[37m\u001b[0m \u001b[1m0s\u001b[0m 1ms/step - accuracy: 0.7727 - loss: 0.4443\n",
      "Epoch 43/150\n",
      "\u001b[1m62/62\u001b[0m \u001b[32m━━━━━━━━━━━━━━━━━━━━\u001b[0m\u001b[37m\u001b[0m \u001b[1m0s\u001b[0m 1ms/step - accuracy: 0.7766 - loss: 0.4568\n",
      "Epoch 44/150\n",
      "\u001b[1m62/62\u001b[0m \u001b[32m━━━━━━━━━━━━━━━━━━━━\u001b[0m\u001b[37m\u001b[0m \u001b[1m0s\u001b[0m 1ms/step - accuracy: 0.8108 - loss: 0.4070\n",
      "Epoch 45/150\n",
      "\u001b[1m62/62\u001b[0m \u001b[32m━━━━━━━━━━━━━━━━━━━━\u001b[0m\u001b[37m\u001b[0m \u001b[1m0s\u001b[0m 1ms/step - accuracy: 0.7982 - loss: 0.4081\n",
      "Epoch 46/150\n",
      "\u001b[1m62/62\u001b[0m \u001b[32m━━━━━━━━━━━━━━━━━━━━\u001b[0m\u001b[37m\u001b[0m \u001b[1m0s\u001b[0m 1ms/step - accuracy: 0.8095 - loss: 0.4031\n",
      "Epoch 47/150\n",
      "\u001b[1m62/62\u001b[0m \u001b[32m━━━━━━━━━━━━━━━━━━━━\u001b[0m\u001b[37m\u001b[0m \u001b[1m0s\u001b[0m 1ms/step - accuracy: 0.8343 - loss: 0.3876\n",
      "Epoch 48/150\n",
      "\u001b[1m62/62\u001b[0m \u001b[32m━━━━━━━━━━━━━━━━━━━━\u001b[0m\u001b[37m\u001b[0m \u001b[1m0s\u001b[0m 1ms/step - accuracy: 0.8093 - loss: 0.4019\n",
      "Epoch 49/150\n",
      "\u001b[1m62/62\u001b[0m \u001b[32m━━━━━━━━━━━━━━━━━━━━\u001b[0m\u001b[37m\u001b[0m \u001b[1m0s\u001b[0m 1ms/step - accuracy: 0.7840 - loss: 0.4416\n",
      "Epoch 50/150\n",
      "\u001b[1m62/62\u001b[0m \u001b[32m━━━━━━━━━━━━━━━━━━━━\u001b[0m\u001b[37m\u001b[0m \u001b[1m0s\u001b[0m 1ms/step - accuracy: 0.8232 - loss: 0.4179\n",
      "Epoch 51/150\n",
      "\u001b[1m62/62\u001b[0m \u001b[32m━━━━━━━━━━━━━━━━━━━━\u001b[0m\u001b[37m\u001b[0m \u001b[1m0s\u001b[0m 1ms/step - accuracy: 0.8132 - loss: 0.4049\n",
      "Epoch 52/150\n",
      "\u001b[1m62/62\u001b[0m \u001b[32m━━━━━━━━━━━━━━━━━━━━\u001b[0m\u001b[37m\u001b[0m \u001b[1m0s\u001b[0m 1ms/step - accuracy: 0.8096 - loss: 0.4231\n",
      "Epoch 53/150\n",
      "\u001b[1m62/62\u001b[0m \u001b[32m━━━━━━━━━━━━━━━━━━━━\u001b[0m\u001b[37m\u001b[0m \u001b[1m0s\u001b[0m 1ms/step - accuracy: 0.7862 - loss: 0.4625\n",
      "Epoch 54/150\n",
      "\u001b[1m62/62\u001b[0m \u001b[32m━━━━━━━━━━━━━━━━━━━━\u001b[0m\u001b[37m\u001b[0m \u001b[1m0s\u001b[0m 1ms/step - accuracy: 0.7876 - loss: 0.4239\n",
      "Epoch 55/150\n",
      "\u001b[1m62/62\u001b[0m \u001b[32m━━━━━━━━━━━━━━━━━━━━\u001b[0m\u001b[37m\u001b[0m \u001b[1m0s\u001b[0m 1ms/step - accuracy: 0.8347 - loss: 0.3845\n",
      "Epoch 56/150\n",
      "\u001b[1m62/62\u001b[0m \u001b[32m━━━━━━━━━━━━━━━━━━━━\u001b[0m\u001b[37m\u001b[0m \u001b[1m0s\u001b[0m 1ms/step - accuracy: 0.7885 - loss: 0.4556\n",
      "Epoch 57/150\n",
      "\u001b[1m62/62\u001b[0m \u001b[32m━━━━━━━━━━━━━━━━━━━━\u001b[0m\u001b[37m\u001b[0m \u001b[1m0s\u001b[0m 1ms/step - accuracy: 0.8075 - loss: 0.4224\n",
      "Epoch 58/150\n",
      "\u001b[1m62/62\u001b[0m \u001b[32m━━━━━━━━━━━━━━━━━━━━\u001b[0m\u001b[37m\u001b[0m \u001b[1m0s\u001b[0m 1ms/step - accuracy: 0.8164 - loss: 0.4074\n",
      "Epoch 59/150\n",
      "\u001b[1m62/62\u001b[0m \u001b[32m━━━━━━━━━━━━━━━━━━━━\u001b[0m\u001b[37m\u001b[0m \u001b[1m0s\u001b[0m 1ms/step - accuracy: 0.7967 - loss: 0.4125\n",
      "Epoch 60/150\n",
      "\u001b[1m62/62\u001b[0m \u001b[32m━━━━━━━━━━━━━━━━━━━━\u001b[0m\u001b[37m\u001b[0m \u001b[1m0s\u001b[0m 1ms/step - accuracy: 0.8019 - loss: 0.4121\n",
      "Epoch 61/150\n",
      "\u001b[1m62/62\u001b[0m \u001b[32m━━━━━━━━━━━━━━━━━━━━\u001b[0m\u001b[37m\u001b[0m \u001b[1m0s\u001b[0m 1ms/step - accuracy: 0.8024 - loss: 0.3939\n",
      "Epoch 62/150\n",
      "\u001b[1m62/62\u001b[0m \u001b[32m━━━━━━━━━━━━━━━━━━━━\u001b[0m\u001b[37m\u001b[0m \u001b[1m0s\u001b[0m 2ms/step - accuracy: 0.8021 - loss: 0.3964\n",
      "Epoch 63/150\n",
      "\u001b[1m62/62\u001b[0m \u001b[32m━━━━━━━━━━━━━━━━━━━━\u001b[0m\u001b[37m\u001b[0m \u001b[1m0s\u001b[0m 1ms/step - accuracy: 0.7936 - loss: 0.4343\n",
      "Epoch 64/150\n",
      "\u001b[1m62/62\u001b[0m \u001b[32m━━━━━━━━━━━━━━━━━━━━\u001b[0m\u001b[37m\u001b[0m \u001b[1m0s\u001b[0m 1ms/step - accuracy: 0.8052 - loss: 0.4329\n",
      "Epoch 65/150\n",
      "\u001b[1m62/62\u001b[0m \u001b[32m━━━━━━━━━━━━━━━━━━━━\u001b[0m\u001b[37m\u001b[0m \u001b[1m0s\u001b[0m 1ms/step - accuracy: 0.8042 - loss: 0.4166\n",
      "Epoch 66/150\n",
      "\u001b[1m62/62\u001b[0m \u001b[32m━━━━━━━━━━━━━━━━━━━━\u001b[0m\u001b[37m\u001b[0m \u001b[1m0s\u001b[0m 1ms/step - accuracy: 0.8127 - loss: 0.4076\n",
      "Epoch 67/150\n",
      "\u001b[1m62/62\u001b[0m \u001b[32m━━━━━━━━━━━━━━━━━━━━\u001b[0m\u001b[37m\u001b[0m \u001b[1m0s\u001b[0m 1ms/step - accuracy: 0.8294 - loss: 0.3896\n",
      "Epoch 68/150\n",
      "\u001b[1m62/62\u001b[0m \u001b[32m━━━━━━━━━━━━━━━━━━━━\u001b[0m\u001b[37m\u001b[0m \u001b[1m0s\u001b[0m 1ms/step - accuracy: 0.7995 - loss: 0.4172\n",
      "Epoch 69/150\n",
      "\u001b[1m62/62\u001b[0m \u001b[32m━━━━━━━━━━━━━━━━━━━━\u001b[0m\u001b[37m\u001b[0m \u001b[1m0s\u001b[0m 1ms/step - accuracy: 0.8178 - loss: 0.3982\n",
      "Epoch 70/150\n",
      "\u001b[1m62/62\u001b[0m \u001b[32m━━━━━━━━━━━━━━━━━━━━\u001b[0m\u001b[37m\u001b[0m \u001b[1m0s\u001b[0m 1ms/step - accuracy: 0.8148 - loss: 0.3970\n",
      "Epoch 71/150\n",
      "\u001b[1m62/62\u001b[0m \u001b[32m━━━━━━━━━━━━━━━━━━━━\u001b[0m\u001b[37m\u001b[0m \u001b[1m0s\u001b[0m 1ms/step - accuracy: 0.8018 - loss: 0.4030\n",
      "Epoch 72/150\n",
      "\u001b[1m62/62\u001b[0m \u001b[32m━━━━━━━━━━━━━━━━━━━━\u001b[0m\u001b[37m\u001b[0m \u001b[1m0s\u001b[0m 2ms/step - accuracy: 0.8028 - loss: 0.4082\n",
      "Epoch 73/150\n",
      "\u001b[1m62/62\u001b[0m \u001b[32m━━━━━━━━━━━━━━━━━━━━\u001b[0m\u001b[37m\u001b[0m \u001b[1m0s\u001b[0m 1ms/step - accuracy: 0.8136 - loss: 0.4082\n",
      "Epoch 74/150\n",
      "\u001b[1m62/62\u001b[0m \u001b[32m━━━━━━━━━━━━━━━━━━━━\u001b[0m\u001b[37m\u001b[0m \u001b[1m0s\u001b[0m 1ms/step - accuracy: 0.7738 - loss: 0.4547\n",
      "Epoch 75/150\n",
      "\u001b[1m62/62\u001b[0m \u001b[32m━━━━━━━━━━━━━━━━━━━━\u001b[0m\u001b[37m\u001b[0m \u001b[1m0s\u001b[0m 1ms/step - accuracy: 0.8238 - loss: 0.3886\n",
      "Epoch 76/150\n",
      "\u001b[1m62/62\u001b[0m \u001b[32m━━━━━━━━━━━━━━━━━━━━\u001b[0m\u001b[37m\u001b[0m \u001b[1m0s\u001b[0m 1ms/step - accuracy: 0.8231 - loss: 0.3778\n",
      "Epoch 77/150\n",
      "\u001b[1m62/62\u001b[0m \u001b[32m━━━━━━━━━━━━━━━━━━━━\u001b[0m\u001b[37m\u001b[0m \u001b[1m0s\u001b[0m 1ms/step - accuracy: 0.8079 - loss: 0.4217\n",
      "Epoch 78/150\n",
      "\u001b[1m62/62\u001b[0m \u001b[32m━━━━━━━━━━━━━━━━━━━━\u001b[0m\u001b[37m\u001b[0m \u001b[1m0s\u001b[0m 1ms/step - accuracy: 0.8086 - loss: 0.4199\n",
      "Epoch 79/150\n",
      "\u001b[1m62/62\u001b[0m \u001b[32m━━━━━━━━━━━━━━━━━━━━\u001b[0m\u001b[37m\u001b[0m \u001b[1m0s\u001b[0m 1ms/step - accuracy: 0.8453 - loss: 0.3786\n",
      "Epoch 80/150\n",
      "\u001b[1m62/62\u001b[0m \u001b[32m━━━━━━━━━━━━━━━━━━━━\u001b[0m\u001b[37m\u001b[0m \u001b[1m0s\u001b[0m 1ms/step - accuracy: 0.8023 - loss: 0.4146\n",
      "Epoch 81/150\n",
      "\u001b[1m62/62\u001b[0m \u001b[32m━━━━━━━━━━━━━━━━━━━━\u001b[0m\u001b[37m\u001b[0m \u001b[1m0s\u001b[0m 1ms/step - accuracy: 0.8448 - loss: 0.3628\n",
      "Epoch 82/150\n",
      "\u001b[1m62/62\u001b[0m \u001b[32m━━━━━━━━━━━━━━━━━━━━\u001b[0m\u001b[37m\u001b[0m \u001b[1m0s\u001b[0m 1ms/step - accuracy: 0.8077 - loss: 0.4213\n",
      "Epoch 83/150\n",
      "\u001b[1m62/62\u001b[0m \u001b[32m━━━━━━━━━━━━━━━━━━━━\u001b[0m\u001b[37m\u001b[0m \u001b[1m0s\u001b[0m 1ms/step - accuracy: 0.8097 - loss: 0.3997\n",
      "Epoch 84/150\n",
      "\u001b[1m62/62\u001b[0m \u001b[32m━━━━━━━━━━━━━━━━━━━━\u001b[0m\u001b[37m\u001b[0m \u001b[1m0s\u001b[0m 1ms/step - accuracy: 0.8137 - loss: 0.4024\n",
      "Epoch 85/150\n",
      "\u001b[1m62/62\u001b[0m \u001b[32m━━━━━━━━━━━━━━━━━━━━\u001b[0m\u001b[37m\u001b[0m \u001b[1m0s\u001b[0m 1ms/step - accuracy: 0.8232 - loss: 0.3835\n",
      "Epoch 86/150\n",
      "\u001b[1m62/62\u001b[0m \u001b[32m━━━━━━━━━━━━━━━━━━━━\u001b[0m\u001b[37m\u001b[0m \u001b[1m0s\u001b[0m 1ms/step - accuracy: 0.8197 - loss: 0.3884\n",
      "Epoch 87/150\n",
      "\u001b[1m62/62\u001b[0m \u001b[32m━━━━━━━━━━━━━━━━━━━━\u001b[0m\u001b[37m\u001b[0m \u001b[1m0s\u001b[0m 1ms/step - accuracy: 0.8499 - loss: 0.3588\n",
      "Epoch 88/150\n",
      "\u001b[1m62/62\u001b[0m \u001b[32m━━━━━━━━━━━━━━━━━━━━\u001b[0m\u001b[37m\u001b[0m \u001b[1m0s\u001b[0m 1ms/step - accuracy: 0.7902 - loss: 0.4513\n",
      "Epoch 89/150\n",
      "\u001b[1m62/62\u001b[0m \u001b[32m━━━━━━━━━━━━━━━━━━━━\u001b[0m\u001b[37m\u001b[0m \u001b[1m0s\u001b[0m 1ms/step - accuracy: 0.8077 - loss: 0.4031\n",
      "Epoch 90/150\n",
      "\u001b[1m62/62\u001b[0m \u001b[32m━━━━━━━━━━━━━━━━━━━━\u001b[0m\u001b[37m\u001b[0m \u001b[1m0s\u001b[0m 1ms/step - accuracy: 0.8285 - loss: 0.3663\n",
      "Epoch 91/150\n",
      "\u001b[1m62/62\u001b[0m \u001b[32m━━━━━━━━━━━━━━━━━━━━\u001b[0m\u001b[37m\u001b[0m \u001b[1m0s\u001b[0m 1ms/step - accuracy: 0.8383 - loss: 0.3572\n",
      "Epoch 92/150\n",
      "\u001b[1m62/62\u001b[0m \u001b[32m━━━━━━━━━━━━━━━━━━━━\u001b[0m\u001b[37m\u001b[0m \u001b[1m0s\u001b[0m 1ms/step - accuracy: 0.7988 - loss: 0.3944\n",
      "Epoch 93/150\n",
      "\u001b[1m62/62\u001b[0m \u001b[32m━━━━━━━━━━━━━━━━━━━━\u001b[0m\u001b[37m\u001b[0m \u001b[1m0s\u001b[0m 1ms/step - accuracy: 0.8298 - loss: 0.3720\n",
      "Epoch 94/150\n",
      "\u001b[1m62/62\u001b[0m \u001b[32m━━━━━━━━━━━━━━━━━━━━\u001b[0m\u001b[37m\u001b[0m \u001b[1m0s\u001b[0m 1ms/step - accuracy: 0.8180 - loss: 0.3989\n",
      "Epoch 95/150\n",
      "\u001b[1m62/62\u001b[0m \u001b[32m━━━━━━━━━━━━━━━━━━━━\u001b[0m\u001b[37m\u001b[0m \u001b[1m0s\u001b[0m 1ms/step - accuracy: 0.8226 - loss: 0.3853\n",
      "Epoch 96/150\n",
      "\u001b[1m62/62\u001b[0m \u001b[32m━━━━━━━━━━━━━━━━━━━━\u001b[0m\u001b[37m\u001b[0m \u001b[1m0s\u001b[0m 1ms/step - accuracy: 0.8412 - loss: 0.3504\n",
      "Epoch 97/150\n",
      "\u001b[1m62/62\u001b[0m \u001b[32m━━━━━━━━━━━━━━━━━━━━\u001b[0m\u001b[37m\u001b[0m \u001b[1m0s\u001b[0m 1ms/step - accuracy: 0.8000 - loss: 0.3935\n",
      "Epoch 98/150\n",
      "\u001b[1m62/62\u001b[0m \u001b[32m━━━━━━━━━━━━━━━━━━━━\u001b[0m\u001b[37m\u001b[0m \u001b[1m0s\u001b[0m 1ms/step - accuracy: 0.8154 - loss: 0.3897\n",
      "Epoch 99/150\n",
      "\u001b[1m62/62\u001b[0m \u001b[32m━━━━━━━━━━━━━━━━━━━━\u001b[0m\u001b[37m\u001b[0m \u001b[1m0s\u001b[0m 1ms/step - accuracy: 0.8354 - loss: 0.3688\n",
      "Epoch 100/150\n",
      "\u001b[1m62/62\u001b[0m \u001b[32m━━━━━━━━━━━━━━━━━━━━\u001b[0m\u001b[37m\u001b[0m \u001b[1m0s\u001b[0m 1ms/step - accuracy: 0.8191 - loss: 0.3770\n",
      "Epoch 101/150\n",
      "\u001b[1m62/62\u001b[0m \u001b[32m━━━━━━━━━━━━━━━━━━━━\u001b[0m\u001b[37m\u001b[0m \u001b[1m0s\u001b[0m 1ms/step - accuracy: 0.8423 - loss: 0.3747\n",
      "Epoch 102/150\n",
      "\u001b[1m62/62\u001b[0m \u001b[32m━━━━━━━━━━━━━━━━━━━━\u001b[0m\u001b[37m\u001b[0m \u001b[1m0s\u001b[0m 1ms/step - accuracy: 0.8340 - loss: 0.3683\n",
      "Epoch 103/150\n",
      "\u001b[1m62/62\u001b[0m \u001b[32m━━━━━━━━━━━━━━━━━━━━\u001b[0m\u001b[37m\u001b[0m \u001b[1m0s\u001b[0m 1ms/step - accuracy: 0.8193 - loss: 0.3832\n",
      "Epoch 104/150\n",
      "\u001b[1m62/62\u001b[0m \u001b[32m━━━━━━━━━━━━━━━━━━━━\u001b[0m\u001b[37m\u001b[0m \u001b[1m0s\u001b[0m 1ms/step - accuracy: 0.8147 - loss: 0.4065\n",
      "Epoch 105/150\n",
      "\u001b[1m62/62\u001b[0m \u001b[32m━━━━━━━━━━━━━━━━━━━━\u001b[0m\u001b[37m\u001b[0m \u001b[1m0s\u001b[0m 1ms/step - accuracy: 0.8314 - loss: 0.3961\n",
      "Epoch 106/150\n",
      "\u001b[1m62/62\u001b[0m \u001b[32m━━━━━━━━━━━━━━━━━━━━\u001b[0m\u001b[37m\u001b[0m \u001b[1m0s\u001b[0m 1ms/step - accuracy: 0.8182 - loss: 0.3892\n",
      "Epoch 107/150\n",
      "\u001b[1m62/62\u001b[0m \u001b[32m━━━━━━━━━━━━━━━━━━━━\u001b[0m\u001b[37m\u001b[0m \u001b[1m0s\u001b[0m 1ms/step - accuracy: 0.8253 - loss: 0.3500\n",
      "Epoch 108/150\n",
      "\u001b[1m62/62\u001b[0m \u001b[32m━━━━━━━━━━━━━━━━━━━━\u001b[0m\u001b[37m\u001b[0m \u001b[1m0s\u001b[0m 1ms/step - accuracy: 0.8659 - loss: 0.3413\n",
      "Epoch 109/150\n",
      "\u001b[1m62/62\u001b[0m \u001b[32m━━━━━━━━━━━━━━━━━━━━\u001b[0m\u001b[37m\u001b[0m \u001b[1m0s\u001b[0m 1ms/step - accuracy: 0.8322 - loss: 0.4014\n",
      "Epoch 110/150\n",
      "\u001b[1m62/62\u001b[0m \u001b[32m━━━━━━━━━━━━━━━━━━━━\u001b[0m\u001b[37m\u001b[0m \u001b[1m0s\u001b[0m 1ms/step - accuracy: 0.8304 - loss: 0.3825\n",
      "Epoch 111/150\n",
      "\u001b[1m62/62\u001b[0m \u001b[32m━━━━━━━━━━━━━━━━━━━━\u001b[0m\u001b[37m\u001b[0m \u001b[1m0s\u001b[0m 1ms/step - accuracy: 0.8467 - loss: 0.3649\n",
      "Epoch 112/150\n",
      "\u001b[1m62/62\u001b[0m \u001b[32m━━━━━━━━━━━━━━━━━━━━\u001b[0m\u001b[37m\u001b[0m \u001b[1m0s\u001b[0m 1ms/step - accuracy: 0.8326 - loss: 0.3645\n",
      "Epoch 113/150\n",
      "\u001b[1m62/62\u001b[0m \u001b[32m━━━━━━━━━━━━━━━━━━━━\u001b[0m\u001b[37m\u001b[0m \u001b[1m0s\u001b[0m 1ms/step - accuracy: 0.8113 - loss: 0.4076\n",
      "Epoch 114/150\n",
      "\u001b[1m62/62\u001b[0m \u001b[32m━━━━━━━━━━━━━━━━━━━━\u001b[0m\u001b[37m\u001b[0m \u001b[1m0s\u001b[0m 1ms/step - accuracy: 0.8010 - loss: 0.3916\n",
      "Epoch 115/150\n",
      "\u001b[1m62/62\u001b[0m \u001b[32m━━━━━━━━━━━━━━━━━━━━\u001b[0m\u001b[37m\u001b[0m \u001b[1m0s\u001b[0m 1ms/step - accuracy: 0.8272 - loss: 0.3831\n",
      "Epoch 116/150\n",
      "\u001b[1m62/62\u001b[0m \u001b[32m━━━━━━━━━━━━━━━━━━━━\u001b[0m\u001b[37m\u001b[0m \u001b[1m0s\u001b[0m 1ms/step - accuracy: 0.8141 - loss: 0.3906\n",
      "Epoch 117/150\n",
      "\u001b[1m62/62\u001b[0m \u001b[32m━━━━━━━━━━━━━━━━━━━━\u001b[0m\u001b[37m\u001b[0m \u001b[1m0s\u001b[0m 1ms/step - accuracy: 0.8199 - loss: 0.3830\n",
      "Epoch 118/150\n",
      "\u001b[1m62/62\u001b[0m \u001b[32m━━━━━━━━━━━━━━━━━━━━\u001b[0m\u001b[37m\u001b[0m \u001b[1m0s\u001b[0m 1ms/step - accuracy: 0.8504 - loss: 0.3667\n",
      "Epoch 119/150\n",
      "\u001b[1m62/62\u001b[0m \u001b[32m━━━━━━━━━━━━━━━━━━━━\u001b[0m\u001b[37m\u001b[0m \u001b[1m0s\u001b[0m 1ms/step - accuracy: 0.8367 - loss: 0.3627\n",
      "Epoch 120/150\n",
      "\u001b[1m62/62\u001b[0m \u001b[32m━━━━━━━━━━━━━━━━━━━━\u001b[0m\u001b[37m\u001b[0m \u001b[1m0s\u001b[0m 1ms/step - accuracy: 0.8296 - loss: 0.3772\n",
      "Epoch 121/150\n",
      "\u001b[1m62/62\u001b[0m \u001b[32m━━━━━━━━━━━━━━━━━━━━\u001b[0m\u001b[37m\u001b[0m \u001b[1m0s\u001b[0m 1ms/step - accuracy: 0.8353 - loss: 0.3794\n",
      "Epoch 122/150\n",
      "\u001b[1m62/62\u001b[0m \u001b[32m━━━━━━━━━━━━━━━━━━━━\u001b[0m\u001b[37m\u001b[0m \u001b[1m0s\u001b[0m 1ms/step - accuracy: 0.8297 - loss: 0.3571\n",
      "Epoch 123/150\n",
      "\u001b[1m62/62\u001b[0m \u001b[32m━━━━━━━━━━━━━━━━━━━━\u001b[0m\u001b[37m\u001b[0m \u001b[1m0s\u001b[0m 1ms/step - accuracy: 0.8484 - loss: 0.3535\n",
      "Epoch 124/150\n",
      "\u001b[1m62/62\u001b[0m \u001b[32m━━━━━━━━━━━━━━━━━━━━\u001b[0m\u001b[37m\u001b[0m \u001b[1m0s\u001b[0m 1ms/step - accuracy: 0.8447 - loss: 0.3602\n",
      "Epoch 125/150\n",
      "\u001b[1m62/62\u001b[0m \u001b[32m━━━━━━━━━━━━━━━━━━━━\u001b[0m\u001b[37m\u001b[0m \u001b[1m0s\u001b[0m 1ms/step - accuracy: 0.8298 - loss: 0.3797\n",
      "Epoch 126/150\n",
      "\u001b[1m62/62\u001b[0m \u001b[32m━━━━━━━━━━━━━━━━━━━━\u001b[0m\u001b[37m\u001b[0m \u001b[1m0s\u001b[0m 1ms/step - accuracy: 0.8460 - loss: 0.3764\n",
      "Epoch 127/150\n",
      "\u001b[1m62/62\u001b[0m \u001b[32m━━━━━━━━━━━━━━━━━━━━\u001b[0m\u001b[37m\u001b[0m \u001b[1m0s\u001b[0m 1ms/step - accuracy: 0.8485 - loss: 0.3848\n",
      "Epoch 128/150\n",
      "\u001b[1m62/62\u001b[0m \u001b[32m━━━━━━━━━━━━━━━━━━━━\u001b[0m\u001b[37m\u001b[0m \u001b[1m0s\u001b[0m 1ms/step - accuracy: 0.8584 - loss: 0.3492\n",
      "Epoch 129/150\n",
      "\u001b[1m62/62\u001b[0m \u001b[32m━━━━━━━━━━━━━━━━━━━━\u001b[0m\u001b[37m\u001b[0m \u001b[1m0s\u001b[0m 1ms/step - accuracy: 0.8226 - loss: 0.4018\n",
      "Epoch 130/150\n",
      "\u001b[1m62/62\u001b[0m \u001b[32m━━━━━━━━━━━━━━━━━━━━\u001b[0m\u001b[37m\u001b[0m \u001b[1m0s\u001b[0m 1ms/step - accuracy: 0.8240 - loss: 0.3800\n",
      "Epoch 131/150\n",
      "\u001b[1m62/62\u001b[0m \u001b[32m━━━━━━━━━━━━━━━━━━━━\u001b[0m\u001b[37m\u001b[0m \u001b[1m0s\u001b[0m 1ms/step - accuracy: 0.8371 - loss: 0.3631\n",
      "Epoch 132/150\n",
      "\u001b[1m62/62\u001b[0m \u001b[32m━━━━━━━━━━━━━━━━━━━━\u001b[0m\u001b[37m\u001b[0m \u001b[1m0s\u001b[0m 1ms/step - accuracy: 0.8281 - loss: 0.3818\n",
      "Epoch 133/150\n",
      "\u001b[1m62/62\u001b[0m \u001b[32m━━━━━━━━━━━━━━━━━━━━\u001b[0m\u001b[37m\u001b[0m \u001b[1m0s\u001b[0m 1ms/step - accuracy: 0.8155 - loss: 0.3828\n",
      "Epoch 134/150\n",
      "\u001b[1m62/62\u001b[0m \u001b[32m━━━━━━━━━━━━━━━━━━━━\u001b[0m\u001b[37m\u001b[0m \u001b[1m0s\u001b[0m 1ms/step - accuracy: 0.8519 - loss: 0.3380\n",
      "Epoch 135/150\n",
      "\u001b[1m62/62\u001b[0m \u001b[32m━━━━━━━━━━━━━━━━━━━━\u001b[0m\u001b[37m\u001b[0m \u001b[1m0s\u001b[0m 1ms/step - accuracy: 0.8390 - loss: 0.3662\n",
      "Epoch 136/150\n",
      "\u001b[1m62/62\u001b[0m \u001b[32m━━━━━━━━━━━━━━━━━━━━\u001b[0m\u001b[37m\u001b[0m \u001b[1m0s\u001b[0m 1ms/step - accuracy: 0.8406 - loss: 0.3596\n",
      "Epoch 137/150\n",
      "\u001b[1m62/62\u001b[0m \u001b[32m━━━━━━━━━━━━━━━━━━━━\u001b[0m\u001b[37m\u001b[0m \u001b[1m0s\u001b[0m 1ms/step - accuracy: 0.8267 - loss: 0.3867\n",
      "Epoch 138/150\n",
      "\u001b[1m62/62\u001b[0m \u001b[32m━━━━━━━━━━━━━━━━━━━━\u001b[0m\u001b[37m\u001b[0m \u001b[1m0s\u001b[0m 1ms/step - accuracy: 0.8291 - loss: 0.3827\n",
      "Epoch 139/150\n",
      "\u001b[1m62/62\u001b[0m \u001b[32m━━━━━━━━━━━━━━━━━━━━\u001b[0m\u001b[37m\u001b[0m \u001b[1m0s\u001b[0m 1ms/step - accuracy: 0.8266 - loss: 0.3810\n",
      "Epoch 140/150\n",
      "\u001b[1m62/62\u001b[0m \u001b[32m━━━━━━━━━━━━━━━━━━━━\u001b[0m\u001b[37m\u001b[0m \u001b[1m0s\u001b[0m 1ms/step - accuracy: 0.8473 - loss: 0.3768\n",
      "Epoch 141/150\n",
      "\u001b[1m62/62\u001b[0m \u001b[32m━━━━━━━━━━━━━━━━━━━━\u001b[0m\u001b[37m\u001b[0m \u001b[1m0s\u001b[0m 1ms/step - accuracy: 0.8689 - loss: 0.3685\n",
      "Epoch 142/150\n",
      "\u001b[1m62/62\u001b[0m \u001b[32m━━━━━━━━━━━━━━━━━━━━\u001b[0m\u001b[37m\u001b[0m \u001b[1m0s\u001b[0m 1ms/step - accuracy: 0.8457 - loss: 0.3691\n",
      "Epoch 143/150\n",
      "\u001b[1m62/62\u001b[0m \u001b[32m━━━━━━━━━━━━━━━━━━━━\u001b[0m\u001b[37m\u001b[0m \u001b[1m0s\u001b[0m 1ms/step - accuracy: 0.8587 - loss: 0.3517\n",
      "Epoch 144/150\n",
      "\u001b[1m62/62\u001b[0m \u001b[32m━━━━━━━━━━━━━━━━━━━━\u001b[0m\u001b[37m\u001b[0m \u001b[1m0s\u001b[0m 2ms/step - accuracy: 0.8415 - loss: 0.3846\n",
      "Epoch 145/150\n",
      "\u001b[1m62/62\u001b[0m \u001b[32m━━━━━━━━━━━━━━━━━━━━\u001b[0m\u001b[37m\u001b[0m \u001b[1m0s\u001b[0m 2ms/step - accuracy: 0.8685 - loss: 0.3401\n",
      "Epoch 146/150\n",
      "\u001b[1m62/62\u001b[0m \u001b[32m━━━━━━━━━━━━━━━━━━━━\u001b[0m\u001b[37m\u001b[0m \u001b[1m0s\u001b[0m 2ms/step - accuracy: 0.8670 - loss: 0.3313\n",
      "Epoch 147/150\n",
      "\u001b[1m62/62\u001b[0m \u001b[32m━━━━━━━━━━━━━━━━━━━━\u001b[0m\u001b[37m\u001b[0m \u001b[1m0s\u001b[0m 2ms/step - accuracy: 0.8200 - loss: 0.4027\n",
      "Epoch 148/150\n",
      "\u001b[1m62/62\u001b[0m \u001b[32m━━━━━━━━━━━━━━━━━━━━\u001b[0m\u001b[37m\u001b[0m \u001b[1m0s\u001b[0m 2ms/step - accuracy: 0.8335 - loss: 0.3832\n",
      "Epoch 149/150\n",
      "\u001b[1m62/62\u001b[0m \u001b[32m━━━━━━━━━━━━━━━━━━━━\u001b[0m\u001b[37m\u001b[0m \u001b[1m0s\u001b[0m 2ms/step - accuracy: 0.8349 - loss: 0.3655\n",
      "Epoch 150/150\n",
      "\u001b[1m62/62\u001b[0m \u001b[32m━━━━━━━━━━━━━━━━━━━━\u001b[0m\u001b[37m\u001b[0m \u001b[1m0s\u001b[0m 1ms/step - accuracy: 0.8592 - loss: 0.3612\n"
     ]
    },
    {
     "data": {
      "text/plain": [
       "<keras.src.callbacks.history.History at 0x188d72ea110>"
      ]
     },
     "execution_count": 18,
     "metadata": {},
     "output_type": "execute_result"
    }
   ],
   "source": [
    "ann.fit(X_train, y_train, batch_size = 10, epochs = 150)"
   ]
  },
  {
   "cell_type": "markdown",
   "metadata": {
    "colab_type": "text",
    "id": "tJj5k2MxZga3"
   },
   "source": [
    "## Part 4 - Making the predictions and evaluating the model"
   ]
  },
  {
   "cell_type": "markdown",
   "metadata": {
    "colab_type": "text",
    "id": "u7yx47jPZt11"
   },
   "source": [
    "### Predicting the Test set results"
   ]
  },
  {
   "cell_type": "code",
   "execution_count": 19,
   "metadata": {
    "colab": {
     "base_uri": "https://localhost:8080/",
     "height": 137
    },
    "colab_type": "code",
    "id": "nIyEeQdRZwgs",
    "outputId": "82330ba8-9bdc-4fd1-d3cf-b6d78ee7c2a3",
    "scrolled": true
   },
   "outputs": [
    {
     "name": "stdout",
     "output_type": "stream",
     "text": [
      "\u001b[1m5/5\u001b[0m \u001b[32m━━━━━━━━━━━━━━━━━━━━\u001b[0m\u001b[37m\u001b[0m \u001b[1m0s\u001b[0m 17ms/step\n"
     ]
    },
    {
     "data": {
      "text/plain": [
       "array([[6.01257198e-03],\n",
       "       [8.62467468e-01],\n",
       "       [8.79754424e-01],\n",
       "       [9.45105076e-01],\n",
       "       [2.13867202e-01],\n",
       "       [2.86339253e-01],\n",
       "       [7.51182530e-03],\n",
       "       [5.44660091e-02],\n",
       "       [4.75418329e-01],\n",
       "       [5.09255052e-01],\n",
       "       [7.26761147e-02],\n",
       "       [7.33582020e-01],\n",
       "       [1.46722615e-01],\n",
       "       [2.05521822e-01],\n",
       "       [3.10891075e-03],\n",
       "       [9.82896890e-03],\n",
       "       [1.75697938e-01],\n",
       "       [2.40837499e-01],\n",
       "       [2.10779086e-01],\n",
       "       [1.00776404e-01],\n",
       "       [5.21107763e-02],\n",
       "       [1.09754037e-02],\n",
       "       [4.61031973e-01],\n",
       "       [8.99953902e-01],\n",
       "       [6.88705519e-02],\n",
       "       [1.08404711e-01],\n",
       "       [1.93692684e-01],\n",
       "       [6.42425776e-01],\n",
       "       [2.06502333e-01],\n",
       "       [1.45678133e-01],\n",
       "       [2.24624366e-01],\n",
       "       [2.17810109e-01],\n",
       "       [1.09897880e-02],\n",
       "       [1.39106244e-01],\n",
       "       [2.45019998e-02],\n",
       "       [9.60466862e-01],\n",
       "       [1.39182732e-01],\n",
       "       [1.77608326e-01],\n",
       "       [8.24990720e-02],\n",
       "       [1.47904232e-01],\n",
       "       [1.45864785e-01],\n",
       "       [4.37314600e-01],\n",
       "       [8.38834047e-01],\n",
       "       [7.45301723e-01],\n",
       "       [5.24734007e-03],\n",
       "       [5.24769118e-03],\n",
       "       [3.58967334e-01],\n",
       "       [7.61623919e-01],\n",
       "       [7.94417500e-01],\n",
       "       [6.54500723e-01],\n",
       "       [2.11270005e-01],\n",
       "       [3.43380868e-01],\n",
       "       [7.36554861e-01],\n",
       "       [7.35813320e-01],\n",
       "       [4.69617099e-01],\n",
       "       [5.02864361e-01],\n",
       "       [8.77812430e-02],\n",
       "       [8.34233701e-01],\n",
       "       [1.46074533e-01],\n",
       "       [1.90709040e-01],\n",
       "       [7.48115122e-01],\n",
       "       [3.69311273e-01],\n",
       "       [9.64663923e-01],\n",
       "       [4.89974320e-02],\n",
       "       [5.91399252e-01],\n",
       "       [4.53821480e-01],\n",
       "       [1.65583082e-02],\n",
       "       [2.23619699e-01],\n",
       "       [9.22566831e-01],\n",
       "       [7.01942086e-01],\n",
       "       [7.62146354e-01],\n",
       "       [6.22586370e-01],\n",
       "       [2.57361084e-01],\n",
       "       [2.18362957e-01],\n",
       "       [1.27378061e-01],\n",
       "       [7.89388061e-01],\n",
       "       [8.45478661e-03],\n",
       "       [1.15498148e-01],\n",
       "       [6.28206253e-01],\n",
       "       [8.15279633e-02],\n",
       "       [2.18409561e-02],\n",
       "       [2.42935057e-04],\n",
       "       [8.92650615e-03],\n",
       "       [5.29708900e-03],\n",
       "       [5.38190782e-01],\n",
       "       [2.18262985e-01],\n",
       "       [4.55554903e-01],\n",
       "       [1.62118778e-01],\n",
       "       [1.76684320e-01],\n",
       "       [2.82928884e-01],\n",
       "       [1.24285743e-01],\n",
       "       [4.19369042e-02],\n",
       "       [4.20229524e-01],\n",
       "       [9.60516036e-01],\n",
       "       [4.44045395e-01],\n",
       "       [8.38020980e-01],\n",
       "       [3.05835932e-01],\n",
       "       [9.35010612e-01],\n",
       "       [2.15167087e-03],\n",
       "       [7.02396259e-02],\n",
       "       [5.76235414e-01],\n",
       "       [2.27155805e-01],\n",
       "       [5.93960285e-01],\n",
       "       [5.52483320e-01],\n",
       "       [2.80234486e-01],\n",
       "       [3.93758833e-01],\n",
       "       [2.88193626e-03],\n",
       "       [5.33890426e-01],\n",
       "       [7.10210204e-02],\n",
       "       [1.45326555e-02],\n",
       "       [2.49676183e-01],\n",
       "       [9.46319222e-01],\n",
       "       [1.52761703e-02],\n",
       "       [9.18968201e-01],\n",
       "       [1.02833144e-01],\n",
       "       [3.79102603e-02],\n",
       "       [6.03087768e-02],\n",
       "       [2.85333884e-03],\n",
       "       [5.13467073e-01],\n",
       "       [3.32159996e-02],\n",
       "       [8.12933445e-01],\n",
       "       [6.29617929e-01],\n",
       "       [3.01104784e-01],\n",
       "       [3.78920853e-01],\n",
       "       [3.51884365e-01],\n",
       "       [5.24572730e-02],\n",
       "       [5.96256375e-01],\n",
       "       [7.10291490e-02],\n",
       "       [4.64207269e-02],\n",
       "       [1.07609950e-01],\n",
       "       [8.05676460e-01],\n",
       "       [8.67913961e-01],\n",
       "       [3.80864859e-01],\n",
       "       [7.42858887e-01],\n",
       "       [5.96622348e-01],\n",
       "       [6.63061202e-01],\n",
       "       [1.60520777e-01],\n",
       "       [5.58663439e-03],\n",
       "       [9.60731355e-04],\n",
       "       [2.84906387e-01],\n",
       "       [1.35496445e-02],\n",
       "       [6.66404590e-02],\n",
       "       [6.78972960e-01],\n",
       "       [3.37061256e-01],\n",
       "       [2.71466305e-03],\n",
       "       [4.83614504e-01],\n",
       "       [8.02535832e-01],\n",
       "       [9.15873766e-01],\n",
       "       [3.97487879e-01],\n",
       "       [3.91243428e-01],\n",
       "       [5.48824906e-01],\n",
       "       [2.50074044e-02],\n",
       "       [9.21827089e-03],\n",
       "       [1.23360706e-02]], dtype=float32)"
      ]
     },
     "execution_count": 19,
     "metadata": {},
     "output_type": "execute_result"
    }
   ],
   "source": [
    "y_pred = ann.predict(X_test)\n",
    "y_pred"
   ]
  },
  {
   "cell_type": "code",
   "execution_count": 20,
   "metadata": {},
   "outputs": [
    {
     "data": {
      "text/plain": [
       "array([[False],\n",
       "       [ True],\n",
       "       [ True],\n",
       "       [ True],\n",
       "       [False],\n",
       "       [False],\n",
       "       [False],\n",
       "       [False],\n",
       "       [False],\n",
       "       [ True],\n",
       "       [False],\n",
       "       [ True],\n",
       "       [False],\n",
       "       [False],\n",
       "       [False],\n",
       "       [False],\n",
       "       [False],\n",
       "       [False],\n",
       "       [False],\n",
       "       [False],\n",
       "       [False],\n",
       "       [False],\n",
       "       [False],\n",
       "       [ True],\n",
       "       [False],\n",
       "       [False],\n",
       "       [False],\n",
       "       [ True],\n",
       "       [False],\n",
       "       [False],\n",
       "       [False],\n",
       "       [False],\n",
       "       [False],\n",
       "       [False],\n",
       "       [False],\n",
       "       [ True],\n",
       "       [False],\n",
       "       [False],\n",
       "       [False],\n",
       "       [False],\n",
       "       [False],\n",
       "       [False],\n",
       "       [ True],\n",
       "       [ True],\n",
       "       [False],\n",
       "       [False],\n",
       "       [False],\n",
       "       [ True],\n",
       "       [ True],\n",
       "       [ True],\n",
       "       [False],\n",
       "       [False],\n",
       "       [ True],\n",
       "       [ True],\n",
       "       [False],\n",
       "       [ True],\n",
       "       [False],\n",
       "       [ True],\n",
       "       [False],\n",
       "       [False],\n",
       "       [ True],\n",
       "       [False],\n",
       "       [ True],\n",
       "       [False],\n",
       "       [ True],\n",
       "       [False],\n",
       "       [False],\n",
       "       [False],\n",
       "       [ True],\n",
       "       [ True],\n",
       "       [ True],\n",
       "       [ True],\n",
       "       [False],\n",
       "       [False],\n",
       "       [False],\n",
       "       [ True],\n",
       "       [False],\n",
       "       [False],\n",
       "       [ True],\n",
       "       [False],\n",
       "       [False],\n",
       "       [False],\n",
       "       [False],\n",
       "       [False],\n",
       "       [ True],\n",
       "       [False],\n",
       "       [False],\n",
       "       [False],\n",
       "       [False],\n",
       "       [False],\n",
       "       [False],\n",
       "       [False],\n",
       "       [False],\n",
       "       [ True],\n",
       "       [False],\n",
       "       [ True],\n",
       "       [False],\n",
       "       [ True],\n",
       "       [False],\n",
       "       [False],\n",
       "       [ True],\n",
       "       [False],\n",
       "       [ True],\n",
       "       [ True],\n",
       "       [False],\n",
       "       [False],\n",
       "       [False],\n",
       "       [ True],\n",
       "       [False],\n",
       "       [False],\n",
       "       [False],\n",
       "       [ True],\n",
       "       [False],\n",
       "       [ True],\n",
       "       [False],\n",
       "       [False],\n",
       "       [False],\n",
       "       [False],\n",
       "       [ True],\n",
       "       [False],\n",
       "       [ True],\n",
       "       [ True],\n",
       "       [False],\n",
       "       [False],\n",
       "       [False],\n",
       "       [False],\n",
       "       [ True],\n",
       "       [False],\n",
       "       [False],\n",
       "       [False],\n",
       "       [ True],\n",
       "       [ True],\n",
       "       [False],\n",
       "       [ True],\n",
       "       [ True],\n",
       "       [ True],\n",
       "       [False],\n",
       "       [False],\n",
       "       [False],\n",
       "       [False],\n",
       "       [False],\n",
       "       [False],\n",
       "       [ True],\n",
       "       [False],\n",
       "       [False],\n",
       "       [False],\n",
       "       [ True],\n",
       "       [ True],\n",
       "       [False],\n",
       "       [False],\n",
       "       [ True],\n",
       "       [False],\n",
       "       [False],\n",
       "       [False]])"
      ]
     },
     "execution_count": 20,
     "metadata": {},
     "output_type": "execute_result"
    }
   ],
   "source": [
    "y_pred = (y_pred > 0.5)\n",
    "y_pred"
   ]
  },
  {
   "cell_type": "code",
   "execution_count": 21,
   "metadata": {},
   "outputs": [
    {
     "data": {
      "text/plain": [
       "348    0\n",
       "424    1\n",
       "546    1\n",
       "235    1\n",
       "451    1\n",
       "      ..\n",
       "217    0\n",
       "246    0\n",
       "1      0\n",
       "134    0\n",
       "553    0\n",
       "Name: Outcome, Length: 154, dtype: int64"
      ]
     },
     "execution_count": 21,
     "metadata": {},
     "output_type": "execute_result"
    }
   ],
   "source": [
    "y_test"
   ]
  },
  {
   "cell_type": "markdown",
   "metadata": {
    "colab_type": "text",
    "id": "o0oyfLWoaEGw"
   },
   "source": [
    "### Making the Confusion Matrix"
   ]
  },
  {
   "cell_type": "code",
   "execution_count": 22,
   "metadata": {
    "colab": {
     "base_uri": "https://localhost:8080/",
     "height": 68
    },
    "colab_type": "code",
    "id": "ci6K_r6LaF6P",
    "outputId": "4d854e9e-22d5-432f-f6e5-a102fe3ae0bd"
   },
   "outputs": [
    {
     "name": "stdout",
     "output_type": "stream",
     "text": [
      "[[86 17]\n",
      " [19 32]]\n"
     ]
    },
    {
     "data": {
      "text/plain": [
       "0.7662337662337663"
      ]
     },
     "execution_count": 22,
     "metadata": {},
     "output_type": "execute_result"
    }
   ],
   "source": [
    "from sklearn.metrics import confusion_matrix, accuracy_score\n",
    "cm = confusion_matrix(y_test, y_pred)\n",
    "print(cm)\n",
    "accuracy_score(y_test, y_pred)"
   ]
  },
  {
   "cell_type": "code",
   "execution_count": 23,
   "metadata": {
    "scrolled": true
   },
   "outputs": [
    {
     "name": "stdout",
     "output_type": "stream",
     "text": [
      "\u001b[1m5/5\u001b[0m \u001b[32m━━━━━━━━━━━━━━━━━━━━\u001b[0m\u001b[37m\u001b[0m \u001b[1m0s\u001b[0m 4ms/step - accuracy: 0.7732 - loss: 0.4754  \n",
      "Test loss: 0.4656040072441101\n",
      "Test accuracy: 0.7662337422370911\n"
     ]
    }
   ],
   "source": [
    "# Evaluate the model on test data\n",
    "loss, accuracy = ann.evaluate(X_test, y_test)\n",
    "print(f'Test loss: {loss}')\n",
    "print(f'Test accuracy: {accuracy}')"
   ]
  },
  {
   "cell_type": "code",
   "execution_count": null,
   "metadata": {},
   "outputs": [],
   "source": []
  }
 ],
 "metadata": {
  "colab": {
   "collapsed_sections": [],
   "name": "artificial_neural_network.ipynb",
   "provenance": [],
   "toc_visible": true
  },
  "kernelspec": {
   "display_name": "Python 3 (ipykernel)",
   "language": "python",
   "name": "python3"
  },
  "language_info": {
   "codemirror_mode": {
    "name": "ipython",
    "version": 3
   },
   "file_extension": ".py",
   "mimetype": "text/x-python",
   "name": "python",
   "nbconvert_exporter": "python",
   "pygments_lexer": "ipython3",
   "version": "3.11.7"
  }
 },
 "nbformat": 4,
 "nbformat_minor": 4
}
